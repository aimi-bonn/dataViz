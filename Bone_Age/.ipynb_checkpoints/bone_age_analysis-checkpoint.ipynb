{
 "cells": [
  {
   "cell_type": "code",
   "execution_count": 21,
   "metadata": {},
   "outputs": [],
   "source": [
    "import numpy as np\n",
    "import pandas as pd\n",
    "import plotly.express as px"
   ]
  },
  {
   "cell_type": "code",
   "execution_count": 22,
   "metadata": {},
   "outputs": [],
   "source": [
    "data=pd.read_csv(\"/Users/javanmardi/Sciebo_Xray_PBOX/paper/output/predicted_dis_bone_ages_2_graders.csv\", sep=',', header=0)"
   ]
  },
  {
   "cell_type": "code",
   "execution_count": 23,
   "metadata": {},
   "outputs": [
    {
     "data": {
      "text/html": [
       "<div>\n",
       "<style scoped>\n",
       "    .dataframe tbody tr th:only-of-type {\n",
       "        vertical-align: middle;\n",
       "    }\n",
       "\n",
       "    .dataframe tbody tr th {\n",
       "        vertical-align: top;\n",
       "    }\n",
       "\n",
       "    .dataframe thead th {\n",
       "        text-align: right;\n",
       "    }\n",
       "</style>\n",
       "<table border=\"1\" class=\"dataframe\">\n",
       "  <thead>\n",
       "    <tr style=\"text-align: right;\">\n",
       "      <th></th>\n",
       "      <th>Unnamed: 0</th>\n",
       "      <th>image_ID</th>\n",
       "      <th>sex</th>\n",
       "      <th>disorder</th>\n",
       "      <th>y_hat</th>\n",
       "      <th>chronological_age</th>\n",
       "      <th>clinical_ba</th>\n",
       "      <th>AK1</th>\n",
       "      <th>KM1</th>\n",
       "      <th>bone_age</th>\n",
       "      <th>ba_two_raters</th>\n",
       "      <th>first_rating</th>\n",
       "      <th>second_rating</th>\n",
       "    </tr>\n",
       "  </thead>\n",
       "  <tbody>\n",
       "    <tr>\n",
       "      <th>0</th>\n",
       "      <td>0</td>\n",
       "      <td>uts_magd_00000.png</td>\n",
       "      <td>F</td>\n",
       "      <td>UTS</td>\n",
       "      <td>182.167860</td>\n",
       "      <td>182</td>\n",
       "      <td>NaN</td>\n",
       "      <td>NaN</td>\n",
       "      <td>180.0</td>\n",
       "      <td>180.0</td>\n",
       "      <td>NaN</td>\n",
       "      <td>180.0</td>\n",
       "      <td>180.0</td>\n",
       "    </tr>\n",
       "    <tr>\n",
       "      <th>1</th>\n",
       "      <td>1</td>\n",
       "      <td>uts_magd_00001.png</td>\n",
       "      <td>F</td>\n",
       "      <td>UTS</td>\n",
       "      <td>149.274546</td>\n",
       "      <td>151</td>\n",
       "      <td>NaN</td>\n",
       "      <td>NaN</td>\n",
       "      <td>150.0</td>\n",
       "      <td>150.0</td>\n",
       "      <td>NaN</td>\n",
       "      <td>150.0</td>\n",
       "      <td>150.0</td>\n",
       "    </tr>\n",
       "    <tr>\n",
       "      <th>2</th>\n",
       "      <td>2</td>\n",
       "      <td>uts_magd_00002.png</td>\n",
       "      <td>F</td>\n",
       "      <td>UTS</td>\n",
       "      <td>166.508785</td>\n",
       "      <td>163</td>\n",
       "      <td>168.0</td>\n",
       "      <td>NaN</td>\n",
       "      <td>NaN</td>\n",
       "      <td>168.0</td>\n",
       "      <td>NaN</td>\n",
       "      <td>168.0</td>\n",
       "      <td>NaN</td>\n",
       "    </tr>\n",
       "    <tr>\n",
       "      <th>3</th>\n",
       "      <td>3</td>\n",
       "      <td>uts_magd_00003.png</td>\n",
       "      <td>F</td>\n",
       "      <td>UTS</td>\n",
       "      <td>171.412118</td>\n",
       "      <td>179</td>\n",
       "      <td>NaN</td>\n",
       "      <td>NaN</td>\n",
       "      <td>174.0</td>\n",
       "      <td>174.0</td>\n",
       "      <td>NaN</td>\n",
       "      <td>174.0</td>\n",
       "      <td>174.0</td>\n",
       "    </tr>\n",
       "    <tr>\n",
       "      <th>4</th>\n",
       "      <td>4</td>\n",
       "      <td>uts_magd_00004.png</td>\n",
       "      <td>F</td>\n",
       "      <td>UTS</td>\n",
       "      <td>171.827975</td>\n",
       "      <td>176</td>\n",
       "      <td>NaN</td>\n",
       "      <td>NaN</td>\n",
       "      <td>174.0</td>\n",
       "      <td>174.0</td>\n",
       "      <td>NaN</td>\n",
       "      <td>174.0</td>\n",
       "      <td>174.0</td>\n",
       "    </tr>\n",
       "    <tr>\n",
       "      <th>...</th>\n",
       "      <td>...</td>\n",
       "      <td>...</td>\n",
       "      <td>...</td>\n",
       "      <td>...</td>\n",
       "      <td>...</td>\n",
       "      <td>...</td>\n",
       "      <td>...</td>\n",
       "      <td>...</td>\n",
       "      <td>...</td>\n",
       "      <td>...</td>\n",
       "      <td>...</td>\n",
       "      <td>...</td>\n",
       "      <td>...</td>\n",
       "    </tr>\n",
       "    <tr>\n",
       "      <th>946</th>\n",
       "      <td>946</td>\n",
       "      <td>uts_leip_00507.png</td>\n",
       "      <td>M</td>\n",
       "      <td>Silver_Russel</td>\n",
       "      <td>117.685485</td>\n",
       "      <td>114</td>\n",
       "      <td>129.0</td>\n",
       "      <td>NaN</td>\n",
       "      <td>120.0</td>\n",
       "      <td>124.5</td>\n",
       "      <td>124.5</td>\n",
       "      <td>129.0</td>\n",
       "      <td>120.0</td>\n",
       "    </tr>\n",
       "    <tr>\n",
       "      <th>947</th>\n",
       "      <td>947</td>\n",
       "      <td>uts_leip_00508.png</td>\n",
       "      <td>M</td>\n",
       "      <td>Noonan</td>\n",
       "      <td>175.814535</td>\n",
       "      <td>200</td>\n",
       "      <td>186.0</td>\n",
       "      <td>NaN</td>\n",
       "      <td>168.0</td>\n",
       "      <td>177.0</td>\n",
       "      <td>177.0</td>\n",
       "      <td>186.0</td>\n",
       "      <td>168.0</td>\n",
       "    </tr>\n",
       "    <tr>\n",
       "      <th>948</th>\n",
       "      <td>948</td>\n",
       "      <td>uts_leip_00509.png</td>\n",
       "      <td>F</td>\n",
       "      <td>UTS</td>\n",
       "      <td>136.552738</td>\n",
       "      <td>155</td>\n",
       "      <td>NaN</td>\n",
       "      <td>NaN</td>\n",
       "      <td>120.0</td>\n",
       "      <td>120.0</td>\n",
       "      <td>NaN</td>\n",
       "      <td>120.0</td>\n",
       "      <td>120.0</td>\n",
       "    </tr>\n",
       "    <tr>\n",
       "      <th>949</th>\n",
       "      <td>949</td>\n",
       "      <td>uts_leip_00510.png</td>\n",
       "      <td>F</td>\n",
       "      <td>UTS</td>\n",
       "      <td>149.673117</td>\n",
       "      <td>146</td>\n",
       "      <td>144.0</td>\n",
       "      <td>NaN</td>\n",
       "      <td>150.0</td>\n",
       "      <td>147.0</td>\n",
       "      <td>147.0</td>\n",
       "      <td>144.0</td>\n",
       "      <td>150.0</td>\n",
       "    </tr>\n",
       "    <tr>\n",
       "      <th>950</th>\n",
       "      <td>950</td>\n",
       "      <td>uts_leip_00511.png</td>\n",
       "      <td>F</td>\n",
       "      <td>UTS</td>\n",
       "      <td>120.569091</td>\n",
       "      <td>130</td>\n",
       "      <td>129.0</td>\n",
       "      <td>NaN</td>\n",
       "      <td>126.0</td>\n",
       "      <td>127.5</td>\n",
       "      <td>127.5</td>\n",
       "      <td>129.0</td>\n",
       "      <td>126.0</td>\n",
       "    </tr>\n",
       "  </tbody>\n",
       "</table>\n",
       "<p>951 rows × 13 columns</p>\n",
       "</div>"
      ],
      "text/plain": [
       "     Unnamed: 0            image_ID sex       disorder       y_hat  \\\n",
       "0             0  uts_magd_00000.png   F            UTS  182.167860   \n",
       "1             1  uts_magd_00001.png   F            UTS  149.274546   \n",
       "2             2  uts_magd_00002.png   F            UTS  166.508785   \n",
       "3             3  uts_magd_00003.png   F            UTS  171.412118   \n",
       "4             4  uts_magd_00004.png   F            UTS  171.827975   \n",
       "..          ...                 ...  ..            ...         ...   \n",
       "946         946  uts_leip_00507.png   M  Silver_Russel  117.685485   \n",
       "947         947  uts_leip_00508.png   M         Noonan  175.814535   \n",
       "948         948  uts_leip_00509.png   F            UTS  136.552738   \n",
       "949         949  uts_leip_00510.png   F            UTS  149.673117   \n",
       "950         950  uts_leip_00511.png   F            UTS  120.569091   \n",
       "\n",
       "     chronological_age  clinical_ba  AK1    KM1  bone_age  ba_two_raters  \\\n",
       "0                  182          NaN  NaN  180.0     180.0            NaN   \n",
       "1                  151          NaN  NaN  150.0     150.0            NaN   \n",
       "2                  163        168.0  NaN    NaN     168.0            NaN   \n",
       "3                  179          NaN  NaN  174.0     174.0            NaN   \n",
       "4                  176          NaN  NaN  174.0     174.0            NaN   \n",
       "..                 ...          ...  ...    ...       ...            ...   \n",
       "946                114        129.0  NaN  120.0     124.5          124.5   \n",
       "947                200        186.0  NaN  168.0     177.0          177.0   \n",
       "948                155          NaN  NaN  120.0     120.0            NaN   \n",
       "949                146        144.0  NaN  150.0     147.0          147.0   \n",
       "950                130        129.0  NaN  126.0     127.5          127.5   \n",
       "\n",
       "     first_rating  second_rating  \n",
       "0           180.0          180.0  \n",
       "1           150.0          150.0  \n",
       "2           168.0            NaN  \n",
       "3           174.0          174.0  \n",
       "4           174.0          174.0  \n",
       "..            ...            ...  \n",
       "946         129.0          120.0  \n",
       "947         186.0          168.0  \n",
       "948         120.0          120.0  \n",
       "949         144.0          150.0  \n",
       "950         129.0          126.0  \n",
       "\n",
       "[951 rows x 13 columns]"
      ]
     },
     "execution_count": 23,
     "metadata": {},
     "output_type": "execute_result"
    }
   ],
   "source": [
    "data"
   ]
  },
  {
   "cell_type": "code",
   "execution_count": 24,
   "metadata": {},
   "outputs": [
    {
     "data": {
      "text/plain": [
       "Index(['Unnamed: 0', 'image_ID', 'sex', 'disorder', 'y_hat',\n",
       "       'chronological_age', 'clinical_ba', 'AK1', 'KM1', 'bone_age',\n",
       "       'ba_two_raters', 'first_rating', 'second_rating'],\n",
       "      dtype='object')"
      ]
     },
     "execution_count": 24,
     "metadata": {},
     "output_type": "execute_result"
    }
   ],
   "source": [
    "data.keys()"
   ]
  },
  {
   "cell_type": "code",
   "execution_count": 25,
   "metadata": {},
   "outputs": [],
   "source": [
    "two_BA=data[pd.notna(data['ba_two_raters'])]"
   ]
  },
  {
   "cell_type": "code",
   "execution_count": 26,
   "metadata": {},
   "outputs": [
    {
     "data": {
      "text/html": [
       "<div>\n",
       "<style scoped>\n",
       "    .dataframe tbody tr th:only-of-type {\n",
       "        vertical-align: middle;\n",
       "    }\n",
       "\n",
       "    .dataframe tbody tr th {\n",
       "        vertical-align: top;\n",
       "    }\n",
       "\n",
       "    .dataframe thead th {\n",
       "        text-align: right;\n",
       "    }\n",
       "</style>\n",
       "<table border=\"1\" class=\"dataframe\">\n",
       "  <thead>\n",
       "    <tr style=\"text-align: right;\">\n",
       "      <th></th>\n",
       "      <th>Unnamed: 0</th>\n",
       "      <th>image_ID</th>\n",
       "      <th>sex</th>\n",
       "      <th>disorder</th>\n",
       "      <th>y_hat</th>\n",
       "      <th>chronological_age</th>\n",
       "      <th>clinical_ba</th>\n",
       "      <th>AK1</th>\n",
       "      <th>KM1</th>\n",
       "      <th>bone_age</th>\n",
       "      <th>ba_two_raters</th>\n",
       "      <th>first_rating</th>\n",
       "      <th>second_rating</th>\n",
       "    </tr>\n",
       "  </thead>\n",
       "  <tbody>\n",
       "    <tr>\n",
       "      <th>39</th>\n",
       "      <td>39</td>\n",
       "      <td>hych_magd_00000.png</td>\n",
       "      <td>M</td>\n",
       "      <td>HyCh</td>\n",
       "      <td>210.994274</td>\n",
       "      <td>199</td>\n",
       "      <td>NaN</td>\n",
       "      <td>192.0</td>\n",
       "      <td>204.0</td>\n",
       "      <td>198.0</td>\n",
       "      <td>198.0</td>\n",
       "      <td>204.0</td>\n",
       "      <td>192.0</td>\n",
       "    </tr>\n",
       "    <tr>\n",
       "      <th>40</th>\n",
       "      <td>40</td>\n",
       "      <td>hych_magd_00001.png</td>\n",
       "      <td>M</td>\n",
       "      <td>HyCh</td>\n",
       "      <td>183.226151</td>\n",
       "      <td>184</td>\n",
       "      <td>186.0</td>\n",
       "      <td>180.0</td>\n",
       "      <td>NaN</td>\n",
       "      <td>183.0</td>\n",
       "      <td>183.0</td>\n",
       "      <td>186.0</td>\n",
       "      <td>180.0</td>\n",
       "    </tr>\n",
       "    <tr>\n",
       "      <th>41</th>\n",
       "      <td>41</td>\n",
       "      <td>hych_magd_00002.png</td>\n",
       "      <td>M</td>\n",
       "      <td>HyCh</td>\n",
       "      <td>171.880363</td>\n",
       "      <td>175</td>\n",
       "      <td>168.0</td>\n",
       "      <td>162.0</td>\n",
       "      <td>NaN</td>\n",
       "      <td>165.0</td>\n",
       "      <td>165.0</td>\n",
       "      <td>168.0</td>\n",
       "      <td>162.0</td>\n",
       "    </tr>\n",
       "    <tr>\n",
       "      <th>42</th>\n",
       "      <td>42</td>\n",
       "      <td>hych_magd_00003.png</td>\n",
       "      <td>M</td>\n",
       "      <td>HyCh</td>\n",
       "      <td>158.899396</td>\n",
       "      <td>164</td>\n",
       "      <td>156.0</td>\n",
       "      <td>156.0</td>\n",
       "      <td>NaN</td>\n",
       "      <td>156.0</td>\n",
       "      <td>156.0</td>\n",
       "      <td>156.0</td>\n",
       "      <td>156.0</td>\n",
       "    </tr>\n",
       "    <tr>\n",
       "      <th>43</th>\n",
       "      <td>43</td>\n",
       "      <td>hych_magd_00004.png</td>\n",
       "      <td>M</td>\n",
       "      <td>HyCh</td>\n",
       "      <td>146.293938</td>\n",
       "      <td>140</td>\n",
       "      <td>132.0</td>\n",
       "      <td>114.0</td>\n",
       "      <td>NaN</td>\n",
       "      <td>123.0</td>\n",
       "      <td>123.0</td>\n",
       "      <td>132.0</td>\n",
       "      <td>114.0</td>\n",
       "    </tr>\n",
       "    <tr>\n",
       "      <th>...</th>\n",
       "      <td>...</td>\n",
       "      <td>...</td>\n",
       "      <td>...</td>\n",
       "      <td>...</td>\n",
       "      <td>...</td>\n",
       "      <td>...</td>\n",
       "      <td>...</td>\n",
       "      <td>...</td>\n",
       "      <td>...</td>\n",
       "      <td>...</td>\n",
       "      <td>...</td>\n",
       "      <td>...</td>\n",
       "      <td>...</td>\n",
       "    </tr>\n",
       "    <tr>\n",
       "      <th>944</th>\n",
       "      <td>944</td>\n",
       "      <td>uts_leip_00505.png</td>\n",
       "      <td>F</td>\n",
       "      <td>UTS</td>\n",
       "      <td>127.908481</td>\n",
       "      <td>145</td>\n",
       "      <td>132.0</td>\n",
       "      <td>NaN</td>\n",
       "      <td>120.0</td>\n",
       "      <td>126.0</td>\n",
       "      <td>126.0</td>\n",
       "      <td>132.0</td>\n",
       "      <td>120.0</td>\n",
       "    </tr>\n",
       "    <tr>\n",
       "      <th>946</th>\n",
       "      <td>946</td>\n",
       "      <td>uts_leip_00507.png</td>\n",
       "      <td>M</td>\n",
       "      <td>Silver_Russel</td>\n",
       "      <td>117.685485</td>\n",
       "      <td>114</td>\n",
       "      <td>129.0</td>\n",
       "      <td>NaN</td>\n",
       "      <td>120.0</td>\n",
       "      <td>124.5</td>\n",
       "      <td>124.5</td>\n",
       "      <td>129.0</td>\n",
       "      <td>120.0</td>\n",
       "    </tr>\n",
       "    <tr>\n",
       "      <th>947</th>\n",
       "      <td>947</td>\n",
       "      <td>uts_leip_00508.png</td>\n",
       "      <td>M</td>\n",
       "      <td>Noonan</td>\n",
       "      <td>175.814535</td>\n",
       "      <td>200</td>\n",
       "      <td>186.0</td>\n",
       "      <td>NaN</td>\n",
       "      <td>168.0</td>\n",
       "      <td>177.0</td>\n",
       "      <td>177.0</td>\n",
       "      <td>186.0</td>\n",
       "      <td>168.0</td>\n",
       "    </tr>\n",
       "    <tr>\n",
       "      <th>949</th>\n",
       "      <td>949</td>\n",
       "      <td>uts_leip_00510.png</td>\n",
       "      <td>F</td>\n",
       "      <td>UTS</td>\n",
       "      <td>149.673117</td>\n",
       "      <td>146</td>\n",
       "      <td>144.0</td>\n",
       "      <td>NaN</td>\n",
       "      <td>150.0</td>\n",
       "      <td>147.0</td>\n",
       "      <td>147.0</td>\n",
       "      <td>144.0</td>\n",
       "      <td>150.0</td>\n",
       "    </tr>\n",
       "    <tr>\n",
       "      <th>950</th>\n",
       "      <td>950</td>\n",
       "      <td>uts_leip_00511.png</td>\n",
       "      <td>F</td>\n",
       "      <td>UTS</td>\n",
       "      <td>120.569091</td>\n",
       "      <td>130</td>\n",
       "      <td>129.0</td>\n",
       "      <td>NaN</td>\n",
       "      <td>126.0</td>\n",
       "      <td>127.5</td>\n",
       "      <td>127.5</td>\n",
       "      <td>129.0</td>\n",
       "      <td>126.0</td>\n",
       "    </tr>\n",
       "  </tbody>\n",
       "</table>\n",
       "<p>702 rows × 13 columns</p>\n",
       "</div>"
      ],
      "text/plain": [
       "     Unnamed: 0             image_ID sex       disorder       y_hat  \\\n",
       "39           39  hych_magd_00000.png   M           HyCh  210.994274   \n",
       "40           40  hych_magd_00001.png   M           HyCh  183.226151   \n",
       "41           41  hych_magd_00002.png   M           HyCh  171.880363   \n",
       "42           42  hych_magd_00003.png   M           HyCh  158.899396   \n",
       "43           43  hych_magd_00004.png   M           HyCh  146.293938   \n",
       "..          ...                  ...  ..            ...         ...   \n",
       "944         944   uts_leip_00505.png   F            UTS  127.908481   \n",
       "946         946   uts_leip_00507.png   M  Silver_Russel  117.685485   \n",
       "947         947   uts_leip_00508.png   M         Noonan  175.814535   \n",
       "949         949   uts_leip_00510.png   F            UTS  149.673117   \n",
       "950         950   uts_leip_00511.png   F            UTS  120.569091   \n",
       "\n",
       "     chronological_age  clinical_ba    AK1    KM1  bone_age  ba_two_raters  \\\n",
       "39                 199          NaN  192.0  204.0     198.0          198.0   \n",
       "40                 184        186.0  180.0    NaN     183.0          183.0   \n",
       "41                 175        168.0  162.0    NaN     165.0          165.0   \n",
       "42                 164        156.0  156.0    NaN     156.0          156.0   \n",
       "43                 140        132.0  114.0    NaN     123.0          123.0   \n",
       "..                 ...          ...    ...    ...       ...            ...   \n",
       "944                145        132.0    NaN  120.0     126.0          126.0   \n",
       "946                114        129.0    NaN  120.0     124.5          124.5   \n",
       "947                200        186.0    NaN  168.0     177.0          177.0   \n",
       "949                146        144.0    NaN  150.0     147.0          147.0   \n",
       "950                130        129.0    NaN  126.0     127.5          127.5   \n",
       "\n",
       "     first_rating  second_rating  \n",
       "39          204.0          192.0  \n",
       "40          186.0          180.0  \n",
       "41          168.0          162.0  \n",
       "42          156.0          156.0  \n",
       "43          132.0          114.0  \n",
       "..            ...            ...  \n",
       "944         132.0          120.0  \n",
       "946         129.0          120.0  \n",
       "947         186.0          168.0  \n",
       "949         144.0          150.0  \n",
       "950         129.0          126.0  \n",
       "\n",
       "[702 rows x 13 columns]"
      ]
     },
     "execution_count": 26,
     "metadata": {},
     "output_type": "execute_result"
    }
   ],
   "source": [
    "two_BA"
   ]
  },
  {
   "cell_type": "code",
   "execution_count": 27,
   "metadata": {},
   "outputs": [
    {
     "name": "stdout",
     "output_type": "stream",
     "text": [
      "7.544351933790845\n",
      "1.4001220471259126\n",
      "14.786929790230056\n"
     ]
    }
   ],
   "source": [
    "difference=two_BA['y_hat']-two_BA['ba_two_raters']\n",
    "print(np.std(difference))\n",
    "print(np.mean(difference))\n",
    "print(1.96*np.std(difference))"
   ]
  },
  {
   "cell_type": "code",
   "execution_count": 28,
   "metadata": {},
   "outputs": [
    {
     "name": "stdout",
     "output_type": "stream",
     "text": [
      "3.062967936800713\n",
      "-0.06657044001352509\n"
     ]
    }
   ],
   "source": [
    "two_BA_female=two_BA.loc[two_BA['sex']=='F']\n",
    "two_BA_male=two_BA.loc[two_BA['sex']=='M']\n",
    "\n",
    "difference_male=two_BA_male['y_hat']-two_BA_male['ba_two_raters']\n",
    "difference_female=two_BA_female['y_hat']-two_BA_female['ba_two_raters']\n",
    "\n",
    "print(np.mean((difference_male)))\n",
    "print(np.mean((difference_female)))"
   ]
  },
  {
   "cell_type": "markdown",
   "metadata": {},
   "source": [
    "# Plotly"
   ]
  },
  {
   "cell_type": "code",
   "execution_count": 44,
   "metadata": {},
   "outputs": [
    {
     "name": "stdout",
     "output_type": "stream",
     "text": [
      "HyCh\n",
      "PsPHT\n",
      "None\n",
      "Silver_Russel\n",
      "ACh\n",
      "IUGR\n",
      "SHOX_mutation\n",
      "Noonan\n",
      "UTS\n"
     ]
    },
    {
     "data": {
      "application/vnd.plotly.v1+json": {
       "config": {
        "plotlyServerURL": "https://plot.ly"
       },
       "data": [
        {
         "customdata": [
          [
           "HyCh",
           "M"
          ],
          [
           "HyCh",
           "M"
          ],
          [
           "HyCh",
           "M"
          ],
          [
           "HyCh",
           "M"
          ],
          [
           "HyCh",
           "M"
          ],
          [
           "HyCh",
           "M"
          ],
          [
           "HyCh",
           "M"
          ],
          [
           "HyCh",
           "M"
          ],
          [
           "HyCh",
           "F"
          ],
          [
           "HyCh",
           "F"
          ],
          [
           "HyCh",
           "F"
          ],
          [
           "HyCh",
           "F"
          ],
          [
           "HyCh",
           "F"
          ],
          [
           "HyCh",
           "F"
          ],
          [
           "HyCh",
           "F"
          ],
          [
           "HyCh",
           "F"
          ],
          [
           "HyCh",
           "M"
          ],
          [
           "HyCh",
           "M"
          ],
          [
           "HyCh",
           "M"
          ],
          [
           "HyCh",
           "M"
          ],
          [
           "HyCh",
           "M"
          ],
          [
           "HyCh",
           "M"
          ],
          [
           "HyCh",
           "M"
          ],
          [
           "HyCh",
           "M"
          ],
          [
           "HyCh",
           "M"
          ],
          [
           "HyCh",
           "M"
          ],
          [
           "HyCh",
           "M"
          ],
          [
           "HyCh",
           "M"
          ],
          [
           "HyCh",
           "M"
          ],
          [
           "HyCh",
           "M"
          ],
          [
           "HyCh",
           "M"
          ],
          [
           "HyCh",
           "M"
          ],
          [
           "HyCh",
           "M"
          ],
          [
           "HyCh",
           "M"
          ],
          [
           "HyCh",
           "M"
          ],
          [
           "HyCh",
           "F"
          ],
          [
           "HyCh",
           "F"
          ],
          [
           "HyCh",
           "F"
          ],
          [
           "HyCh",
           "F"
          ],
          [
           "HyCh",
           "F"
          ],
          [
           "HyCh",
           "F"
          ],
          [
           "HyCh",
           "F"
          ],
          [
           "HyCh",
           "M"
          ],
          [
           "HyCh",
           "F"
          ]
         ],
         "hovertemplate": "disorder=%{customdata[0]}<br>x=%{x}<br>y=%{y}<br>sex=%{customdata[1]}<extra></extra>",
         "legendgroup": "HyCh",
         "marker": {
          "color": "#2E91E5",
          "opacity": 1,
          "size": 7,
          "symbol": "circle"
         },
         "mode": "markers",
         "name": "Hypochondroplasia (HyCh)",
         "orientation": "v",
         "showlegend": true,
         "type": "scatter",
         "x": [
          204.5,
          183.1,
          168.4,
          157.4,
          134.6,
          128,
          114.3,
          86.7,
          153.2,
          142.1,
          122.9,
          134.9,
          118.1,
          81.6,
          161.3,
          102.6,
          204.4,
          180.2,
          158.7,
          153.1,
          139.4,
          102.8,
          89.5,
          83.1,
          186.9,
          163.1,
          158.3,
          156.8,
          152.2,
          150,
          130.7,
          118.8,
          86.8,
          71.9,
          50.4,
          87,
          82.8,
          129.2,
          117.4,
          92.1,
          71.4,
          43.5,
          46.4,
          46.8
         ],
         "xaxis": "x",
         "y": [
          13,
          0.2,
          6.9,
          2.9,
          23.3,
          16,
          9.7,
          20.4,
          0.4,
          8.2,
          -12.2,
          -9.2,
          -3.9,
          -7.7,
          -7.4,
          1.2,
          6.8,
          0.5,
          -0.6,
          -23.8,
          -9.2,
          4.6,
          5.1,
          -4.7,
          7.8,
          4.3,
          -1.5,
          4.6,
          1.3,
          -9,
          -8.6,
          -23.4,
          -0.4,
          5.8,
          4.8,
          -12,
          3.6,
          0.5,
          -5.1,
          -7.7,
          -1.1,
          -9,
          8.7,
          0.6
         ],
         "yaxis": "y"
        },
        {
         "customdata": [
          [
           "PsPHT",
           "M"
          ],
          [
           "PsPHT",
           "M"
          ],
          [
           "PsPHT",
           "M"
          ],
          [
           "PsPHT",
           "M"
          ],
          [
           "PsPHT",
           "M"
          ],
          [
           "PsPHT",
           "M"
          ],
          [
           "PsPHT",
           "M"
          ],
          [
           "PsPHT",
           "M"
          ],
          [
           "PsPHT",
           "M"
          ],
          [
           "PsPHT",
           "M"
          ],
          [
           "PsPHT",
           "M"
          ],
          [
           "PsPHT",
           "M"
          ],
          [
           "PsPHT",
           "F"
          ],
          [
           "PsPHT",
           "M"
          ],
          [
           "PsPHT",
           "M"
          ],
          [
           "PsPHT",
           "M"
          ],
          [
           "PsPHT",
           "M"
          ],
          [
           "PsPHT",
           "M"
          ],
          [
           "PsPHT",
           "M"
          ],
          [
           "PsPHT",
           "M"
          ],
          [
           "PsPHT",
           "M"
          ],
          [
           "PsPHT",
           "M"
          ],
          [
           "PsPHT",
           "M"
          ],
          [
           "PsPHT",
           "M"
          ],
          [
           "PsPHT",
           "M"
          ],
          [
           "PsPHT",
           "M"
          ],
          [
           "PsPHT",
           "F"
          ],
          [
           "PsPHT",
           "F"
          ],
          [
           "PsPHT",
           "F"
          ],
          [
           "PsPHT",
           "F"
          ]
         ],
         "hovertemplate": "disorder=%{customdata[0]}<br>x=%{x}<br>y=%{y}<br>sex=%{customdata[1]}<extra></extra>",
         "legendgroup": "PsPHT",
         "marker": {
          "color": "#E15F99",
          "opacity": 1,
          "size": 7,
          "symbol": "circle"
         },
         "mode": "markers",
         "name": "Pseudohypoparathyroidism (PsHPT)",
         "orientation": "v",
         "showlegend": true,
         "type": "scatter",
         "x": [
          56,
          99.8,
          128,
          153.9,
          166,
          163.8,
          174.8,
          173.4,
          26.8,
          34.9,
          105.4,
          158.8,
          149.5,
          97.5,
          116.3,
          138.3,
          145,
          119.6,
          74.7,
          88.1,
          134.1,
          166.8,
          158.6,
          191.3,
          171.7,
          177.4,
          38.7,
          56,
          150.7,
          28.9
         ],
         "xaxis": "x",
         "y": [
          -14.1,
          25.6,
          10,
          7.8,
          -4.1,
          9.6,
          -1.4,
          7.8,
          8.6,
          3.9,
          -11.1,
          -6.4,
          -7,
          8.9,
          10.6,
          -5.5,
          -9.9,
          5.2,
          5.3,
          -3.9,
          -4.7,
          -2.3,
          -9.7,
          4.6,
          1.4,
          -5.1,
          -12.7,
          -2,
          -10.6,
          3.8
         ],
         "yaxis": "y"
        },
        {
         "customdata": [
          [
           "None",
           "F"
          ],
          [
           "None",
           "F"
          ],
          [
           "None",
           "F"
          ],
          [
           "None",
           "M"
          ],
          [
           "None",
           "F"
          ],
          [
           "None",
           "M"
          ],
          [
           "None",
           "F"
          ],
          [
           "None",
           "F"
          ],
          [
           "None",
           "F"
          ],
          [
           "None",
           "M"
          ],
          [
           "None",
           "F"
          ],
          [
           "None",
           "F"
          ],
          [
           "None",
           "F"
          ],
          [
           "None",
           "F"
          ],
          [
           "None",
           "F"
          ],
          [
           "None",
           "M"
          ],
          [
           "None",
           "F"
          ],
          [
           "None",
           "F"
          ],
          [
           "None",
           "M"
          ],
          [
           "None",
           "F"
          ],
          [
           "None",
           "M"
          ],
          [
           "None",
           "F"
          ],
          [
           "None",
           "F"
          ],
          [
           "None",
           "M"
          ],
          [
           "None",
           "M"
          ],
          [
           "None",
           "F"
          ],
          [
           "None",
           "F"
          ],
          [
           "None",
           "M"
          ],
          [
           "None",
           "F"
          ],
          [
           "None",
           "M"
          ],
          [
           "None",
           "F"
          ],
          [
           "None",
           "M"
          ],
          [
           "None",
           "F"
          ],
          [
           "None",
           "M"
          ],
          [
           "None",
           "F"
          ],
          [
           "None",
           "F"
          ],
          [
           "None",
           "F"
          ],
          [
           "None",
           "M"
          ],
          [
           "None",
           "F"
          ],
          [
           "None",
           "F"
          ],
          [
           "None",
           "F"
          ],
          [
           "None",
           "M"
          ],
          [
           "None",
           "M"
          ],
          [
           "None",
           "F"
          ],
          [
           "None",
           "M"
          ],
          [
           "None",
           "F"
          ],
          [
           "None",
           "F"
          ],
          [
           "None",
           "F"
          ],
          [
           "None",
           "F"
          ],
          [
           "None",
           "F"
          ],
          [
           "None",
           "F"
          ],
          [
           "None",
           "F"
          ],
          [
           "None",
           "M"
          ],
          [
           "None",
           "F"
          ],
          [
           "None",
           "F"
          ],
          [
           "None",
           "F"
          ],
          [
           "None",
           "F"
          ],
          [
           "None",
           "F"
          ],
          [
           "None",
           "F"
          ],
          [
           "None",
           "F"
          ],
          [
           "None",
           "F"
          ],
          [
           "None",
           "F"
          ],
          [
           "None",
           "M"
          ],
          [
           "None",
           "F"
          ],
          [
           "None",
           "F"
          ],
          [
           "None",
           "F"
          ],
          [
           "None",
           "F"
          ],
          [
           "None",
           "M"
          ],
          [
           "None",
           "F"
          ],
          [
           "None",
           "F"
          ],
          [
           "None",
           "M"
          ],
          [
           "None",
           "M"
          ],
          [
           "None",
           "F"
          ],
          [
           "None",
           "F"
          ],
          [
           "None",
           "F"
          ],
          [
           "None",
           "M"
          ],
          [
           "None",
           "F"
          ],
          [
           "None",
           "F"
          ],
          [
           "None",
           "F"
          ]
         ],
         "hovertemplate": "disorder=%{customdata[0]}<br>x=%{x}<br>y=%{y}<br>sex=%{customdata[1]}<extra></extra>",
         "legendgroup": "None",
         "marker": {
          "color": "#1CA71C",
          "opacity": 1,
          "size": 7,
          "symbol": "circle"
         },
         "mode": "markers",
         "name": "None Diagnosed",
         "orientation": "v",
         "showlegend": true,
         "type": "scatter",
         "x": [
          51.6,
          109,
          115.3,
          165.6,
          142.1,
          153.3,
          126.7,
          95.1,
          71.6,
          111.2,
          111.9,
          122.5,
          101.2,
          105.5,
          129.5,
          112.5,
          116.8,
          86.4,
          90.6,
          76.5,
          80.6,
          71.1,
          76.6,
          88.1,
          52.3,
          61.7,
          89.7,
          81.7,
          96.9,
          125.6,
          113.7,
          127.3,
          75.1,
          137.8,
          112,
          50.1,
          73,
          70.3,
          102.6,
          101.3,
          115.5,
          148.6,
          140.2,
          45.8,
          142.3,
          96.6,
          129.3,
          124.9,
          49.1,
          68.1,
          84.5,
          91.1,
          58.3,
          78.4,
          144.2,
          128.6,
          57.5,
          101.8,
          103.8,
          133.1,
          78.5,
          83,
          82.7,
          133.3,
          160.4,
          52.6,
          92.1,
          73.6,
          148.6,
          82.2,
          77.5,
          55.2,
          95.4,
          78.6,
          106.9,
          84.7,
          124.4,
          53.6,
          128.7
         ],
         "xaxis": "x",
         "y": [
          1.2,
          -10,
          -3.4,
          7.3,
          -9.7,
          12.5,
          -10.6,
          -7.8,
          2.1,
          18.4,
          -22.1,
          -4,
          -13.5,
          -10.9,
          0.9,
          15,
          -6.5,
          -4.3,
          13.2,
          -8.9,
          11.1,
          -1.8,
          -2.9,
          -0.9,
          2.6,
          -2.5,
          5.5,
          19.3,
          -4.1,
          11.3,
          -15.6,
          5.6,
          0.2,
          5.6,
          -16,
          -4.8,
          5,
          -0.4,
          -10.7,
          -1.4,
          -9,
          0.2,
          -1.6,
          4.6,
          2.5,
          4.2,
          -5.4,
          0.8,
          -3.8,
          -1.8,
          0.9,
          -12.8,
          5.7,
          3.8,
          -11.5,
          -6.8,
          13,
          8.7,
          -2.5,
          2.3,
          1.1,
          4,
          3.3,
          2.6,
          2.8,
          12.2,
          -1.8,
          9.1,
          -2.8,
          -9.7,
          -4,
          2.3,
          -13.3,
          1.2,
          6.7,
          1.4,
          -6.3,
          -0.8,
          -0.7
         ],
         "yaxis": "y"
        },
        {
         "customdata": [
          [
           "Silver_Russel",
           "F"
          ],
          [
           "Silver_Russel",
           "F"
          ],
          [
           "Silver_Russel",
           "F"
          ],
          [
           "Silver_Russel",
           "F"
          ],
          [
           "Silver_Russel",
           "F"
          ],
          [
           "Silver_Russel",
           "F"
          ],
          [
           "Silver_Russel",
           "F"
          ],
          [
           "Silver_Russel",
           "M"
          ],
          [
           "Silver_Russel",
           "M"
          ],
          [
           "Silver_Russel",
           "M"
          ],
          [
           "Silver_Russel",
           "M"
          ],
          [
           "Silver_Russel",
           "M"
          ],
          [
           "Silver_Russel",
           "F"
          ],
          [
           "Silver_Russel",
           "F"
          ],
          [
           "Silver_Russel",
           "F"
          ],
          [
           "Silver_Russel",
           "F"
          ],
          [
           "Silver_Russel",
           "F"
          ],
          [
           "Silver_Russel",
           "F"
          ],
          [
           "Silver_Russel",
           "F"
          ],
          [
           "Silver_Russel",
           "M"
          ],
          [
           "Silver_Russel",
           "F"
          ],
          [
           "Silver_Russel",
           "F"
          ],
          [
           "Silver_Russel",
           "M"
          ],
          [
           "Silver_Russel",
           "F"
          ],
          [
           "Silver_Russel",
           "M"
          ],
          [
           "Silver_Russel",
           "M"
          ],
          [
           "Silver_Russel",
           "M"
          ],
          [
           "Silver_Russel",
           "M"
          ],
          [
           "Silver_Russel",
           "F"
          ],
          [
           "Silver_Russel",
           "M"
          ],
          [
           "Silver_Russel",
           "F"
          ],
          [
           "Silver_Russel",
           "M"
          ],
          [
           "Silver_Russel",
           "F"
          ],
          [
           "Silver_Russel",
           "M"
          ],
          [
           "Silver_Russel",
           "M"
          ],
          [
           "Silver_Russel",
           "F"
          ],
          [
           "Silver_Russel",
           "M"
          ],
          [
           "Silver_Russel",
           "F"
          ],
          [
           "Silver_Russel",
           "F"
          ],
          [
           "Silver_Russel",
           "F"
          ],
          [
           "Silver_Russel",
           "F"
          ],
          [
           "Silver_Russel",
           "F"
          ],
          [
           "Silver_Russel",
           "F"
          ],
          [
           "Silver_Russel",
           "F"
          ],
          [
           "Silver_Russel",
           "F"
          ],
          [
           "Silver_Russel",
           "F"
          ],
          [
           "Silver_Russel",
           "F"
          ],
          [
           "Silver_Russel",
           "F"
          ],
          [
           "Silver_Russel",
           "F"
          ],
          [
           "Silver_Russel",
           "F"
          ],
          [
           "Silver_Russel",
           "F"
          ],
          [
           "Silver_Russel",
           "F"
          ],
          [
           "Silver_Russel",
           "F"
          ],
          [
           "Silver_Russel",
           "F"
          ],
          [
           "Silver_Russel",
           "F"
          ],
          [
           "Silver_Russel",
           "F"
          ],
          [
           "Silver_Russel",
           "F"
          ],
          [
           "Silver_Russel",
           "M"
          ],
          [
           "Silver_Russel",
           "F"
          ],
          [
           "Silver_Russel",
           "F"
          ],
          [
           "Silver_Russel",
           "F"
          ],
          [
           "Silver_Russel",
           "M"
          ],
          [
           "Silver_Russel",
           "F"
          ],
          [
           "Silver_Russel",
           "F"
          ],
          [
           "Silver_Russel",
           "M"
          ],
          [
           "Silver_Russel",
           "M"
          ],
          [
           "Silver_Russel",
           "F"
          ],
          [
           "Silver_Russel",
           "F"
          ],
          [
           "Silver_Russel",
           "M"
          ]
         ],
         "hovertemplate": "disorder=%{customdata[0]}<br>x=%{x}<br>y=%{y}<br>sex=%{customdata[1]}<extra></extra>",
         "legendgroup": "Silver_Russel",
         "marker": {
          "color": "#FB0D0D",
          "opacity": 1,
          "size": 7,
          "symbol": "circle"
         },
         "mode": "markers",
         "name": "Silver-Russell Syndrome",
         "orientation": "v",
         "showlegend": true,
         "type": "scatter",
         "x": [
          139.3,
          56.6,
          110.6,
          76.7,
          120.1,
          91.9,
          134.2,
          110.8,
          85.9,
          44.1,
          29.5,
          7.1,
          89.1,
          94.3,
          122.2,
          132.6,
          37.3,
          61.7,
          148,
          44.4,
          10.7,
          28.4,
          44.7,
          170.6,
          55.1,
          37,
          25.1,
          19.8,
          40.6,
          160.2,
          46.8,
          164.3,
          24.7,
          173.4,
          184.8,
          66.7,
          192.7,
          76.2,
          8.6,
          48.7,
          85.5,
          18.6,
          98,
          106.8,
          118.7,
          133.1,
          131.1,
          48.6,
          141.8,
          143.3,
          50,
          149.1,
          159.7,
          180.7,
          73.1,
          182.3,
          68.3,
          61.6,
          81,
          82,
          200.2,
          77.3,
          96.5,
          107.4,
          90.6,
          109.7,
          100.7,
          109.2,
          121.1
         ],
         "xaxis": "x",
         "y": [
          2.6,
          11.1,
          5.2,
          12.5,
          6.3,
          9.8,
          10.3,
          -12.5,
          9.8,
          1.2,
          5,
          5.1,
          4.2,
          2.7,
          -1.6,
          -4.7,
          14.7,
          -8.6,
          4.9,
          7.9,
          0.4,
          -3.1,
          5.5,
          -0.8,
          2.1,
          11,
          8.3,
          3.6,
          0.2,
          2.4,
          -2.3,
          -1.3,
          1.3,
          1.8,
          3.7,
          10.3,
          10.5,
          5.4,
          7.7,
          -7.7,
          8.9,
          -10.8,
          10,
          0.6,
          6.4,
          -3.8,
          22.1,
          7.3,
          -7.3,
          -1.4,
          -2,
          4.2,
          13.4,
          7.4,
          -3.9,
          4.6,
          -1.4,
          0.2,
          -5.9,
          8,
          16.4,
          1.5,
          1,
          -13.2,
          7.2,
          -2.7,
          3.5,
          14.5,
          -6.8
         ],
         "yaxis": "y"
        },
        {
         "customdata": [
          [
           "ACh",
           "F"
          ],
          [
           "ACh",
           "F"
          ],
          [
           "ACh",
           "M"
          ],
          [
           "ACh",
           "M"
          ],
          [
           "ACh",
           "M"
          ],
          [
           "ACh",
           "M"
          ],
          [
           "ACh",
           "M"
          ],
          [
           "ACh",
           "F"
          ],
          [
           "ACh",
           "F"
          ],
          [
           "ACh",
           "F"
          ],
          [
           "ACh",
           "F"
          ],
          [
           "ACh",
           "F"
          ],
          [
           "ACh",
           "F"
          ],
          [
           "ACh",
           "M"
          ],
          [
           "ACh",
           "M"
          ],
          [
           "ACh",
           "M"
          ],
          [
           "ACh",
           "M"
          ],
          [
           "ACh",
           "M"
          ],
          [
           "ACh",
           "M"
          ],
          [
           "ACh",
           "M"
          ],
          [
           "ACh",
           "M"
          ],
          [
           "ACh",
           "M"
          ],
          [
           "ACh",
           "M"
          ],
          [
           "ACh",
           "M"
          ],
          [
           "ACh",
           "M"
          ]
         ],
         "hovertemplate": "disorder=%{customdata[0]}<br>x=%{x}<br>y=%{y}<br>sex=%{customdata[1]}<extra></extra>",
         "legendgroup": "ACh",
         "marker": {
          "color": "#DA16FF",
          "opacity": 1,
          "size": 7,
          "symbol": "circle"
         },
         "mode": "markers",
         "name": "Achondroplasia (ACh)",
         "orientation": "v",
         "showlegend": true,
         "type": "scatter",
         "x": [
          167.1,
          154.5,
          187.9,
          170.3,
          161.6,
          154.2,
          145.8,
          123.7,
          20.2,
          192,
          86.9,
          28.1,
          85.5,
          123.5,
          113.4,
          109.2,
          109.2,
          101.5,
          69.4,
          60.6,
          44,
          41.3,
          39.9,
          131.4,
          68.6
         ],
         "xaxis": "x",
         "y": [
          -1.8,
          9,
          9.8,
          -1.4,
          -21.9,
          -9.6,
          -14.4,
          -10.6,
          -1.5,
          0,
          -12.1,
          -6.8,
          -3,
          13,
          13.8,
          2.4,
          -15.6,
          -1,
          0.8,
          -10.7,
          4.1,
          4.5,
          -4.1,
          4.9,
          -6.8
         ],
         "yaxis": "y"
        },
        {
         "customdata": [
          [
           "IUGR",
           "F"
          ],
          [
           "IUGR",
           "F"
          ],
          [
           "IUGR",
           "F"
          ],
          [
           "IUGR",
           "F"
          ],
          [
           "IUGR",
           "M"
          ],
          [
           "IUGR",
           "M"
          ],
          [
           "IUGR",
           "M"
          ],
          [
           "IUGR",
           "M"
          ],
          [
           "IUGR",
           "M"
          ],
          [
           "IUGR",
           "M"
          ],
          [
           "IUGR",
           "M"
          ],
          [
           "IUGR",
           "M"
          ],
          [
           "IUGR",
           "M"
          ],
          [
           "IUGR",
           "M"
          ],
          [
           "IUGR",
           "M"
          ],
          [
           "IUGR",
           "M"
          ],
          [
           "IUGR",
           "M"
          ],
          [
           "IUGR",
           "M"
          ],
          [
           "IUGR",
           "M"
          ],
          [
           "IUGR",
           "M"
          ],
          [
           "IUGR",
           "M"
          ],
          [
           "IUGR",
           "M"
          ],
          [
           "IUGR",
           "M"
          ],
          [
           "IUGR",
           "F"
          ],
          [
           "IUGR",
           "F"
          ],
          [
           "IUGR",
           "F"
          ],
          [
           "IUGR",
           "F"
          ],
          [
           "IUGR",
           "F"
          ],
          [
           "IUGR",
           "M"
          ],
          [
           "IUGR",
           "F"
          ],
          [
           "IUGR",
           "F"
          ],
          [
           "IUGR",
           "F"
          ],
          [
           "IUGR",
           "F"
          ],
          [
           "IUGR",
           "F"
          ],
          [
           "IUGR",
           "F"
          ],
          [
           "IUGR",
           "F"
          ],
          [
           "IUGR",
           "F"
          ],
          [
           "IUGR",
           "F"
          ],
          [
           "IUGR",
           "F"
          ],
          [
           "IUGR",
           "F"
          ],
          [
           "IUGR",
           "F"
          ],
          [
           "IUGR",
           "F"
          ],
          [
           "IUGR",
           "F"
          ],
          [
           "IUGR",
           "F"
          ],
          [
           "IUGR",
           "F"
          ],
          [
           "IUGR",
           "F"
          ],
          [
           "IUGR",
           "F"
          ],
          [
           "IUGR",
           "M"
          ],
          [
           "IUGR",
           "F"
          ],
          [
           "IUGR",
           "F"
          ],
          [
           "IUGR",
           "M"
          ],
          [
           "IUGR",
           "M"
          ],
          [
           "IUGR",
           "M"
          ],
          [
           "IUGR",
           "M"
          ],
          [
           "IUGR",
           "M"
          ]
         ],
         "hovertemplate": "disorder=%{customdata[0]}<br>x=%{x}<br>y=%{y}<br>sex=%{customdata[1]}<extra></extra>",
         "legendgroup": "IUGR",
         "marker": {
          "color": "#222A2A",
          "opacity": 1,
          "size": 7,
          "symbol": "circle"
         },
         "mode": "markers",
         "name": "Intrauterine Growth Restriction (IUGR)",
         "orientation": "v",
         "showlegend": true,
         "type": "scatter",
         "x": [
          181.1,
          158.8,
          143.1,
          129.5,
          199.6,
          180.7,
          163.3,
          159.8,
          157.2,
          197.1,
          185.5,
          157.5,
          136.2,
          127.7,
          117.2,
          109.7,
          199.7,
          175.8,
          167.8,
          159.7,
          154.9,
          141.4,
          130.1,
          180.5,
          172.3,
          159.6,
          147.5,
          130.9,
          55,
          183.3,
          163.4,
          144.3,
          131.5,
          121.2,
          112.6,
          90.2,
          79.6,
          72.8,
          56,
          111.9,
          92.8,
          87.1,
          65.7,
          52.7,
          162.2,
          142.7,
          128.6,
          199.5,
          182.9,
          109,
          123.2,
          87,
          56,
          42.4,
          26.5
         ],
         "xaxis": "x",
         "y": [
          2.2,
          -6.5,
          -4.8,
          7,
          9.1,
          1.3,
          8.5,
          7.5,
          5.4,
          -1.7,
          -1,
          3,
          14.3,
          9.4,
          6.4,
          9.4,
          3.4,
          -8.4,
          -0.4,
          4.3,
          0.7,
          6.8,
          2.2,
          0.9,
          -3.3,
          -4.8,
          -4.9,
          3.8,
          5,
          12.6,
          -3.2,
          12.7,
          11,
          5.5,
          -14.7,
          6.3,
          3.1,
          -10.5,
          -10.9,
          7.8,
          11.7,
          9.2,
          8.4,
          9.4,
          3.5,
          -11.6,
          2.3,
          9,
          -0.2,
          -9.9,
          18.4,
          27,
          22.1,
          6.7,
          -1
         ],
         "yaxis": "y"
        },
        {
         "customdata": [
          [
           "SHOX_mutation",
           "M"
          ],
          [
           "SHOX_mutation",
           "M"
          ],
          [
           "SHOX_mutation",
           "M"
          ],
          [
           "SHOX_mutation",
           "M"
          ],
          [
           "SHOX_mutation",
           "M"
          ],
          [
           "SHOX_mutation",
           "M"
          ],
          [
           "SHOX_mutation",
           "M"
          ],
          [
           "SHOX_mutation",
           "M"
          ],
          [
           "SHOX_mutation",
           "M"
          ],
          [
           "SHOX_mutation",
           "M"
          ],
          [
           "SHOX_mutation",
           "M"
          ],
          [
           "SHOX_mutation",
           "M"
          ],
          [
           "SHOX_mutation",
           "M"
          ],
          [
           "SHOX_mutation",
           "M"
          ],
          [
           "SHOX_mutation",
           "M"
          ],
          [
           "SHOX_mutation",
           "M"
          ],
          [
           "SHOX_mutation",
           "M"
          ],
          [
           "SHOX_mutation",
           "F"
          ],
          [
           "SHOX_mutation",
           "F"
          ],
          [
           "SHOX_mutation",
           "M"
          ],
          [
           "SHOX_mutation",
           "M"
          ],
          [
           "SHOX_mutation",
           "M"
          ],
          [
           "SHOX_mutation",
           "M"
          ],
          [
           "SHOX_mutation",
           "M"
          ],
          [
           "SHOX_mutation",
           "M"
          ],
          [
           "SHOX_mutation",
           "F"
          ],
          [
           "SHOX_mutation",
           "M"
          ],
          [
           "SHOX_mutation",
           "M"
          ],
          [
           "SHOX_mutation",
           "M"
          ],
          [
           "SHOX_mutation",
           "M"
          ],
          [
           "SHOX_mutation",
           "M"
          ],
          [
           "SHOX_mutation",
           "M"
          ],
          [
           "SHOX_mutation",
           "M"
          ],
          [
           "SHOX_mutation",
           "F"
          ],
          [
           "SHOX_mutation",
           "M"
          ],
          [
           "SHOX_mutation",
           "F"
          ],
          [
           "SHOX_mutation",
           "M"
          ],
          [
           "SHOX_mutation",
           "F"
          ],
          [
           "SHOX_mutation",
           "M"
          ],
          [
           "SHOX_mutation",
           "F"
          ],
          [
           "SHOX_mutation",
           "M"
          ],
          [
           "SHOX_mutation",
           "M"
          ],
          [
           "SHOX_mutation",
           "M"
          ],
          [
           "SHOX_mutation",
           "M"
          ],
          [
           "SHOX_mutation",
           "M"
          ],
          [
           "SHOX_mutation",
           "F"
          ],
          [
           "SHOX_mutation",
           "M"
          ],
          [
           "SHOX_mutation",
           "M"
          ],
          [
           "SHOX_mutation",
           "F"
          ],
          [
           "SHOX_mutation",
           "F"
          ],
          [
           "SHOX_mutation",
           "M"
          ],
          [
           "SHOX_mutation",
           "M"
          ],
          [
           "SHOX_mutation",
           "M"
          ],
          [
           "SHOX_mutation",
           "M"
          ],
          [
           "SHOX_mutation",
           "M"
          ],
          [
           "SHOX_mutation",
           "M"
          ],
          [
           "SHOX_mutation",
           "M"
          ],
          [
           "SHOX_mutation",
           "F"
          ],
          [
           "SHOX_mutation",
           "M"
          ],
          [
           "SHOX_mutation",
           "F"
          ],
          [
           "SHOX_mutation",
           "F"
          ],
          [
           "SHOX_mutation",
           "M"
          ],
          [
           "SHOX_mutation",
           "M"
          ],
          [
           "SHOX_mutation",
           "M"
          ],
          [
           "SHOX_mutation",
           "M"
          ],
          [
           "SHOX_mutation",
           "M"
          ],
          [
           "SHOX_mutation",
           "M"
          ],
          [
           "SHOX_mutation",
           "M"
          ],
          [
           "SHOX_mutation",
           "M"
          ],
          [
           "SHOX_mutation",
           "F"
          ],
          [
           "SHOX_mutation",
           "F"
          ],
          [
           "SHOX_mutation",
           "M"
          ],
          [
           "SHOX_mutation",
           "M"
          ],
          [
           "SHOX_mutation",
           "F"
          ],
          [
           "SHOX_mutation",
           "M"
          ],
          [
           "SHOX_mutation",
           "M"
          ],
          [
           "SHOX_mutation",
           "M"
          ],
          [
           "SHOX_mutation",
           "M"
          ],
          [
           "SHOX_mutation",
           "M"
          ],
          [
           "SHOX_mutation",
           "M"
          ],
          [
           "SHOX_mutation",
           "M"
          ],
          [
           "SHOX_mutation",
           "M"
          ],
          [
           "SHOX_mutation",
           "M"
          ],
          [
           "SHOX_mutation",
           "M"
          ],
          [
           "SHOX_mutation",
           "F"
          ],
          [
           "SHOX_mutation",
           "F"
          ],
          [
           "SHOX_mutation",
           "M"
          ],
          [
           "SHOX_mutation",
           "M"
          ],
          [
           "SHOX_mutation",
           "M"
          ],
          [
           "SHOX_mutation",
           "M"
          ],
          [
           "SHOX_mutation",
           "M"
          ],
          [
           "SHOX_mutation",
           "M"
          ],
          [
           "SHOX_mutation",
           "M"
          ],
          [
           "SHOX_mutation",
           "M"
          ],
          [
           "SHOX_mutation",
           "M"
          ],
          [
           "SHOX_mutation",
           "M"
          ],
          [
           "SHOX_mutation",
           "M"
          ],
          [
           "SHOX_mutation",
           "F"
          ],
          [
           "SHOX_mutation",
           "M"
          ],
          [
           "SHOX_mutation",
           "M"
          ],
          [
           "SHOX_mutation",
           "M"
          ],
          [
           "SHOX_mutation",
           "F"
          ],
          [
           "SHOX_mutation",
           "M"
          ],
          [
           "SHOX_mutation",
           "M"
          ],
          [
           "SHOX_mutation",
           "M"
          ],
          [
           "SHOX_mutation",
           "M"
          ],
          [
           "SHOX_mutation",
           "M"
          ],
          [
           "SHOX_mutation",
           "M"
          ],
          [
           "SHOX_mutation",
           "M"
          ],
          [
           "SHOX_mutation",
           "M"
          ],
          [
           "SHOX_mutation",
           "M"
          ],
          [
           "SHOX_mutation",
           "M"
          ],
          [
           "SHOX_mutation",
           "M"
          ],
          [
           "SHOX_mutation",
           "M"
          ],
          [
           "SHOX_mutation",
           "M"
          ],
          [
           "SHOX_mutation",
           "M"
          ],
          [
           "SHOX_mutation",
           "M"
          ],
          [
           "SHOX_mutation",
           "M"
          ],
          [
           "SHOX_mutation",
           "M"
          ],
          [
           "SHOX_mutation",
           "M"
          ],
          [
           "SHOX_mutation",
           "F"
          ],
          [
           "SHOX_mutation",
           "M"
          ],
          [
           "SHOX_mutation",
           "M"
          ],
          [
           "SHOX_mutation",
           "M"
          ],
          [
           "SHOX_mutation",
           "F"
          ],
          [
           "SHOX_mutation",
           "M"
          ],
          [
           "SHOX_mutation",
           "M"
          ],
          [
           "SHOX_mutation",
           "M"
          ],
          [
           "SHOX_mutation",
           "M"
          ],
          [
           "SHOX_mutation",
           "M"
          ],
          [
           "SHOX_mutation",
           "M"
          ],
          [
           "SHOX_mutation",
           "M"
          ],
          [
           "SHOX_mutation",
           "M"
          ],
          [
           "SHOX_mutation",
           "M"
          ],
          [
           "SHOX_mutation",
           "F"
          ],
          [
           "SHOX_mutation",
           "M"
          ],
          [
           "SHOX_mutation",
           "M"
          ],
          [
           "SHOX_mutation",
           "M"
          ],
          [
           "SHOX_mutation",
           "F"
          ],
          [
           "SHOX_mutation",
           "M"
          ],
          [
           "SHOX_mutation",
           "M"
          ],
          [
           "SHOX_mutation",
           "F"
          ],
          [
           "SHOX_mutation",
           "M"
          ],
          [
           "SHOX_mutation",
           "M"
          ],
          [
           "SHOX_mutation",
           "M"
          ],
          [
           "SHOX_mutation",
           "M"
          ],
          [
           "SHOX_mutation",
           "M"
          ],
          [
           "SHOX_mutation",
           "M"
          ],
          [
           "SHOX_mutation",
           "M"
          ],
          [
           "SHOX_mutation",
           "F"
          ],
          [
           "SHOX_mutation",
           "M"
          ],
          [
           "SHOX_mutation",
           "F"
          ],
          [
           "SHOX_mutation",
           "M"
          ],
          [
           "SHOX_mutation",
           "M"
          ],
          [
           "SHOX_mutation",
           "M"
          ],
          [
           "SHOX_mutation",
           "F"
          ],
          [
           "SHOX_mutation",
           "M"
          ],
          [
           "SHOX_mutation",
           "M"
          ],
          [
           "SHOX_mutation",
           "M"
          ],
          [
           "SHOX_mutation",
           "M"
          ],
          [
           "SHOX_mutation",
           "F"
          ],
          [
           "SHOX_mutation",
           "M"
          ],
          [
           "SHOX_mutation",
           "M"
          ],
          [
           "SHOX_mutation",
           "F"
          ],
          [
           "SHOX_mutation",
           "M"
          ],
          [
           "SHOX_mutation",
           "M"
          ],
          [
           "SHOX_mutation",
           "M"
          ],
          [
           "SHOX_mutation",
           "F"
          ],
          [
           "SHOX_mutation",
           "M"
          ],
          [
           "SHOX_mutation",
           "F"
          ],
          [
           "SHOX_mutation",
           "F"
          ],
          [
           "SHOX_mutation",
           "M"
          ],
          [
           "SHOX_mutation",
           "M"
          ],
          [
           "SHOX_mutation",
           "F"
          ],
          [
           "SHOX_mutation",
           "M"
          ],
          [
           "SHOX_mutation",
           "M"
          ],
          [
           "SHOX_mutation",
           "M"
          ],
          [
           "SHOX_mutation",
           "F"
          ],
          [
           "SHOX_mutation",
           "M"
          ],
          [
           "SHOX_mutation",
           "M"
          ],
          [
           "SHOX_mutation",
           "M"
          ],
          [
           "SHOX_mutation",
           "M"
          ],
          [
           "SHOX_mutation",
           "M"
          ],
          [
           "SHOX_mutation",
           "M"
          ],
          [
           "SHOX_mutation",
           "M"
          ],
          [
           "SHOX_mutation",
           "M"
          ],
          [
           "SHOX_mutation",
           "M"
          ],
          [
           "SHOX_mutation",
           "M"
          ],
          [
           "SHOX_mutation",
           "M"
          ],
          [
           "SHOX_mutation",
           "F"
          ],
          [
           "SHOX_mutation",
           "F"
          ],
          [
           "SHOX_mutation",
           "F"
          ],
          [
           "SHOX_mutation",
           "M"
          ],
          [
           "SHOX_mutation",
           "M"
          ],
          [
           "SHOX_mutation",
           "F"
          ],
          [
           "SHOX_mutation",
           "M"
          ],
          [
           "SHOX_mutation",
           "F"
          ],
          [
           "SHOX_mutation",
           "M"
          ]
         ],
         "hovertemplate": "disorder=%{customdata[0]}<br>x=%{x}<br>y=%{y}<br>sex=%{customdata[1]}<extra></extra>",
         "legendgroup": "SHOX_mutation",
         "marker": {
          "color": "#B68100",
          "opacity": 1,
          "size": 7,
          "symbol": "circle"
         },
         "mode": "markers",
         "name": "SHOX Mutation",
         "orientation": "v",
         "showlegend": true,
         "type": "scatter",
         "x": [
          63.3,
          74.6,
          51,
          83.8,
          56,
          92.6,
          65,
          98.6,
          100.9,
          134.7,
          77.1,
          68.7,
          101.7,
          139.7,
          114.9,
          80.2,
          116.9,
          17.8,
          134,
          107.4,
          150.6,
          113.4,
          24.9,
          50.7,
          79.1,
          187.9,
          85.4,
          53.6,
          121.7,
          119.3,
          111.9,
          81.4,
          159.2,
          143.1,
          58,
          32.1,
          94.9,
          21.9,
          33.1,
          21.8,
          50.4,
          126.5,
          72.3,
          88,
          165.9,
          138.8,
          103.5,
          127.4,
          151.9,
          33.5,
          61.7,
          124.6,
          78.9,
          110.3,
          96.5,
          135.8,
          128.5,
          37.2,
          70.1,
          159.5,
          31.5,
          58.9,
          28.7,
          116.4,
          63.2,
          101.2,
          84.4,
          44.9,
          132.4,
          165.8,
          40.6,
          76.7,
          140.7,
          39.6,
          21,
          128,
          38.8,
          145,
          51,
          148.1,
          197.6,
          131.7,
          146.7,
          90.2,
          48.5,
          42.2,
          41.5,
          97.2,
          59,
          120.1,
          73.5,
          60.3,
          156.9,
          127.7,
          159,
          30.2,
          28.3,
          45.5,
          145.7,
          156.2,
          95,
          57.7,
          52.2,
          64.7,
          158.1,
          164,
          155.4,
          168,
          127.2,
          65.5,
          84.5,
          111.9,
          170.6,
          132.2,
          166.1,
          164.5,
          35.7,
          145.5,
          91,
          172.4,
          73.9,
          132.6,
          180.8,
          64.1,
          61.7,
          169.3,
          178.9,
          119.9,
          141.5,
          53.2,
          156.3,
          175.4,
          73.2,
          64.6,
          78.2,
          145.4,
          76.4,
          185.9,
          24.9,
          110.1,
          104,
          62.5,
          130.1,
          137.8,
          193.6,
          62.9,
          149.1,
          82.5,
          90.7,
          88.9,
          133,
          99.9,
          144.3,
          92.2,
          161.3,
          91.4,
          53,
          25.7,
          123.1,
          192.1,
          76.2,
          120.5,
          140.8,
          47.2,
          156.1,
          73.9,
          93,
          79.1,
          152.4,
          43.2,
          108.7,
          101.9,
          132.4,
          101.6,
          144.5,
          101.8,
          160.4,
          39.1,
          33.1,
          205.2,
          159.2,
          139,
          104,
          130.6,
          112.5,
          161.9,
          143,
          94.4,
          146.8,
          113.7,
          94.2,
          123.3,
          120.9,
          65.8,
          113.9,
          165.8,
          56.5,
          139.9
         ],
         "xaxis": "x",
         "y": [
          6.7,
          2.2,
          0,
          -0.4,
          -2.1,
          5.2,
          -2.1,
          5.2,
          3.7,
          2.3,
          4.2,
          -6.5,
          -3.5,
          0.5,
          7.8,
          4.3,
          2.8,
          2.6,
          22,
          -4.3,
          1.1,
          13.7,
          -4.2,
          2.4,
          -3.7,
          15.8,
          8.8,
          -3.7,
          3.4,
          13.7,
          -1.2,
          0.7,
          3.5,
          4.2,
          -10.1,
          4.3,
          9.9,
          1.8,
          -5.7,
          -4.3,
          -1.3,
          13.1,
          0.7,
          5,
          4.8,
          1.5,
          9,
          5.8,
          9.8,
          4,
          3.4,
          -2.9,
          -1.3,
          -1.3,
          1,
          7.6,
          -1,
          5.5,
          5.2,
          7.1,
          -2.9,
          9.8,
          3.5,
          7.7,
          -5.6,
          10.3,
          0.8,
          -6.2,
          0.9,
          1.6,
          6.1,
          15.4,
          8.4,
          1.1,
          -0.1,
          10,
          11.7,
          -4,
          -5.9,
          -0.8,
          14.1,
          11.5,
          11.3,
          6.5,
          7,
          -5.5,
          11,
          2.4,
          4,
          0.1,
          8.9,
          -11.4,
          -4.2,
          -2.6,
          -6.1,
          -2.5,
          2.7,
          -5.1,
          6.5,
          12.4,
          4.1,
          -4.6,
          8.4,
          0.4,
          10.3,
          -2,
          4.9,
          -2.9,
          2.5,
          11,
          7,
          10.8,
          -0.7,
          3.3,
          2.2,
          2,
          -6.6,
          -9,
          14.1,
          2.8,
          3.9,
          1.2,
          1.6,
          -0.9,
          -5.7,
          8.5,
          6.7,
          11.8,
          0.9,
          4.5,
          -5.3,
          5.8,
          14.4,
          6.2,
          0.3,
          -6.1,
          5.8,
          2.7,
          1.7,
          16.2,
          0.9,
          17,
          5.2,
          8.6,
          9.3,
          -0.3,
          -1.8,
          9,
          19.4,
          -5.3,
          7.9,
          7.8,
          3.5,
          1.3,
          4.6,
          -9.2,
          3.9,
          -2.5,
          6.2,
          6.3,
          -0.7,
          -5,
          -6.4,
          -7.5,
          0.1,
          -2.1,
          8.9,
          14.3,
          7.8,
          -9.5,
          1.4,
          23.9,
          6.7,
          2.2,
          4,
          11.6,
          2.7,
          3.1,
          -2.8,
          2.4,
          3.4,
          14,
          13.1,
          9.3,
          20.9,
          -0.1,
          3.9,
          8.8,
          11.7,
          5.4,
          -3.6,
          6.6,
          7.8,
          5.6,
          14.7,
          1.6,
          -12.9,
          3.8
         ],
         "yaxis": "y"
        },
        {
         "customdata": [
          [
           "Noonan",
           "F"
          ],
          [
           "Noonan",
           "F"
          ],
          [
           "Noonan",
           "F"
          ],
          [
           "Noonan",
           "M"
          ],
          [
           "Noonan",
           "F"
          ],
          [
           "Noonan",
           "F"
          ],
          [
           "Noonan",
           "F"
          ],
          [
           "Noonan",
           "F"
          ],
          [
           "Noonan",
           "M"
          ],
          [
           "Noonan",
           "F"
          ],
          [
           "Noonan",
           "M"
          ],
          [
           "Noonan",
           "F"
          ],
          [
           "Noonan",
           "F"
          ],
          [
           "Noonan",
           "F"
          ],
          [
           "Noonan",
           "M"
          ],
          [
           "Noonan",
           "F"
          ],
          [
           "Noonan",
           "F"
          ],
          [
           "Noonan",
           "M"
          ],
          [
           "Noonan",
           "F"
          ],
          [
           "Noonan",
           "F"
          ],
          [
           "Noonan",
           "M"
          ],
          [
           "Noonan",
           "F"
          ],
          [
           "Noonan",
           "M"
          ],
          [
           "Noonan",
           "F"
          ],
          [
           "Noonan",
           "M"
          ],
          [
           "Noonan",
           "M"
          ],
          [
           "Noonan",
           "F"
          ],
          [
           "Noonan",
           "M"
          ],
          [
           "Noonan",
           "F"
          ],
          [
           "Noonan",
           "F"
          ],
          [
           "Noonan",
           "M"
          ],
          [
           "Noonan",
           "F"
          ],
          [
           "Noonan",
           "M"
          ],
          [
           "Noonan",
           "M"
          ],
          [
           "Noonan",
           "F"
          ],
          [
           "Noonan",
           "M"
          ],
          [
           "Noonan",
           "M"
          ],
          [
           "Noonan",
           "F"
          ],
          [
           "Noonan",
           "F"
          ],
          [
           "Noonan",
           "M"
          ],
          [
           "Noonan",
           "M"
          ],
          [
           "Noonan",
           "F"
          ],
          [
           "Noonan",
           "F"
          ],
          [
           "Noonan",
           "F"
          ],
          [
           "Noonan",
           "F"
          ],
          [
           "Noonan",
           "M"
          ],
          [
           "Noonan",
           "F"
          ],
          [
           "Noonan",
           "M"
          ],
          [
           "Noonan",
           "F"
          ],
          [
           "Noonan",
           "M"
          ],
          [
           "Noonan",
           "M"
          ],
          [
           "Noonan",
           "F"
          ],
          [
           "Noonan",
           "F"
          ],
          [
           "Noonan",
           "F"
          ],
          [
           "Noonan",
           "M"
          ],
          [
           "Noonan",
           "F"
          ],
          [
           "Noonan",
           "M"
          ],
          [
           "Noonan",
           "F"
          ],
          [
           "Noonan",
           "F"
          ],
          [
           "Noonan",
           "M"
          ],
          [
           "Noonan",
           "F"
          ],
          [
           "Noonan",
           "F"
          ],
          [
           "Noonan",
           "M"
          ],
          [
           "Noonan",
           "F"
          ],
          [
           "Noonan",
           "F"
          ],
          [
           "Noonan",
           "F"
          ],
          [
           "Noonan",
           "M"
          ],
          [
           "Noonan",
           "F"
          ],
          [
           "Noonan",
           "F"
          ],
          [
           "Noonan",
           "M"
          ],
          [
           "Noonan",
           "F"
          ],
          [
           "Noonan",
           "F"
          ],
          [
           "Noonan",
           "F"
          ],
          [
           "Noonan",
           "F"
          ],
          [
           "Noonan",
           "M"
          ],
          [
           "Noonan",
           "M"
          ],
          [
           "Noonan",
           "M"
          ],
          [
           "Noonan",
           "F"
          ],
          [
           "Noonan",
           "M"
          ],
          [
           "Noonan",
           "M"
          ]
         ],
         "hovertemplate": "disorder=%{customdata[0]}<br>x=%{x}<br>y=%{y}<br>sex=%{customdata[1]}<extra></extra>",
         "legendgroup": "Noonan",
         "marker": {
          "color": "#750D86",
          "opacity": 1,
          "size": 7,
          "symbol": "circle"
         },
         "mode": "markers",
         "name": "Noonan Syndrome",
         "orientation": "v",
         "showlegend": true,
         "type": "scatter",
         "x": [
          41.9,
          47.2,
          57.5,
          60,
          45.3,
          62.1,
          51.3,
          65.5,
          61.3,
          58.4,
          31.9,
          75.7,
          71.5,
          85,
          75.5,
          67.5,
          85.2,
          73.9,
          84.7,
          71.7,
          45.7,
          93.1,
          77.3,
          81,
          88.8,
          79,
          85.1,
          54.1,
          102.6,
          104.1,
          82.1,
          92.2,
          65.4,
          104.4,
          120,
          103.6,
          73,
          98.7,
          122,
          120.6,
          81.4,
          101.8,
          126.7,
          133.3,
          33.5,
          88.4,
          108.1,
          101,
          138.3,
          139.3,
          132.9,
          137.9,
          125.2,
          146,
          108.4,
          71.1,
          153.9,
          154.3,
          135.7,
          130.4,
          147.2,
          162.7,
          150.6,
          54.5,
          145.1,
          174.5,
          131.2,
          98.4,
          154.6,
          160.7,
          174.6,
          132.2,
          164.2,
          69.2,
          149.4,
          162.9,
          163.7,
          81.4,
          179.6,
          176.4
         ],
         "xaxis": "x",
         "y": [
          2.8,
          1.3,
          -1.9,
          0,
          -2.3,
          -4.8,
          12.5,
          2.1,
          -0.4,
          -0.2,
          3.9,
          -1.6,
          -0.9,
          -1.1,
          7,
          -8.9,
          2.5,
          3.8,
          4.3,
          -0.6,
          -4.6,
          0.1,
          -1.3,
          -3.1,
          9.6,
          2,
          -3.9,
          -2.8,
          -1.8,
          1.2,
          8.2,
          -1.7,
          -13.2,
          4.7,
          3,
          3.2,
          -4.1,
          -0.5,
          4,
          4.2,
          -11.3,
          2.6,
          1.3,
          -9.4,
          0.9,
          2.8,
          0.2,
          10,
          0.6,
          -0.5,
          -10.1,
          5.9,
          -7.6,
          0.9,
          -14.3,
          -10.8,
          -4.1,
          2.7,
          -4.6,
          -3.2,
          6.4,
          4.5,
          -7.7,
          -5,
          -0.8,
          7.1,
          1.4,
          -4.2,
          3.2,
          -14.6,
          1.3,
          -5.7,
          7.4,
          0.4,
          4.9,
          -7.2,
          6.4,
          -2.2,
          5.2,
          -1.2
         ],
         "yaxis": "y"
        },
        {
         "customdata": [
          [
           "UTS",
           "F"
          ],
          [
           "UTS",
           "F"
          ],
          [
           "UTS",
           "F"
          ],
          [
           "UTS",
           "F"
          ],
          [
           "UTS",
           "F"
          ],
          [
           "UTS",
           "F"
          ],
          [
           "UTS",
           "F"
          ],
          [
           "UTS",
           "F"
          ],
          [
           "UTS",
           "F"
          ],
          [
           "UTS",
           "F"
          ],
          [
           "UTS",
           "F"
          ],
          [
           "UTS",
           "F"
          ],
          [
           "UTS",
           "F"
          ],
          [
           "UTS",
           "F"
          ],
          [
           "UTS",
           "F"
          ],
          [
           "UTS",
           "F"
          ],
          [
           "UTS",
           "F"
          ],
          [
           "UTS",
           "F"
          ],
          [
           "UTS",
           "F"
          ],
          [
           "UTS",
           "F"
          ],
          [
           "UTS",
           "F"
          ],
          [
           "UTS",
           "F"
          ],
          [
           "UTS",
           "F"
          ],
          [
           "UTS",
           "F"
          ],
          [
           "UTS",
           "F"
          ],
          [
           "UTS",
           "F"
          ],
          [
           "UTS",
           "F"
          ],
          [
           "UTS",
           "F"
          ],
          [
           "UTS",
           "F"
          ],
          [
           "UTS",
           "F"
          ],
          [
           "UTS",
           "F"
          ],
          [
           "UTS",
           "F"
          ],
          [
           "UTS",
           "F"
          ],
          [
           "UTS",
           "F"
          ],
          [
           "UTS",
           "F"
          ],
          [
           "UTS",
           "F"
          ],
          [
           "UTS",
           "F"
          ],
          [
           "UTS",
           "F"
          ],
          [
           "UTS",
           "F"
          ],
          [
           "UTS",
           "F"
          ],
          [
           "UTS",
           "F"
          ],
          [
           "UTS",
           "F"
          ],
          [
           "UTS",
           "F"
          ],
          [
           "UTS",
           "F"
          ],
          [
           "UTS",
           "F"
          ],
          [
           "UTS",
           "F"
          ],
          [
           "UTS",
           "F"
          ],
          [
           "UTS",
           "F"
          ],
          [
           "UTS",
           "F"
          ],
          [
           "UTS",
           "F"
          ],
          [
           "UTS",
           "F"
          ],
          [
           "UTS",
           "F"
          ],
          [
           "UTS",
           "F"
          ],
          [
           "UTS",
           "F"
          ],
          [
           "UTS",
           "F"
          ],
          [
           "UTS",
           "F"
          ],
          [
           "UTS",
           "F"
          ],
          [
           "UTS",
           "F"
          ],
          [
           "UTS",
           "F"
          ],
          [
           "UTS",
           "F"
          ],
          [
           "UTS",
           "F"
          ],
          [
           "UTS",
           "F"
          ],
          [
           "UTS",
           "F"
          ],
          [
           "UTS",
           "F"
          ],
          [
           "UTS",
           "F"
          ],
          [
           "UTS",
           "F"
          ],
          [
           "UTS",
           "F"
          ],
          [
           "UTS",
           "F"
          ],
          [
           "UTS",
           "F"
          ],
          [
           "UTS",
           "F"
          ],
          [
           "UTS",
           "F"
          ],
          [
           "UTS",
           "F"
          ],
          [
           "UTS",
           "F"
          ],
          [
           "UTS",
           "F"
          ],
          [
           "UTS",
           "F"
          ],
          [
           "UTS",
           "F"
          ],
          [
           "UTS",
           "F"
          ],
          [
           "UTS",
           "F"
          ],
          [
           "UTS",
           "F"
          ],
          [
           "UTS",
           "F"
          ],
          [
           "UTS",
           "F"
          ],
          [
           "UTS",
           "F"
          ],
          [
           "UTS",
           "F"
          ],
          [
           "UTS",
           "F"
          ],
          [
           "UTS",
           "F"
          ],
          [
           "UTS",
           "F"
          ],
          [
           "UTS",
           "F"
          ],
          [
           "UTS",
           "F"
          ],
          [
           "UTS",
           "F"
          ],
          [
           "UTS",
           "F"
          ],
          [
           "UTS",
           "F"
          ],
          [
           "UTS",
           "F"
          ],
          [
           "UTS",
           "F"
          ],
          [
           "UTS",
           "F"
          ],
          [
           "UTS",
           "F"
          ],
          [
           "UTS",
           "F"
          ],
          [
           "UTS",
           "F"
          ],
          [
           "UTS",
           "F"
          ],
          [
           "UTS",
           "F"
          ],
          [
           "UTS",
           "F"
          ],
          [
           "UTS",
           "F"
          ],
          [
           "UTS",
           "F"
          ],
          [
           "UTS",
           "F"
          ],
          [
           "UTS",
           "F"
          ],
          [
           "UTS",
           "F"
          ],
          [
           "UTS",
           "F"
          ],
          [
           "UTS",
           "F"
          ],
          [
           "UTS",
           "F"
          ],
          [
           "UTS",
           "F"
          ],
          [
           "UTS",
           "F"
          ],
          [
           "UTS",
           "F"
          ],
          [
           "UTS",
           "F"
          ],
          [
           "UTS",
           "F"
          ],
          [
           "UTS",
           "F"
          ],
          [
           "UTS",
           "F"
          ],
          [
           "UTS",
           "F"
          ],
          [
           "UTS",
           "F"
          ],
          [
           "UTS",
           "F"
          ],
          [
           "UTS",
           "F"
          ],
          [
           "UTS",
           "F"
          ],
          [
           "UTS",
           "F"
          ],
          [
           "UTS",
           "F"
          ]
         ],
         "hovertemplate": "disorder=%{customdata[0]}<br>x=%{x}<br>y=%{y}<br>sex=%{customdata[1]}<extra></extra>",
         "legendgroup": "UTS",
         "marker": {
          "color": "#EB663B",
          "opacity": 1,
          "size": 7,
          "symbol": "circle"
         },
         "mode": "markers",
         "name": "Ullrich-Turner Syndrome (UTS)",
         "orientation": "v",
         "showlegend": true,
         "type": "scatter",
         "x": [
          153,
          138.7,
          147.9,
          155.7,
          153.9,
          164,
          164.8,
          168.3,
          174.1,
          175.8,
          28.8,
          26.5,
          123.7,
          36.5,
          131.1,
          91,
          78.7,
          32.7,
          36.7,
          140.7,
          81.7,
          92.6,
          38.9,
          43.4,
          41.6,
          43,
          96,
          46.2,
          81.1,
          52,
          49.2,
          105.6,
          52.3,
          90.8,
          94.1,
          60,
          54.1,
          58.7,
          103,
          111.2,
          158.1,
          62.2,
          66.7,
          73.4,
          109.4,
          112.7,
          180.4,
          73.7,
          51.4,
          37.2,
          75.6,
          74,
          149.9,
          120.1,
          122.5,
          88.6,
          91.7,
          122.4,
          67.7,
          177.2,
          86.7,
          127.3,
          154.9,
          44.6,
          82.7,
          137.1,
          136.2,
          127.4,
          159.9,
          92.7,
          147,
          112.9,
          95.1,
          66.8,
          102.7,
          171.7,
          168.7,
          87.4,
          154.7,
          114.4,
          138.1,
          104.9,
          43.5,
          176.8,
          179.8,
          108.6,
          163.1,
          108.3,
          73,
          125.6,
          52.4,
          140.2,
          103.3,
          33.4,
          102.7,
          115.5,
          125.7,
          36.2,
          102.5,
          118.2,
          142.2,
          113.8,
          49.6,
          124.7,
          132.5,
          109.4,
          134.3,
          90.5,
          55.9,
          145.7,
          44.5,
          119.3,
          180,
          122.6,
          148,
          69.4,
          42.3,
          126.3,
          70.7,
          127,
          148.3,
          124
         ],
         "xaxis": "x",
         "y": [
          5.9,
          -7.6,
          -7.3,
          8.4,
          4.7,
          1,
          8.6,
          6.6,
          12.2,
          3.6,
          -2.4,
          -7,
          1.5,
          3.9,
          1.2,
          -4,
          -1.5,
          -0.5,
          -1.5,
          2.4,
          -1.6,
          -3.9,
          -0.2,
          -6.1,
          5.2,
          2,
          -2.9,
          -3.7,
          6.1,
          -3.9,
          -3.6,
          -19.7,
          -3.3,
          4.6,
          -0.7,
          0,
          0.2,
          -5.6,
          1.9,
          -23.6,
          -1.7,
          4.5,
          -1.6,
          2.9,
          -9.3,
          -2.5,
          12.9,
          9.3,
          6.7,
          2.4,
          1.3,
          4,
          -6.3,
          -5.8,
          -27.9,
          -2.7,
          6.4,
          10.7,
          9.5,
          6.4,
          -3.5,
          -9.5,
          0.7,
          -6.9,
          3.4,
          -4.7,
          5.4,
          11.8,
          4.8,
          -0.7,
          -3,
          -2.2,
          -1.8,
          7.7,
          -1.6,
          -1.7,
          -1.6,
          6.8,
          -2.6,
          -5.3,
          15.2,
          -3.2,
          -0.1,
          5.6,
          5.5,
          -4.8,
          2.2,
          -5.4,
          7.9,
          -6.9,
          -3.1,
          4.4,
          -3.5,
          -5.2,
          -10.6,
          2.9,
          -0.6,
          -2.5,
          -5.1,
          -9.6,
          11.5,
          -12.4,
          0.2,
          3.4,
          12.9,
          2.7,
          10.6,
          4,
          -2.2,
          6.5,
          -1,
          -7.5,
          11.9,
          -0.9,
          1.9,
          -5.2,
          -2.4,
          -5.5,
          -8.5,
          1.9,
          2.7,
          -6.9
         ],
         "yaxis": "y"
        }
       ],
       "layout": {
        "annotations": [
         {
          "font": {
           "size": 15
          },
          "showarrow": false,
          "text": "$+1.96\\:\\sigma$",
          "x": 220,
          "y": 18.860879834477114,
          "yshift": 1
         },
         {
          "font": {
           "size": 15
          },
          "showarrow": false,
          "text": "$-1.96\\:\\sigma$",
          "x": 220,
          "y": -15.465921464271231,
          "yshift": 1
         },
         {
          "font": {
           "size": 15
          },
          "showarrow": false,
          "text": "$\\overline{\\Delta}=1.4$",
          "x": 220,
          "y": 2.4001220471259126,
          "yshift": 10
         },
         {
          "font": {
           "size": 15
          },
          "showarrow": false,
          "text": "Double-click on a disorder's name in the legend to isolate only that disorder in the plot",
          "x": 115,
          "y": 30,
          "yshift": 10
         },
         {
          "font": {
           "size": 15
          },
          "showarrow": false,
          "text": "By B. Javanmardi",
          "x": 30,
          "y": -27,
          "yshift": 10
         }
        ],
        "height": 500,
        "legend": {
         "font": {
          "size": 15
         },
         "title": {
          "text": "  "
         },
         "tracegroupgap": 0
        },
        "modebar": {
         "remove": [
          "lasso2d",
          "select2d"
         ]
        },
        "plot_bgcolor": "rgba(0, 0, 0, 0)",
        "shapes": [
         {
          "line": {
           "dash": "dash"
          },
          "type": "line",
          "x0": 0,
          "x1": 260,
          "y0": 16.18705183735597,
          "y1": 16.18705183735597
         },
         {
          "line": {
           "dash": "dash"
          },
          "type": "line",
          "x0": 0,
          "x1": 260,
          "y0": -13.386807743104143,
          "y1": -13.386807743104143
         },
         {
          "line": {
           "dash": "dot"
          },
          "type": "line",
          "x0": 0,
          "x1": 260,
          "y0": 1.4001220471259126,
          "y1": 1.4001220471259126
         }
        ],
        "template": {
         "data": {
          "bar": [
           {
            "error_x": {
             "color": "#2a3f5f"
            },
            "error_y": {
             "color": "#2a3f5f"
            },
            "marker": {
             "line": {
              "color": "#E5ECF6",
              "width": 0.5
             },
             "pattern": {
              "fillmode": "overlay",
              "size": 10,
              "solidity": 0.2
             }
            },
            "type": "bar"
           }
          ],
          "barpolar": [
           {
            "marker": {
             "line": {
              "color": "#E5ECF6",
              "width": 0.5
             },
             "pattern": {
              "fillmode": "overlay",
              "size": 10,
              "solidity": 0.2
             }
            },
            "type": "barpolar"
           }
          ],
          "carpet": [
           {
            "aaxis": {
             "endlinecolor": "#2a3f5f",
             "gridcolor": "white",
             "linecolor": "white",
             "minorgridcolor": "white",
             "startlinecolor": "#2a3f5f"
            },
            "baxis": {
             "endlinecolor": "#2a3f5f",
             "gridcolor": "white",
             "linecolor": "white",
             "minorgridcolor": "white",
             "startlinecolor": "#2a3f5f"
            },
            "type": "carpet"
           }
          ],
          "choropleth": [
           {
            "colorbar": {
             "outlinewidth": 0,
             "ticks": ""
            },
            "type": "choropleth"
           }
          ],
          "contour": [
           {
            "colorbar": {
             "outlinewidth": 0,
             "ticks": ""
            },
            "colorscale": [
             [
              0,
              "#0d0887"
             ],
             [
              0.1111111111111111,
              "#46039f"
             ],
             [
              0.2222222222222222,
              "#7201a8"
             ],
             [
              0.3333333333333333,
              "#9c179e"
             ],
             [
              0.4444444444444444,
              "#bd3786"
             ],
             [
              0.5555555555555556,
              "#d8576b"
             ],
             [
              0.6666666666666666,
              "#ed7953"
             ],
             [
              0.7777777777777778,
              "#fb9f3a"
             ],
             [
              0.8888888888888888,
              "#fdca26"
             ],
             [
              1,
              "#f0f921"
             ]
            ],
            "type": "contour"
           }
          ],
          "contourcarpet": [
           {
            "colorbar": {
             "outlinewidth": 0,
             "ticks": ""
            },
            "type": "contourcarpet"
           }
          ],
          "heatmap": [
           {
            "colorbar": {
             "outlinewidth": 0,
             "ticks": ""
            },
            "colorscale": [
             [
              0,
              "#0d0887"
             ],
             [
              0.1111111111111111,
              "#46039f"
             ],
             [
              0.2222222222222222,
              "#7201a8"
             ],
             [
              0.3333333333333333,
              "#9c179e"
             ],
             [
              0.4444444444444444,
              "#bd3786"
             ],
             [
              0.5555555555555556,
              "#d8576b"
             ],
             [
              0.6666666666666666,
              "#ed7953"
             ],
             [
              0.7777777777777778,
              "#fb9f3a"
             ],
             [
              0.8888888888888888,
              "#fdca26"
             ],
             [
              1,
              "#f0f921"
             ]
            ],
            "type": "heatmap"
           }
          ],
          "heatmapgl": [
           {
            "colorbar": {
             "outlinewidth": 0,
             "ticks": ""
            },
            "colorscale": [
             [
              0,
              "#0d0887"
             ],
             [
              0.1111111111111111,
              "#46039f"
             ],
             [
              0.2222222222222222,
              "#7201a8"
             ],
             [
              0.3333333333333333,
              "#9c179e"
             ],
             [
              0.4444444444444444,
              "#bd3786"
             ],
             [
              0.5555555555555556,
              "#d8576b"
             ],
             [
              0.6666666666666666,
              "#ed7953"
             ],
             [
              0.7777777777777778,
              "#fb9f3a"
             ],
             [
              0.8888888888888888,
              "#fdca26"
             ],
             [
              1,
              "#f0f921"
             ]
            ],
            "type": "heatmapgl"
           }
          ],
          "histogram": [
           {
            "marker": {
             "pattern": {
              "fillmode": "overlay",
              "size": 10,
              "solidity": 0.2
             }
            },
            "type": "histogram"
           }
          ],
          "histogram2d": [
           {
            "colorbar": {
             "outlinewidth": 0,
             "ticks": ""
            },
            "colorscale": [
             [
              0,
              "#0d0887"
             ],
             [
              0.1111111111111111,
              "#46039f"
             ],
             [
              0.2222222222222222,
              "#7201a8"
             ],
             [
              0.3333333333333333,
              "#9c179e"
             ],
             [
              0.4444444444444444,
              "#bd3786"
             ],
             [
              0.5555555555555556,
              "#d8576b"
             ],
             [
              0.6666666666666666,
              "#ed7953"
             ],
             [
              0.7777777777777778,
              "#fb9f3a"
             ],
             [
              0.8888888888888888,
              "#fdca26"
             ],
             [
              1,
              "#f0f921"
             ]
            ],
            "type": "histogram2d"
           }
          ],
          "histogram2dcontour": [
           {
            "colorbar": {
             "outlinewidth": 0,
             "ticks": ""
            },
            "colorscale": [
             [
              0,
              "#0d0887"
             ],
             [
              0.1111111111111111,
              "#46039f"
             ],
             [
              0.2222222222222222,
              "#7201a8"
             ],
             [
              0.3333333333333333,
              "#9c179e"
             ],
             [
              0.4444444444444444,
              "#bd3786"
             ],
             [
              0.5555555555555556,
              "#d8576b"
             ],
             [
              0.6666666666666666,
              "#ed7953"
             ],
             [
              0.7777777777777778,
              "#fb9f3a"
             ],
             [
              0.8888888888888888,
              "#fdca26"
             ],
             [
              1,
              "#f0f921"
             ]
            ],
            "type": "histogram2dcontour"
           }
          ],
          "mesh3d": [
           {
            "colorbar": {
             "outlinewidth": 0,
             "ticks": ""
            },
            "type": "mesh3d"
           }
          ],
          "parcoords": [
           {
            "line": {
             "colorbar": {
              "outlinewidth": 0,
              "ticks": ""
             }
            },
            "type": "parcoords"
           }
          ],
          "pie": [
           {
            "automargin": true,
            "type": "pie"
           }
          ],
          "scatter": [
           {
            "fillpattern": {
             "fillmode": "overlay",
             "size": 10,
             "solidity": 0.2
            },
            "type": "scatter"
           }
          ],
          "scatter3d": [
           {
            "line": {
             "colorbar": {
              "outlinewidth": 0,
              "ticks": ""
             }
            },
            "marker": {
             "colorbar": {
              "outlinewidth": 0,
              "ticks": ""
             }
            },
            "type": "scatter3d"
           }
          ],
          "scattercarpet": [
           {
            "marker": {
             "colorbar": {
              "outlinewidth": 0,
              "ticks": ""
             }
            },
            "type": "scattercarpet"
           }
          ],
          "scattergeo": [
           {
            "marker": {
             "colorbar": {
              "outlinewidth": 0,
              "ticks": ""
             }
            },
            "type": "scattergeo"
           }
          ],
          "scattergl": [
           {
            "marker": {
             "colorbar": {
              "outlinewidth": 0,
              "ticks": ""
             }
            },
            "type": "scattergl"
           }
          ],
          "scattermapbox": [
           {
            "marker": {
             "colorbar": {
              "outlinewidth": 0,
              "ticks": ""
             }
            },
            "type": "scattermapbox"
           }
          ],
          "scatterpolar": [
           {
            "marker": {
             "colorbar": {
              "outlinewidth": 0,
              "ticks": ""
             }
            },
            "type": "scatterpolar"
           }
          ],
          "scatterpolargl": [
           {
            "marker": {
             "colorbar": {
              "outlinewidth": 0,
              "ticks": ""
             }
            },
            "type": "scatterpolargl"
           }
          ],
          "scatterternary": [
           {
            "marker": {
             "colorbar": {
              "outlinewidth": 0,
              "ticks": ""
             }
            },
            "type": "scatterternary"
           }
          ],
          "surface": [
           {
            "colorbar": {
             "outlinewidth": 0,
             "ticks": ""
            },
            "colorscale": [
             [
              0,
              "#0d0887"
             ],
             [
              0.1111111111111111,
              "#46039f"
             ],
             [
              0.2222222222222222,
              "#7201a8"
             ],
             [
              0.3333333333333333,
              "#9c179e"
             ],
             [
              0.4444444444444444,
              "#bd3786"
             ],
             [
              0.5555555555555556,
              "#d8576b"
             ],
             [
              0.6666666666666666,
              "#ed7953"
             ],
             [
              0.7777777777777778,
              "#fb9f3a"
             ],
             [
              0.8888888888888888,
              "#fdca26"
             ],
             [
              1,
              "#f0f921"
             ]
            ],
            "type": "surface"
           }
          ],
          "table": [
           {
            "cells": {
             "fill": {
              "color": "#EBF0F8"
             },
             "line": {
              "color": "white"
             }
            },
            "header": {
             "fill": {
              "color": "#C8D4E3"
             },
             "line": {
              "color": "white"
             }
            },
            "type": "table"
           }
          ]
         },
         "layout": {
          "annotationdefaults": {
           "arrowcolor": "#2a3f5f",
           "arrowhead": 0,
           "arrowwidth": 1
          },
          "autotypenumbers": "strict",
          "coloraxis": {
           "colorbar": {
            "outlinewidth": 0,
            "ticks": ""
           }
          },
          "colorscale": {
           "diverging": [
            [
             0,
             "#8e0152"
            ],
            [
             0.1,
             "#c51b7d"
            ],
            [
             0.2,
             "#de77ae"
            ],
            [
             0.3,
             "#f1b6da"
            ],
            [
             0.4,
             "#fde0ef"
            ],
            [
             0.5,
             "#f7f7f7"
            ],
            [
             0.6,
             "#e6f5d0"
            ],
            [
             0.7,
             "#b8e186"
            ],
            [
             0.8,
             "#7fbc41"
            ],
            [
             0.9,
             "#4d9221"
            ],
            [
             1,
             "#276419"
            ]
           ],
           "sequential": [
            [
             0,
             "#0d0887"
            ],
            [
             0.1111111111111111,
             "#46039f"
            ],
            [
             0.2222222222222222,
             "#7201a8"
            ],
            [
             0.3333333333333333,
             "#9c179e"
            ],
            [
             0.4444444444444444,
             "#bd3786"
            ],
            [
             0.5555555555555556,
             "#d8576b"
            ],
            [
             0.6666666666666666,
             "#ed7953"
            ],
            [
             0.7777777777777778,
             "#fb9f3a"
            ],
            [
             0.8888888888888888,
             "#fdca26"
            ],
            [
             1,
             "#f0f921"
            ]
           ],
           "sequentialminus": [
            [
             0,
             "#0d0887"
            ],
            [
             0.1111111111111111,
             "#46039f"
            ],
            [
             0.2222222222222222,
             "#7201a8"
            ],
            [
             0.3333333333333333,
             "#9c179e"
            ],
            [
             0.4444444444444444,
             "#bd3786"
            ],
            [
             0.5555555555555556,
             "#d8576b"
            ],
            [
             0.6666666666666666,
             "#ed7953"
            ],
            [
             0.7777777777777778,
             "#fb9f3a"
            ],
            [
             0.8888888888888888,
             "#fdca26"
            ],
            [
             1,
             "#f0f921"
            ]
           ]
          },
          "colorway": [
           "#636efa",
           "#EF553B",
           "#00cc96",
           "#ab63fa",
           "#FFA15A",
           "#19d3f3",
           "#FF6692",
           "#B6E880",
           "#FF97FF",
           "#FECB52"
          ],
          "font": {
           "color": "#2a3f5f"
          },
          "geo": {
           "bgcolor": "white",
           "lakecolor": "white",
           "landcolor": "#E5ECF6",
           "showlakes": true,
           "showland": true,
           "subunitcolor": "white"
          },
          "hoverlabel": {
           "align": "left"
          },
          "hovermode": "closest",
          "mapbox": {
           "style": "light"
          },
          "paper_bgcolor": "white",
          "plot_bgcolor": "#E5ECF6",
          "polar": {
           "angularaxis": {
            "gridcolor": "white",
            "linecolor": "white",
            "ticks": ""
           },
           "bgcolor": "#E5ECF6",
           "radialaxis": {
            "gridcolor": "white",
            "linecolor": "white",
            "ticks": ""
           }
          },
          "scene": {
           "xaxis": {
            "backgroundcolor": "#E5ECF6",
            "gridcolor": "white",
            "gridwidth": 2,
            "linecolor": "white",
            "showbackground": true,
            "ticks": "",
            "zerolinecolor": "white"
           },
           "yaxis": {
            "backgroundcolor": "#E5ECF6",
            "gridcolor": "white",
            "gridwidth": 2,
            "linecolor": "white",
            "showbackground": true,
            "ticks": "",
            "zerolinecolor": "white"
           },
           "zaxis": {
            "backgroundcolor": "#E5ECF6",
            "gridcolor": "white",
            "gridwidth": 2,
            "linecolor": "white",
            "showbackground": true,
            "ticks": "",
            "zerolinecolor": "white"
           }
          },
          "shapedefaults": {
           "line": {
            "color": "#2a3f5f"
           }
          },
          "ternary": {
           "aaxis": {
            "gridcolor": "white",
            "linecolor": "white",
            "ticks": ""
           },
           "baxis": {
            "gridcolor": "white",
            "linecolor": "white",
            "ticks": ""
           },
           "bgcolor": "#E5ECF6",
           "caxis": {
            "gridcolor": "white",
            "linecolor": "white",
            "ticks": ""
           }
          },
          "title": {
           "x": 0.05
          },
          "xaxis": {
           "automargin": true,
           "gridcolor": "white",
           "linecolor": "white",
           "ticks": "",
           "title": {
            "standoff": 15
           },
           "zerolinecolor": "white",
           "zerolinewidth": 2
          },
          "yaxis": {
           "automargin": true,
           "gridcolor": "white",
           "linecolor": "white",
           "ticks": "",
           "title": {
            "standoff": 15
           },
           "zerolinecolor": "white",
           "zerolinewidth": 2
          }
         }
        },
        "title": {
         "text": "Bland-Altman plot comparing the Bone Age predictions from Rassmann et al. (2023) and the reference gradings (ground truth)"
        },
        "width": 1300,
        "xaxis": {
         "anchor": "y",
         "domain": [
          0,
          1
         ],
         "linecolor": "black",
         "linewidth": 2,
         "range": [
          0,
          230
         ],
         "showline": true,
         "tickfont": {
          "size": 12
         },
         "title": {
          "font": {
           "size": 15
          },
          "text": "$(\\mathrm{Predicted} + \\mathrm{Ground} \\: \\mathrm{Truth})/2 \\: \\mathrm{(months)}$"
         },
         "type": "linear"
        },
        "yaxis": {
         "anchor": "x",
         "domain": [
          0,
          1
         ],
         "linecolor": "black",
         "linewidth": 2,
         "range": [
          -30,
          30
         ],
         "showline": true,
         "tickfont": {
          "size": 12
         },
         "title": {
          "font": {
           "size": 15
          },
          "text": "$\\Delta=\\mathrm{Predicted} - \\mathrm{Ground} \\: \\mathrm{Truth} \\: \\mathrm{(months)}$"
         },
         "type": "linear"
        }
       }
      },
      "image/png": "[encoded data removed]",
      "text/html": [
       "<div>                            <div id=\"cd7505f2-9159-470a-be36-599e2d730e5c\" class=\"plotly-graph-div\" style=\"height:500px; width:1300px;\"></div>            <script type=\"text/javascript\">                require([\"plotly\"], function(Plotly) {                    window.PLOTLYENV=window.PLOTLYENV || {};                                    if (document.getElementById(\"cd7505f2-9159-470a-be36-599e2d730e5c\")) {                    Plotly.newPlot(                        \"cd7505f2-9159-470a-be36-599e2d730e5c\",                        [{\"customdata\":[[\"HyCh\",\"M\"],[\"HyCh\",\"M\"],[\"HyCh\",\"M\"],[\"HyCh\",\"M\"],[\"HyCh\",\"M\"],[\"HyCh\",\"M\"],[\"HyCh\",\"M\"],[\"HyCh\",\"M\"],[\"HyCh\",\"F\"],[\"HyCh\",\"F\"],[\"HyCh\",\"F\"],[\"HyCh\",\"F\"],[\"HyCh\",\"F\"],[\"HyCh\",\"F\"],[\"HyCh\",\"F\"],[\"HyCh\",\"F\"],[\"HyCh\",\"M\"],[\"HyCh\",\"M\"],[\"HyCh\",\"M\"],[\"HyCh\",\"M\"],[\"HyCh\",\"M\"],[\"HyCh\",\"M\"],[\"HyCh\",\"M\"],[\"HyCh\",\"M\"],[\"HyCh\",\"M\"],[\"HyCh\",\"M\"],[\"HyCh\",\"M\"],[\"HyCh\",\"M\"],[\"HyCh\",\"M\"],[\"HyCh\",\"M\"],[\"HyCh\",\"M\"],[\"HyCh\",\"M\"],[\"HyCh\",\"M\"],[\"HyCh\",\"M\"],[\"HyCh\",\"M\"],[\"HyCh\",\"F\"],[\"HyCh\",\"F\"],[\"HyCh\",\"F\"],[\"HyCh\",\"F\"],[\"HyCh\",\"F\"],[\"HyCh\",\"F\"],[\"HyCh\",\"F\"],[\"HyCh\",\"M\"],[\"HyCh\",\"F\"]],\"hovertemplate\":\"disorder=%{customdata[0]}<br>x=%{x}<br>y=%{y}<br>sex=%{customdata[1]}<extra></extra>\",\"legendgroup\":\"HyCh\",\"marker\":{\"color\":\"#2E91E5\",\"opacity\":1,\"symbol\":\"circle\",\"size\":7},\"mode\":\"markers\",\"name\":\"Hypochondroplasia (HyCh)\",\"orientation\":\"v\",\"showlegend\":true,\"x\":[204.5,183.1,168.4,157.4,134.6,128.0,114.3,86.7,153.2,142.1,122.9,134.9,118.1,81.6,161.3,102.6,204.4,180.2,158.7,153.1,139.4,102.8,89.5,83.1,186.9,163.1,158.3,156.8,152.2,150.0,130.7,118.8,86.8,71.9,50.4,87.0,82.8,129.2,117.4,92.1,71.4,43.5,46.4,46.8],\"xaxis\":\"x\",\"y\":[13.0,0.2,6.9,2.9,23.3,16.0,9.7,20.4,0.4,8.2,-12.2,-9.2,-3.9,-7.7,-7.4,1.2,6.8,0.5,-0.6,-23.8,-9.2,4.6,5.1,-4.7,7.8,4.3,-1.5,4.6,1.3,-9.0,-8.6,-23.4,-0.4,5.8,4.8,-12.0,3.6,0.5,-5.1,-7.7,-1.1,-9.0,8.7,0.6],\"yaxis\":\"y\",\"type\":\"scatter\"},{\"customdata\":[[\"PsPHT\",\"M\"],[\"PsPHT\",\"M\"],[\"PsPHT\",\"M\"],[\"PsPHT\",\"M\"],[\"PsPHT\",\"M\"],[\"PsPHT\",\"M\"],[\"PsPHT\",\"M\"],[\"PsPHT\",\"M\"],[\"PsPHT\",\"M\"],[\"PsPHT\",\"M\"],[\"PsPHT\",\"M\"],[\"PsPHT\",\"M\"],[\"PsPHT\",\"F\"],[\"PsPHT\",\"M\"],[\"PsPHT\",\"M\"],[\"PsPHT\",\"M\"],[\"PsPHT\",\"M\"],[\"PsPHT\",\"M\"],[\"PsPHT\",\"M\"],[\"PsPHT\",\"M\"],[\"PsPHT\",\"M\"],[\"PsPHT\",\"M\"],[\"PsPHT\",\"M\"],[\"PsPHT\",\"M\"],[\"PsPHT\",\"M\"],[\"PsPHT\",\"M\"],[\"PsPHT\",\"F\"],[\"PsPHT\",\"F\"],[\"PsPHT\",\"F\"],[\"PsPHT\",\"F\"]],\"hovertemplate\":\"disorder=%{customdata[0]}<br>x=%{x}<br>y=%{y}<br>sex=%{customdata[1]}<extra></extra>\",\"legendgroup\":\"PsPHT\",\"marker\":{\"color\":\"#E15F99\",\"opacity\":1,\"symbol\":\"circle\",\"size\":7},\"mode\":\"markers\",\"name\":\"Pseudohypoparathyroidism (PsHPT)\",\"orientation\":\"v\",\"showlegend\":true,\"x\":[56.0,99.8,128.0,153.9,166.0,163.8,174.8,173.4,26.8,34.9,105.4,158.8,149.5,97.5,116.3,138.3,145.0,119.6,74.7,88.1,134.1,166.8,158.6,191.3,171.7,177.4,38.7,56.0,150.7,28.9],\"xaxis\":\"x\",\"y\":[-14.1,25.6,10.0,7.8,-4.1,9.6,-1.4,7.8,8.6,3.9,-11.1,-6.4,-7.0,8.9,10.6,-5.5,-9.9,5.2,5.3,-3.9,-4.7,-2.3,-9.7,4.6,1.4,-5.1,-12.7,-2.0,-10.6,3.8],\"yaxis\":\"y\",\"type\":\"scatter\"},{\"customdata\":[[\"None\",\"F\"],[\"None\",\"F\"],[\"None\",\"F\"],[\"None\",\"M\"],[\"None\",\"F\"],[\"None\",\"M\"],[\"None\",\"F\"],[\"None\",\"F\"],[\"None\",\"F\"],[\"None\",\"M\"],[\"None\",\"F\"],[\"None\",\"F\"],[\"None\",\"F\"],[\"None\",\"F\"],[\"None\",\"F\"],[\"None\",\"M\"],[\"None\",\"F\"],[\"None\",\"F\"],[\"None\",\"M\"],[\"None\",\"F\"],[\"None\",\"M\"],[\"None\",\"F\"],[\"None\",\"F\"],[\"None\",\"M\"],[\"None\",\"M\"],[\"None\",\"F\"],[\"None\",\"F\"],[\"None\",\"M\"],[\"None\",\"F\"],[\"None\",\"M\"],[\"None\",\"F\"],[\"None\",\"M\"],[\"None\",\"F\"],[\"None\",\"M\"],[\"None\",\"F\"],[\"None\",\"F\"],[\"None\",\"F\"],[\"None\",\"M\"],[\"None\",\"F\"],[\"None\",\"F\"],[\"None\",\"F\"],[\"None\",\"M\"],[\"None\",\"M\"],[\"None\",\"F\"],[\"None\",\"M\"],[\"None\",\"F\"],[\"None\",\"F\"],[\"None\",\"F\"],[\"None\",\"F\"],[\"None\",\"F\"],[\"None\",\"F\"],[\"None\",\"F\"],[\"None\",\"M\"],[\"None\",\"F\"],[\"None\",\"F\"],[\"None\",\"F\"],[\"None\",\"F\"],[\"None\",\"F\"],[\"None\",\"F\"],[\"None\",\"F\"],[\"None\",\"F\"],[\"None\",\"F\"],[\"None\",\"M\"],[\"None\",\"F\"],[\"None\",\"F\"],[\"None\",\"F\"],[\"None\",\"F\"],[\"None\",\"M\"],[\"None\",\"F\"],[\"None\",\"F\"],[\"None\",\"M\"],[\"None\",\"M\"],[\"None\",\"F\"],[\"None\",\"F\"],[\"None\",\"F\"],[\"None\",\"M\"],[\"None\",\"F\"],[\"None\",\"F\"],[\"None\",\"F\"]],\"hovertemplate\":\"disorder=%{customdata[0]}<br>x=%{x}<br>y=%{y}<br>sex=%{customdata[1]}<extra></extra>\",\"legendgroup\":\"None\",\"marker\":{\"color\":\"#1CA71C\",\"opacity\":1,\"symbol\":\"circle\",\"size\":7},\"mode\":\"markers\",\"name\":\"None Diagnosed\",\"orientation\":\"v\",\"showlegend\":true,\"x\":[51.6,109.0,115.3,165.6,142.1,153.3,126.7,95.1,71.6,111.2,111.9,122.5,101.2,105.5,129.5,112.5,116.8,86.4,90.6,76.5,80.6,71.1,76.6,88.1,52.3,61.7,89.7,81.7,96.9,125.6,113.7,127.3,75.1,137.8,112.0,50.1,73.0,70.3,102.6,101.3,115.5,148.6,140.2,45.8,142.3,96.6,129.3,124.9,49.1,68.1,84.5,91.1,58.3,78.4,144.2,128.6,57.5,101.8,103.8,133.1,78.5,83.0,82.7,133.3,160.4,52.6,92.1,73.6,148.6,82.2,77.5,55.2,95.4,78.6,106.9,84.7,124.4,53.6,128.7],\"xaxis\":\"x\",\"y\":[1.2,-10.0,-3.4,7.3,-9.7,12.5,-10.6,-7.8,2.1,18.4,-22.1,-4.0,-13.5,-10.9,0.9,15.0,-6.5,-4.3,13.2,-8.9,11.1,-1.8,-2.9,-0.9,2.6,-2.5,5.5,19.3,-4.1,11.3,-15.6,5.6,0.2,5.6,-16.0,-4.8,5.0,-0.4,-10.7,-1.4,-9.0,0.2,-1.6,4.6,2.5,4.2,-5.4,0.8,-3.8,-1.8,0.9,-12.8,5.7,3.8,-11.5,-6.8,13.0,8.7,-2.5,2.3,1.1,4.0,3.3,2.6,2.8,12.2,-1.8,9.1,-2.8,-9.7,-4.0,2.3,-13.3,1.2,6.7,1.4,-6.3,-0.8,-0.7],\"yaxis\":\"y\",\"type\":\"scatter\"},{\"customdata\":[[\"Silver_Russel\",\"F\"],[\"Silver_Russel\",\"F\"],[\"Silver_Russel\",\"F\"],[\"Silver_Russel\",\"F\"],[\"Silver_Russel\",\"F\"],[\"Silver_Russel\",\"F\"],[\"Silver_Russel\",\"F\"],[\"Silver_Russel\",\"M\"],[\"Silver_Russel\",\"M\"],[\"Silver_Russel\",\"M\"],[\"Silver_Russel\",\"M\"],[\"Silver_Russel\",\"M\"],[\"Silver_Russel\",\"F\"],[\"Silver_Russel\",\"F\"],[\"Silver_Russel\",\"F\"],[\"Silver_Russel\",\"F\"],[\"Silver_Russel\",\"F\"],[\"Silver_Russel\",\"F\"],[\"Silver_Russel\",\"F\"],[\"Silver_Russel\",\"M\"],[\"Silver_Russel\",\"F\"],[\"Silver_Russel\",\"F\"],[\"Silver_Russel\",\"M\"],[\"Silver_Russel\",\"F\"],[\"Silver_Russel\",\"M\"],[\"Silver_Russel\",\"M\"],[\"Silver_Russel\",\"M\"],[\"Silver_Russel\",\"M\"],[\"Silver_Russel\",\"F\"],[\"Silver_Russel\",\"M\"],[\"Silver_Russel\",\"F\"],[\"Silver_Russel\",\"M\"],[\"Silver_Russel\",\"F\"],[\"Silver_Russel\",\"M\"],[\"Silver_Russel\",\"M\"],[\"Silver_Russel\",\"F\"],[\"Silver_Russel\",\"M\"],[\"Silver_Russel\",\"F\"],[\"Silver_Russel\",\"F\"],[\"Silver_Russel\",\"F\"],[\"Silver_Russel\",\"F\"],[\"Silver_Russel\",\"F\"],[\"Silver_Russel\",\"F\"],[\"Silver_Russel\",\"F\"],[\"Silver_Russel\",\"F\"],[\"Silver_Russel\",\"F\"],[\"Silver_Russel\",\"F\"],[\"Silver_Russel\",\"F\"],[\"Silver_Russel\",\"F\"],[\"Silver_Russel\",\"F\"],[\"Silver_Russel\",\"F\"],[\"Silver_Russel\",\"F\"],[\"Silver_Russel\",\"F\"],[\"Silver_Russel\",\"F\"],[\"Silver_Russel\",\"F\"],[\"Silver_Russel\",\"F\"],[\"Silver_Russel\",\"F\"],[\"Silver_Russel\",\"M\"],[\"Silver_Russel\",\"F\"],[\"Silver_Russel\",\"F\"],[\"Silver_Russel\",\"F\"],[\"Silver_Russel\",\"M\"],[\"Silver_Russel\",\"F\"],[\"Silver_Russel\",\"F\"],[\"Silver_Russel\",\"M\"],[\"Silver_Russel\",\"M\"],[\"Silver_Russel\",\"F\"],[\"Silver_Russel\",\"F\"],[\"Silver_Russel\",\"M\"]],\"hovertemplate\":\"disorder=%{customdata[0]}<br>x=%{x}<br>y=%{y}<br>sex=%{customdata[1]}<extra></extra>\",\"legendgroup\":\"Silver_Russel\",\"marker\":{\"color\":\"#FB0D0D\",\"opacity\":1,\"symbol\":\"circle\",\"size\":7},\"mode\":\"markers\",\"name\":\"Silver-Russell Syndrome\",\"orientation\":\"v\",\"showlegend\":true,\"x\":[139.3,56.6,110.6,76.7,120.1,91.9,134.2,110.8,85.9,44.1,29.5,7.1,89.1,94.3,122.2,132.6,37.3,61.7,148.0,44.4,10.7,28.4,44.7,170.6,55.1,37.0,25.1,19.8,40.6,160.2,46.8,164.3,24.7,173.4,184.8,66.7,192.7,76.2,8.6,48.7,85.5,18.6,98.0,106.8,118.7,133.1,131.1,48.6,141.8,143.3,50.0,149.1,159.7,180.7,73.1,182.3,68.3,61.6,81.0,82.0,200.2,77.3,96.5,107.4,90.6,109.7,100.7,109.2,121.1],\"xaxis\":\"x\",\"y\":[2.6,11.1,5.2,12.5,6.3,9.8,10.3,-12.5,9.8,1.2,5.0,5.1,4.2,2.7,-1.6,-4.7,14.7,-8.6,4.9,7.9,0.4,-3.1,5.5,-0.8,2.1,11.0,8.3,3.6,0.2,2.4,-2.3,-1.3,1.3,1.8,3.7,10.3,10.5,5.4,7.7,-7.7,8.9,-10.8,10.0,0.6,6.4,-3.8,22.1,7.3,-7.3,-1.4,-2.0,4.2,13.4,7.4,-3.9,4.6,-1.4,0.2,-5.9,8.0,16.4,1.5,1.0,-13.2,7.2,-2.7,3.5,14.5,-6.8],\"yaxis\":\"y\",\"type\":\"scatter\"},{\"customdata\":[[\"ACh\",\"F\"],[\"ACh\",\"F\"],[\"ACh\",\"M\"],[\"ACh\",\"M\"],[\"ACh\",\"M\"],[\"ACh\",\"M\"],[\"ACh\",\"M\"],[\"ACh\",\"F\"],[\"ACh\",\"F\"],[\"ACh\",\"F\"],[\"ACh\",\"F\"],[\"ACh\",\"F\"],[\"ACh\",\"F\"],[\"ACh\",\"M\"],[\"ACh\",\"M\"],[\"ACh\",\"M\"],[\"ACh\",\"M\"],[\"ACh\",\"M\"],[\"ACh\",\"M\"],[\"ACh\",\"M\"],[\"ACh\",\"M\"],[\"ACh\",\"M\"],[\"ACh\",\"M\"],[\"ACh\",\"M\"],[\"ACh\",\"M\"]],\"hovertemplate\":\"disorder=%{customdata[0]}<br>x=%{x}<br>y=%{y}<br>sex=%{customdata[1]}<extra></extra>\",\"legendgroup\":\"ACh\",\"marker\":{\"color\":\"#DA16FF\",\"opacity\":1,\"symbol\":\"circle\",\"size\":7},\"mode\":\"markers\",\"name\":\"Achondroplasia (ACh)\",\"orientation\":\"v\",\"showlegend\":true,\"x\":[167.1,154.5,187.9,170.3,161.6,154.2,145.8,123.7,20.2,192.0,86.9,28.1,85.5,123.5,113.4,109.2,109.2,101.5,69.4,60.6,44.0,41.3,39.9,131.4,68.6],\"xaxis\":\"x\",\"y\":[-1.8,9.0,9.8,-1.4,-21.9,-9.6,-14.4,-10.6,-1.5,0.0,-12.1,-6.8,-3.0,13.0,13.8,2.4,-15.6,-1.0,0.8,-10.7,4.1,4.5,-4.1,4.9,-6.8],\"yaxis\":\"y\",\"type\":\"scatter\"},{\"customdata\":[[\"IUGR\",\"F\"],[\"IUGR\",\"F\"],[\"IUGR\",\"F\"],[\"IUGR\",\"F\"],[\"IUGR\",\"M\"],[\"IUGR\",\"M\"],[\"IUGR\",\"M\"],[\"IUGR\",\"M\"],[\"IUGR\",\"M\"],[\"IUGR\",\"M\"],[\"IUGR\",\"M\"],[\"IUGR\",\"M\"],[\"IUGR\",\"M\"],[\"IUGR\",\"M\"],[\"IUGR\",\"M\"],[\"IUGR\",\"M\"],[\"IUGR\",\"M\"],[\"IUGR\",\"M\"],[\"IUGR\",\"M\"],[\"IUGR\",\"M\"],[\"IUGR\",\"M\"],[\"IUGR\",\"M\"],[\"IUGR\",\"M\"],[\"IUGR\",\"F\"],[\"IUGR\",\"F\"],[\"IUGR\",\"F\"],[\"IUGR\",\"F\"],[\"IUGR\",\"F\"],[\"IUGR\",\"M\"],[\"IUGR\",\"F\"],[\"IUGR\",\"F\"],[\"IUGR\",\"F\"],[\"IUGR\",\"F\"],[\"IUGR\",\"F\"],[\"IUGR\",\"F\"],[\"IUGR\",\"F\"],[\"IUGR\",\"F\"],[\"IUGR\",\"F\"],[\"IUGR\",\"F\"],[\"IUGR\",\"F\"],[\"IUGR\",\"F\"],[\"IUGR\",\"F\"],[\"IUGR\",\"F\"],[\"IUGR\",\"F\"],[\"IUGR\",\"F\"],[\"IUGR\",\"F\"],[\"IUGR\",\"F\"],[\"IUGR\",\"M\"],[\"IUGR\",\"F\"],[\"IUGR\",\"F\"],[\"IUGR\",\"M\"],[\"IUGR\",\"M\"],[\"IUGR\",\"M\"],[\"IUGR\",\"M\"],[\"IUGR\",\"M\"]],\"hovertemplate\":\"disorder=%{customdata[0]}<br>x=%{x}<br>y=%{y}<br>sex=%{customdata[1]}<extra></extra>\",\"legendgroup\":\"IUGR\",\"marker\":{\"color\":\"#222A2A\",\"opacity\":1,\"symbol\":\"circle\",\"size\":7},\"mode\":\"markers\",\"name\":\"Intrauterine Growth Restriction (IUGR)\",\"orientation\":\"v\",\"showlegend\":true,\"x\":[181.1,158.8,143.1,129.5,199.6,180.7,163.3,159.8,157.2,197.1,185.5,157.5,136.2,127.7,117.2,109.7,199.7,175.8,167.8,159.7,154.9,141.4,130.1,180.5,172.3,159.6,147.5,130.9,55.0,183.3,163.4,144.3,131.5,121.2,112.6,90.2,79.6,72.8,56.0,111.9,92.8,87.1,65.7,52.7,162.2,142.7,128.6,199.5,182.9,109.0,123.2,87.0,56.0,42.4,26.5],\"xaxis\":\"x\",\"y\":[2.2,-6.5,-4.8,7.0,9.1,1.3,8.5,7.5,5.4,-1.7,-1.0,3.0,14.3,9.4,6.4,9.4,3.4,-8.4,-0.4,4.3,0.7,6.8,2.2,0.9,-3.3,-4.8,-4.9,3.8,5.0,12.6,-3.2,12.7,11.0,5.5,-14.7,6.3,3.1,-10.5,-10.9,7.8,11.7,9.2,8.4,9.4,3.5,-11.6,2.3,9.0,-0.2,-9.9,18.4,27.0,22.1,6.7,-1.0],\"yaxis\":\"y\",\"type\":\"scatter\"},{\"customdata\":[[\"SHOX_mutation\",\"M\"],[\"SHOX_mutation\",\"M\"],[\"SHOX_mutation\",\"M\"],[\"SHOX_mutation\",\"M\"],[\"SHOX_mutation\",\"M\"],[\"SHOX_mutation\",\"M\"],[\"SHOX_mutation\",\"M\"],[\"SHOX_mutation\",\"M\"],[\"SHOX_mutation\",\"M\"],[\"SHOX_mutation\",\"M\"],[\"SHOX_mutation\",\"M\"],[\"SHOX_mutation\",\"M\"],[\"SHOX_mutation\",\"M\"],[\"SHOX_mutation\",\"M\"],[\"SHOX_mutation\",\"M\"],[\"SHOX_mutation\",\"M\"],[\"SHOX_mutation\",\"M\"],[\"SHOX_mutation\",\"F\"],[\"SHOX_mutation\",\"F\"],[\"SHOX_mutation\",\"M\"],[\"SHOX_mutation\",\"M\"],[\"SHOX_mutation\",\"M\"],[\"SHOX_mutation\",\"M\"],[\"SHOX_mutation\",\"M\"],[\"SHOX_mutation\",\"M\"],[\"SHOX_mutation\",\"F\"],[\"SHOX_mutation\",\"M\"],[\"SHOX_mutation\",\"M\"],[\"SHOX_mutation\",\"M\"],[\"SHOX_mutation\",\"M\"],[\"SHOX_mutation\",\"M\"],[\"SHOX_mutation\",\"M\"],[\"SHOX_mutation\",\"M\"],[\"SHOX_mutation\",\"F\"],[\"SHOX_mutation\",\"M\"],[\"SHOX_mutation\",\"F\"],[\"SHOX_mutation\",\"M\"],[\"SHOX_mutation\",\"F\"],[\"SHOX_mutation\",\"M\"],[\"SHOX_mutation\",\"F\"],[\"SHOX_mutation\",\"M\"],[\"SHOX_mutation\",\"M\"],[\"SHOX_mutation\",\"M\"],[\"SHOX_mutation\",\"M\"],[\"SHOX_mutation\",\"M\"],[\"SHOX_mutation\",\"F\"],[\"SHOX_mutation\",\"M\"],[\"SHOX_mutation\",\"M\"],[\"SHOX_mutation\",\"F\"],[\"SHOX_mutation\",\"F\"],[\"SHOX_mutation\",\"M\"],[\"SHOX_mutation\",\"M\"],[\"SHOX_mutation\",\"M\"],[\"SHOX_mutation\",\"M\"],[\"SHOX_mutation\",\"M\"],[\"SHOX_mutation\",\"M\"],[\"SHOX_mutation\",\"M\"],[\"SHOX_mutation\",\"F\"],[\"SHOX_mutation\",\"M\"],[\"SHOX_mutation\",\"F\"],[\"SHOX_mutation\",\"F\"],[\"SHOX_mutation\",\"M\"],[\"SHOX_mutation\",\"M\"],[\"SHOX_mutation\",\"M\"],[\"SHOX_mutation\",\"M\"],[\"SHOX_mutation\",\"M\"],[\"SHOX_mutation\",\"M\"],[\"SHOX_mutation\",\"M\"],[\"SHOX_mutation\",\"M\"],[\"SHOX_mutation\",\"F\"],[\"SHOX_mutation\",\"F\"],[\"SHOX_mutation\",\"M\"],[\"SHOX_mutation\",\"M\"],[\"SHOX_mutation\",\"F\"],[\"SHOX_mutation\",\"M\"],[\"SHOX_mutation\",\"M\"],[\"SHOX_mutation\",\"M\"],[\"SHOX_mutation\",\"M\"],[\"SHOX_mutation\",\"M\"],[\"SHOX_mutation\",\"M\"],[\"SHOX_mutation\",\"M\"],[\"SHOX_mutation\",\"M\"],[\"SHOX_mutation\",\"M\"],[\"SHOX_mutation\",\"M\"],[\"SHOX_mutation\",\"F\"],[\"SHOX_mutation\",\"F\"],[\"SHOX_mutation\",\"M\"],[\"SHOX_mutation\",\"M\"],[\"SHOX_mutation\",\"M\"],[\"SHOX_mutation\",\"M\"],[\"SHOX_mutation\",\"M\"],[\"SHOX_mutation\",\"M\"],[\"SHOX_mutation\",\"M\"],[\"SHOX_mutation\",\"M\"],[\"SHOX_mutation\",\"M\"],[\"SHOX_mutation\",\"M\"],[\"SHOX_mutation\",\"M\"],[\"SHOX_mutation\",\"F\"],[\"SHOX_mutation\",\"M\"],[\"SHOX_mutation\",\"M\"],[\"SHOX_mutation\",\"M\"],[\"SHOX_mutation\",\"F\"],[\"SHOX_mutation\",\"M\"],[\"SHOX_mutation\",\"M\"],[\"SHOX_mutation\",\"M\"],[\"SHOX_mutation\",\"M\"],[\"SHOX_mutation\",\"M\"],[\"SHOX_mutation\",\"M\"],[\"SHOX_mutation\",\"M\"],[\"SHOX_mutation\",\"M\"],[\"SHOX_mutation\",\"M\"],[\"SHOX_mutation\",\"M\"],[\"SHOX_mutation\",\"M\"],[\"SHOX_mutation\",\"M\"],[\"SHOX_mutation\",\"M\"],[\"SHOX_mutation\",\"M\"],[\"SHOX_mutation\",\"M\"],[\"SHOX_mutation\",\"M\"],[\"SHOX_mutation\",\"M\"],[\"SHOX_mutation\",\"M\"],[\"SHOX_mutation\",\"F\"],[\"SHOX_mutation\",\"M\"],[\"SHOX_mutation\",\"M\"],[\"SHOX_mutation\",\"M\"],[\"SHOX_mutation\",\"F\"],[\"SHOX_mutation\",\"M\"],[\"SHOX_mutation\",\"M\"],[\"SHOX_mutation\",\"M\"],[\"SHOX_mutation\",\"M\"],[\"SHOX_mutation\",\"M\"],[\"SHOX_mutation\",\"M\"],[\"SHOX_mutation\",\"M\"],[\"SHOX_mutation\",\"M\"],[\"SHOX_mutation\",\"M\"],[\"SHOX_mutation\",\"F\"],[\"SHOX_mutation\",\"M\"],[\"SHOX_mutation\",\"M\"],[\"SHOX_mutation\",\"M\"],[\"SHOX_mutation\",\"F\"],[\"SHOX_mutation\",\"M\"],[\"SHOX_mutation\",\"M\"],[\"SHOX_mutation\",\"F\"],[\"SHOX_mutation\",\"M\"],[\"SHOX_mutation\",\"M\"],[\"SHOX_mutation\",\"M\"],[\"SHOX_mutation\",\"M\"],[\"SHOX_mutation\",\"M\"],[\"SHOX_mutation\",\"M\"],[\"SHOX_mutation\",\"M\"],[\"SHOX_mutation\",\"F\"],[\"SHOX_mutation\",\"M\"],[\"SHOX_mutation\",\"F\"],[\"SHOX_mutation\",\"M\"],[\"SHOX_mutation\",\"M\"],[\"SHOX_mutation\",\"M\"],[\"SHOX_mutation\",\"F\"],[\"SHOX_mutation\",\"M\"],[\"SHOX_mutation\",\"M\"],[\"SHOX_mutation\",\"M\"],[\"SHOX_mutation\",\"M\"],[\"SHOX_mutation\",\"F\"],[\"SHOX_mutation\",\"M\"],[\"SHOX_mutation\",\"M\"],[\"SHOX_mutation\",\"F\"],[\"SHOX_mutation\",\"M\"],[\"SHOX_mutation\",\"M\"],[\"SHOX_mutation\",\"M\"],[\"SHOX_mutation\",\"F\"],[\"SHOX_mutation\",\"M\"],[\"SHOX_mutation\",\"F\"],[\"SHOX_mutation\",\"F\"],[\"SHOX_mutation\",\"M\"],[\"SHOX_mutation\",\"M\"],[\"SHOX_mutation\",\"F\"],[\"SHOX_mutation\",\"M\"],[\"SHOX_mutation\",\"M\"],[\"SHOX_mutation\",\"M\"],[\"SHOX_mutation\",\"F\"],[\"SHOX_mutation\",\"M\"],[\"SHOX_mutation\",\"M\"],[\"SHOX_mutation\",\"M\"],[\"SHOX_mutation\",\"M\"],[\"SHOX_mutation\",\"M\"],[\"SHOX_mutation\",\"M\"],[\"SHOX_mutation\",\"M\"],[\"SHOX_mutation\",\"M\"],[\"SHOX_mutation\",\"M\"],[\"SHOX_mutation\",\"M\"],[\"SHOX_mutation\",\"M\"],[\"SHOX_mutation\",\"F\"],[\"SHOX_mutation\",\"F\"],[\"SHOX_mutation\",\"F\"],[\"SHOX_mutation\",\"M\"],[\"SHOX_mutation\",\"M\"],[\"SHOX_mutation\",\"F\"],[\"SHOX_mutation\",\"M\"],[\"SHOX_mutation\",\"F\"],[\"SHOX_mutation\",\"M\"]],\"hovertemplate\":\"disorder=%{customdata[0]}<br>x=%{x}<br>y=%{y}<br>sex=%{customdata[1]}<extra></extra>\",\"legendgroup\":\"SHOX_mutation\",\"marker\":{\"color\":\"#B68100\",\"opacity\":1,\"symbol\":\"circle\",\"size\":7},\"mode\":\"markers\",\"name\":\"SHOX Mutation\",\"orientation\":\"v\",\"showlegend\":true,\"x\":[63.3,74.6,51.0,83.8,56.0,92.6,65.0,98.6,100.9,134.7,77.1,68.7,101.7,139.7,114.9,80.2,116.9,17.8,134.0,107.4,150.6,113.4,24.9,50.7,79.1,187.9,85.4,53.6,121.7,119.3,111.9,81.4,159.2,143.1,58.0,32.1,94.9,21.9,33.1,21.8,50.4,126.5,72.3,88.0,165.9,138.8,103.5,127.4,151.9,33.5,61.7,124.6,78.9,110.3,96.5,135.8,128.5,37.2,70.1,159.5,31.5,58.9,28.7,116.4,63.2,101.2,84.4,44.9,132.4,165.8,40.6,76.7,140.7,39.6,21.0,128.0,38.8,145.0,51.0,148.1,197.6,131.7,146.7,90.2,48.5,42.2,41.5,97.2,59.0,120.1,73.5,60.3,156.9,127.7,159.0,30.2,28.3,45.5,145.7,156.2,95.0,57.7,52.2,64.7,158.1,164.0,155.4,168.0,127.2,65.5,84.5,111.9,170.6,132.2,166.1,164.5,35.7,145.5,91.0,172.4,73.9,132.6,180.8,64.1,61.7,169.3,178.9,119.9,141.5,53.2,156.3,175.4,73.2,64.6,78.2,145.4,76.4,185.9,24.9,110.1,104.0,62.5,130.1,137.8,193.6,62.9,149.1,82.5,90.7,88.9,133.0,99.9,144.3,92.2,161.3,91.4,53.0,25.7,123.1,192.1,76.2,120.5,140.8,47.2,156.1,73.9,93.0,79.1,152.4,43.2,108.7,101.9,132.4,101.6,144.5,101.8,160.4,39.1,33.1,205.2,159.2,139.0,104.0,130.6,112.5,161.9,143.0,94.4,146.8,113.7,94.2,123.3,120.9,65.8,113.9,165.8,56.5,139.9],\"xaxis\":\"x\",\"y\":[6.7,2.2,-0.0,-0.4,-2.1,5.2,-2.1,5.2,3.7,2.3,4.2,-6.5,-3.5,0.5,7.8,4.3,2.8,2.6,22.0,-4.3,1.1,13.7,-4.2,2.4,-3.7,15.8,8.8,-3.7,3.4,13.7,-1.2,0.7,3.5,4.2,-10.1,4.3,9.9,1.8,-5.7,-4.3,-1.3,13.1,0.7,5.0,4.8,1.5,9.0,5.8,9.8,4.0,3.4,-2.9,-1.3,-1.3,1.0,7.6,-1.0,5.5,5.2,7.1,-2.9,9.8,3.5,7.7,-5.6,10.3,0.8,-6.2,0.9,1.6,6.1,15.4,8.4,1.1,-0.1,10.0,11.7,-4.0,-5.9,-0.8,14.1,11.5,11.3,6.5,7.0,-5.5,11.0,2.4,4.0,0.1,8.9,-11.4,-4.2,-2.6,-6.1,-2.5,2.7,-5.1,6.5,12.4,4.1,-4.6,8.4,0.4,10.3,-2.0,4.9,-2.9,2.5,11.0,7.0,10.8,-0.7,3.3,2.2,2.0,-6.6,-9.0,14.1,2.8,3.9,1.2,1.6,-0.9,-5.7,8.5,6.7,11.8,0.9,4.5,-5.3,5.8,14.4,6.2,0.3,-6.1,5.8,2.7,1.7,16.2,0.9,17.0,5.2,8.6,9.3,-0.3,-1.8,9.0,19.4,-5.3,7.9,7.8,3.5,1.3,4.6,-9.2,3.9,-2.5,6.2,6.3,-0.7,-5.0,-6.4,-7.5,0.1,-2.1,8.9,14.3,7.8,-9.5,1.4,23.9,6.7,2.2,4.0,11.6,2.7,3.1,-2.8,2.4,3.4,14.0,13.1,9.3,20.9,-0.1,3.9,8.8,11.7,5.4,-3.6,6.6,7.8,5.6,14.7,1.6,-12.9,3.8],\"yaxis\":\"y\",\"type\":\"scatter\"},{\"customdata\":[[\"Noonan\",\"F\"],[\"Noonan\",\"F\"],[\"Noonan\",\"F\"],[\"Noonan\",\"M\"],[\"Noonan\",\"F\"],[\"Noonan\",\"F\"],[\"Noonan\",\"F\"],[\"Noonan\",\"F\"],[\"Noonan\",\"M\"],[\"Noonan\",\"F\"],[\"Noonan\",\"M\"],[\"Noonan\",\"F\"],[\"Noonan\",\"F\"],[\"Noonan\",\"F\"],[\"Noonan\",\"M\"],[\"Noonan\",\"F\"],[\"Noonan\",\"F\"],[\"Noonan\",\"M\"],[\"Noonan\",\"F\"],[\"Noonan\",\"F\"],[\"Noonan\",\"M\"],[\"Noonan\",\"F\"],[\"Noonan\",\"M\"],[\"Noonan\",\"F\"],[\"Noonan\",\"M\"],[\"Noonan\",\"M\"],[\"Noonan\",\"F\"],[\"Noonan\",\"M\"],[\"Noonan\",\"F\"],[\"Noonan\",\"F\"],[\"Noonan\",\"M\"],[\"Noonan\",\"F\"],[\"Noonan\",\"M\"],[\"Noonan\",\"M\"],[\"Noonan\",\"F\"],[\"Noonan\",\"M\"],[\"Noonan\",\"M\"],[\"Noonan\",\"F\"],[\"Noonan\",\"F\"],[\"Noonan\",\"M\"],[\"Noonan\",\"M\"],[\"Noonan\",\"F\"],[\"Noonan\",\"F\"],[\"Noonan\",\"F\"],[\"Noonan\",\"F\"],[\"Noonan\",\"M\"],[\"Noonan\",\"F\"],[\"Noonan\",\"M\"],[\"Noonan\",\"F\"],[\"Noonan\",\"M\"],[\"Noonan\",\"M\"],[\"Noonan\",\"F\"],[\"Noonan\",\"F\"],[\"Noonan\",\"F\"],[\"Noonan\",\"M\"],[\"Noonan\",\"F\"],[\"Noonan\",\"M\"],[\"Noonan\",\"F\"],[\"Noonan\",\"F\"],[\"Noonan\",\"M\"],[\"Noonan\",\"F\"],[\"Noonan\",\"F\"],[\"Noonan\",\"M\"],[\"Noonan\",\"F\"],[\"Noonan\",\"F\"],[\"Noonan\",\"F\"],[\"Noonan\",\"M\"],[\"Noonan\",\"F\"],[\"Noonan\",\"F\"],[\"Noonan\",\"M\"],[\"Noonan\",\"F\"],[\"Noonan\",\"F\"],[\"Noonan\",\"F\"],[\"Noonan\",\"F\"],[\"Noonan\",\"M\"],[\"Noonan\",\"M\"],[\"Noonan\",\"M\"],[\"Noonan\",\"F\"],[\"Noonan\",\"M\"],[\"Noonan\",\"M\"]],\"hovertemplate\":\"disorder=%{customdata[0]}<br>x=%{x}<br>y=%{y}<br>sex=%{customdata[1]}<extra></extra>\",\"legendgroup\":\"Noonan\",\"marker\":{\"color\":\"#750D86\",\"opacity\":1,\"symbol\":\"circle\",\"size\":7},\"mode\":\"markers\",\"name\":\"Noonan Syndrome\",\"orientation\":\"v\",\"showlegend\":true,\"x\":[41.9,47.2,57.5,60.0,45.3,62.1,51.3,65.5,61.3,58.4,31.9,75.7,71.5,85.0,75.5,67.5,85.2,73.9,84.7,71.7,45.7,93.1,77.3,81.0,88.8,79.0,85.1,54.1,102.6,104.1,82.1,92.2,65.4,104.4,120.0,103.6,73.0,98.7,122.0,120.6,81.4,101.8,126.7,133.3,33.5,88.4,108.1,101.0,138.3,139.3,132.9,137.9,125.2,146.0,108.4,71.1,153.9,154.3,135.7,130.4,147.2,162.7,150.6,54.5,145.1,174.5,131.2,98.4,154.6,160.7,174.6,132.2,164.2,69.2,149.4,162.9,163.7,81.4,179.6,176.4],\"xaxis\":\"x\",\"y\":[2.8,1.3,-1.9,-0.0,-2.3,-4.8,12.5,2.1,-0.4,-0.2,3.9,-1.6,-0.9,-1.1,7.0,-8.9,2.5,3.8,4.3,-0.6,-4.6,0.1,-1.3,-3.1,9.6,2.0,-3.9,-2.8,-1.8,1.2,8.2,-1.7,-13.2,4.7,3.0,3.2,-4.1,-0.5,4.0,4.2,-11.3,2.6,1.3,-9.4,0.9,2.8,0.2,10.0,0.6,-0.5,-10.1,5.9,-7.6,0.9,-14.3,-10.8,-4.1,2.7,-4.6,-3.2,6.4,4.5,-7.7,-5.0,-0.8,7.1,1.4,-4.2,3.2,-14.6,1.3,-5.7,7.4,0.4,4.9,-7.2,6.4,-2.2,5.2,-1.2],\"yaxis\":\"y\",\"type\":\"scatter\"},{\"customdata\":[[\"UTS\",\"F\"],[\"UTS\",\"F\"],[\"UTS\",\"F\"],[\"UTS\",\"F\"],[\"UTS\",\"F\"],[\"UTS\",\"F\"],[\"UTS\",\"F\"],[\"UTS\",\"F\"],[\"UTS\",\"F\"],[\"UTS\",\"F\"],[\"UTS\",\"F\"],[\"UTS\",\"F\"],[\"UTS\",\"F\"],[\"UTS\",\"F\"],[\"UTS\",\"F\"],[\"UTS\",\"F\"],[\"UTS\",\"F\"],[\"UTS\",\"F\"],[\"UTS\",\"F\"],[\"UTS\",\"F\"],[\"UTS\",\"F\"],[\"UTS\",\"F\"],[\"UTS\",\"F\"],[\"UTS\",\"F\"],[\"UTS\",\"F\"],[\"UTS\",\"F\"],[\"UTS\",\"F\"],[\"UTS\",\"F\"],[\"UTS\",\"F\"],[\"UTS\",\"F\"],[\"UTS\",\"F\"],[\"UTS\",\"F\"],[\"UTS\",\"F\"],[\"UTS\",\"F\"],[\"UTS\",\"F\"],[\"UTS\",\"F\"],[\"UTS\",\"F\"],[\"UTS\",\"F\"],[\"UTS\",\"F\"],[\"UTS\",\"F\"],[\"UTS\",\"F\"],[\"UTS\",\"F\"],[\"UTS\",\"F\"],[\"UTS\",\"F\"],[\"UTS\",\"F\"],[\"UTS\",\"F\"],[\"UTS\",\"F\"],[\"UTS\",\"F\"],[\"UTS\",\"F\"],[\"UTS\",\"F\"],[\"UTS\",\"F\"],[\"UTS\",\"F\"],[\"UTS\",\"F\"],[\"UTS\",\"F\"],[\"UTS\",\"F\"],[\"UTS\",\"F\"],[\"UTS\",\"F\"],[\"UTS\",\"F\"],[\"UTS\",\"F\"],[\"UTS\",\"F\"],[\"UTS\",\"F\"],[\"UTS\",\"F\"],[\"UTS\",\"F\"],[\"UTS\",\"F\"],[\"UTS\",\"F\"],[\"UTS\",\"F\"],[\"UTS\",\"F\"],[\"UTS\",\"F\"],[\"UTS\",\"F\"],[\"UTS\",\"F\"],[\"UTS\",\"F\"],[\"UTS\",\"F\"],[\"UTS\",\"F\"],[\"UTS\",\"F\"],[\"UTS\",\"F\"],[\"UTS\",\"F\"],[\"UTS\",\"F\"],[\"UTS\",\"F\"],[\"UTS\",\"F\"],[\"UTS\",\"F\"],[\"UTS\",\"F\"],[\"UTS\",\"F\"],[\"UTS\",\"F\"],[\"UTS\",\"F\"],[\"UTS\",\"F\"],[\"UTS\",\"F\"],[\"UTS\",\"F\"],[\"UTS\",\"F\"],[\"UTS\",\"F\"],[\"UTS\",\"F\"],[\"UTS\",\"F\"],[\"UTS\",\"F\"],[\"UTS\",\"F\"],[\"UTS\",\"F\"],[\"UTS\",\"F\"],[\"UTS\",\"F\"],[\"UTS\",\"F\"],[\"UTS\",\"F\"],[\"UTS\",\"F\"],[\"UTS\",\"F\"],[\"UTS\",\"F\"],[\"UTS\",\"F\"],[\"UTS\",\"F\"],[\"UTS\",\"F\"],[\"UTS\",\"F\"],[\"UTS\",\"F\"],[\"UTS\",\"F\"],[\"UTS\",\"F\"],[\"UTS\",\"F\"],[\"UTS\",\"F\"],[\"UTS\",\"F\"],[\"UTS\",\"F\"],[\"UTS\",\"F\"],[\"UTS\",\"F\"],[\"UTS\",\"F\"],[\"UTS\",\"F\"],[\"UTS\",\"F\"],[\"UTS\",\"F\"],[\"UTS\",\"F\"],[\"UTS\",\"F\"],[\"UTS\",\"F\"],[\"UTS\",\"F\"]],\"hovertemplate\":\"disorder=%{customdata[0]}<br>x=%{x}<br>y=%{y}<br>sex=%{customdata[1]}<extra></extra>\",\"legendgroup\":\"UTS\",\"marker\":{\"color\":\"#EB663B\",\"opacity\":1,\"symbol\":\"circle\",\"size\":7},\"mode\":\"markers\",\"name\":\"Ullrich-Turner Syndrome (UTS)\",\"orientation\":\"v\",\"showlegend\":true,\"x\":[153.0,138.7,147.9,155.7,153.9,164.0,164.8,168.3,174.1,175.8,28.8,26.5,123.7,36.5,131.1,91.0,78.7,32.7,36.7,140.7,81.7,92.6,38.9,43.4,41.6,43.0,96.0,46.2,81.1,52.0,49.2,105.6,52.3,90.8,94.1,60.0,54.1,58.7,103.0,111.2,158.1,62.2,66.7,73.4,109.4,112.7,180.4,73.7,51.4,37.2,75.6,74.0,149.9,120.1,122.5,88.6,91.7,122.4,67.7,177.2,86.7,127.3,154.9,44.6,82.7,137.1,136.2,127.4,159.9,92.7,147.0,112.9,95.1,66.8,102.7,171.7,168.7,87.4,154.7,114.4,138.1,104.9,43.5,176.8,179.8,108.6,163.1,108.3,73.0,125.6,52.4,140.2,103.3,33.4,102.7,115.5,125.7,36.2,102.5,118.2,142.2,113.8,49.6,124.7,132.5,109.4,134.3,90.5,55.9,145.7,44.5,119.3,180.0,122.6,148.0,69.4,42.3,126.3,70.7,127.0,148.3,124.0],\"xaxis\":\"x\",\"y\":[5.9,-7.6,-7.3,8.4,4.7,1.0,8.6,6.6,12.2,3.6,-2.4,-7.0,1.5,3.9,1.2,-4.0,-1.5,-0.5,-1.5,2.4,-1.6,-3.9,-0.2,-6.1,5.2,2.0,-2.9,-3.7,6.1,-3.9,-3.6,-19.7,-3.3,4.6,-0.7,0.0,0.2,-5.6,1.9,-23.6,-1.7,4.5,-1.6,2.9,-9.3,-2.5,12.9,9.3,6.7,2.4,1.3,4.0,-6.3,-5.8,-27.9,-2.7,6.4,10.7,9.5,6.4,-3.5,-9.5,0.7,-6.9,3.4,-4.7,5.4,11.8,4.8,-0.7,-3.0,-2.2,-1.8,7.7,-1.6,-1.7,-1.6,6.8,-2.6,-5.3,15.2,-3.2,-0.1,5.6,5.5,-4.8,2.2,-5.4,7.9,-6.9,-3.1,4.4,-3.5,-5.2,-10.6,2.9,-0.6,-2.5,-5.1,-9.6,11.5,-12.4,0.2,3.4,12.9,2.7,10.6,4.0,-2.2,6.5,-1.0,-7.5,11.9,-0.9,1.9,-5.2,-2.4,-5.5,-8.5,1.9,2.7,-6.9],\"yaxis\":\"y\",\"type\":\"scatter\"}],                        {\"template\":{\"data\":{\"histogram2dcontour\":[{\"type\":\"histogram2dcontour\",\"colorbar\":{\"outlinewidth\":0,\"ticks\":\"\"},\"colorscale\":[[0.0,\"#0d0887\"],[0.1111111111111111,\"#46039f\"],[0.2222222222222222,\"#7201a8\"],[0.3333333333333333,\"#9c179e\"],[0.4444444444444444,\"#bd3786\"],[0.5555555555555556,\"#d8576b\"],[0.6666666666666666,\"#ed7953\"],[0.7777777777777778,\"#fb9f3a\"],[0.8888888888888888,\"#fdca26\"],[1.0,\"#f0f921\"]]}],\"choropleth\":[{\"type\":\"choropleth\",\"colorbar\":{\"outlinewidth\":0,\"ticks\":\"\"}}],\"histogram2d\":[{\"type\":\"histogram2d\",\"colorbar\":{\"outlinewidth\":0,\"ticks\":\"\"},\"colorscale\":[[0.0,\"#0d0887\"],[0.1111111111111111,\"#46039f\"],[0.2222222222222222,\"#7201a8\"],[0.3333333333333333,\"#9c179e\"],[0.4444444444444444,\"#bd3786\"],[0.5555555555555556,\"#d8576b\"],[0.6666666666666666,\"#ed7953\"],[0.7777777777777778,\"#fb9f3a\"],[0.8888888888888888,\"#fdca26\"],[1.0,\"#f0f921\"]]}],\"heatmap\":[{\"type\":\"heatmap\",\"colorbar\":{\"outlinewidth\":0,\"ticks\":\"\"},\"colorscale\":[[0.0,\"#0d0887\"],[0.1111111111111111,\"#46039f\"],[0.2222222222222222,\"#7201a8\"],[0.3333333333333333,\"#9c179e\"],[0.4444444444444444,\"#bd3786\"],[0.5555555555555556,\"#d8576b\"],[0.6666666666666666,\"#ed7953\"],[0.7777777777777778,\"#fb9f3a\"],[0.8888888888888888,\"#fdca26\"],[1.0,\"#f0f921\"]]}],\"heatmapgl\":[{\"type\":\"heatmapgl\",\"colorbar\":{\"outlinewidth\":0,\"ticks\":\"\"},\"colorscale\":[[0.0,\"#0d0887\"],[0.1111111111111111,\"#46039f\"],[0.2222222222222222,\"#7201a8\"],[0.3333333333333333,\"#9c179e\"],[0.4444444444444444,\"#bd3786\"],[0.5555555555555556,\"#d8576b\"],[0.6666666666666666,\"#ed7953\"],[0.7777777777777778,\"#fb9f3a\"],[0.8888888888888888,\"#fdca26\"],[1.0,\"#f0f921\"]]}],\"contourcarpet\":[{\"type\":\"contourcarpet\",\"colorbar\":{\"outlinewidth\":0,\"ticks\":\"\"}}],\"contour\":[{\"type\":\"contour\",\"colorbar\":{\"outlinewidth\":0,\"ticks\":\"\"},\"colorscale\":[[0.0,\"#0d0887\"],[0.1111111111111111,\"#46039f\"],[0.2222222222222222,\"#7201a8\"],[0.3333333333333333,\"#9c179e\"],[0.4444444444444444,\"#bd3786\"],[0.5555555555555556,\"#d8576b\"],[0.6666666666666666,\"#ed7953\"],[0.7777777777777778,\"#fb9f3a\"],[0.8888888888888888,\"#fdca26\"],[1.0,\"#f0f921\"]]}],\"surface\":[{\"type\":\"surface\",\"colorbar\":{\"outlinewidth\":0,\"ticks\":\"\"},\"colorscale\":[[0.0,\"#0d0887\"],[0.1111111111111111,\"#46039f\"],[0.2222222222222222,\"#7201a8\"],[0.3333333333333333,\"#9c179e\"],[0.4444444444444444,\"#bd3786\"],[0.5555555555555556,\"#d8576b\"],[0.6666666666666666,\"#ed7953\"],[0.7777777777777778,\"#fb9f3a\"],[0.8888888888888888,\"#fdca26\"],[1.0,\"#f0f921\"]]}],\"mesh3d\":[{\"type\":\"mesh3d\",\"colorbar\":{\"outlinewidth\":0,\"ticks\":\"\"}}],\"scatter\":[{\"fillpattern\":{\"fillmode\":\"overlay\",\"size\":10,\"solidity\":0.2},\"type\":\"scatter\"}],\"parcoords\":[{\"type\":\"parcoords\",\"line\":{\"colorbar\":{\"outlinewidth\":0,\"ticks\":\"\"}}}],\"scatterpolargl\":[{\"type\":\"scatterpolargl\",\"marker\":{\"colorbar\":{\"outlinewidth\":0,\"ticks\":\"\"}}}],\"bar\":[{\"error_x\":{\"color\":\"#2a3f5f\"},\"error_y\":{\"color\":\"#2a3f5f\"},\"marker\":{\"line\":{\"color\":\"#E5ECF6\",\"width\":0.5},\"pattern\":{\"fillmode\":\"overlay\",\"size\":10,\"solidity\":0.2}},\"type\":\"bar\"}],\"scattergeo\":[{\"type\":\"scattergeo\",\"marker\":{\"colorbar\":{\"outlinewidth\":0,\"ticks\":\"\"}}}],\"scatterpolar\":[{\"type\":\"scatterpolar\",\"marker\":{\"colorbar\":{\"outlinewidth\":0,\"ticks\":\"\"}}}],\"histogram\":[{\"marker\":{\"pattern\":{\"fillmode\":\"overlay\",\"size\":10,\"solidity\":0.2}},\"type\":\"histogram\"}],\"scattergl\":[{\"type\":\"scattergl\",\"marker\":{\"colorbar\":{\"outlinewidth\":0,\"ticks\":\"\"}}}],\"scatter3d\":[{\"type\":\"scatter3d\",\"line\":{\"colorbar\":{\"outlinewidth\":0,\"ticks\":\"\"}},\"marker\":{\"colorbar\":{\"outlinewidth\":0,\"ticks\":\"\"}}}],\"scattermapbox\":[{\"type\":\"scattermapbox\",\"marker\":{\"colorbar\":{\"outlinewidth\":0,\"ticks\":\"\"}}}],\"scatterternary\":[{\"type\":\"scatterternary\",\"marker\":{\"colorbar\":{\"outlinewidth\":0,\"ticks\":\"\"}}}],\"scattercarpet\":[{\"type\":\"scattercarpet\",\"marker\":{\"colorbar\":{\"outlinewidth\":0,\"ticks\":\"\"}}}],\"carpet\":[{\"aaxis\":{\"endlinecolor\":\"#2a3f5f\",\"gridcolor\":\"white\",\"linecolor\":\"white\",\"minorgridcolor\":\"white\",\"startlinecolor\":\"#2a3f5f\"},\"baxis\":{\"endlinecolor\":\"#2a3f5f\",\"gridcolor\":\"white\",\"linecolor\":\"white\",\"minorgridcolor\":\"white\",\"startlinecolor\":\"#2a3f5f\"},\"type\":\"carpet\"}],\"table\":[{\"cells\":{\"fill\":{\"color\":\"#EBF0F8\"},\"line\":{\"color\":\"white\"}},\"header\":{\"fill\":{\"color\":\"#C8D4E3\"},\"line\":{\"color\":\"white\"}},\"type\":\"table\"}],\"barpolar\":[{\"marker\":{\"line\":{\"color\":\"#E5ECF6\",\"width\":0.5},\"pattern\":{\"fillmode\":\"overlay\",\"size\":10,\"solidity\":0.2}},\"type\":\"barpolar\"}],\"pie\":[{\"automargin\":true,\"type\":\"pie\"}]},\"layout\":{\"autotypenumbers\":\"strict\",\"colorway\":[\"#636efa\",\"#EF553B\",\"#00cc96\",\"#ab63fa\",\"#FFA15A\",\"#19d3f3\",\"#FF6692\",\"#B6E880\",\"#FF97FF\",\"#FECB52\"],\"font\":{\"color\":\"#2a3f5f\"},\"hovermode\":\"closest\",\"hoverlabel\":{\"align\":\"left\"},\"paper_bgcolor\":\"white\",\"plot_bgcolor\":\"#E5ECF6\",\"polar\":{\"bgcolor\":\"#E5ECF6\",\"angularaxis\":{\"gridcolor\":\"white\",\"linecolor\":\"white\",\"ticks\":\"\"},\"radialaxis\":{\"gridcolor\":\"white\",\"linecolor\":\"white\",\"ticks\":\"\"}},\"ternary\":{\"bgcolor\":\"#E5ECF6\",\"aaxis\":{\"gridcolor\":\"white\",\"linecolor\":\"white\",\"ticks\":\"\"},\"baxis\":{\"gridcolor\":\"white\",\"linecolor\":\"white\",\"ticks\":\"\"},\"caxis\":{\"gridcolor\":\"white\",\"linecolor\":\"white\",\"ticks\":\"\"}},\"coloraxis\":{\"colorbar\":{\"outlinewidth\":0,\"ticks\":\"\"}},\"colorscale\":{\"sequential\":[[0.0,\"#0d0887\"],[0.1111111111111111,\"#46039f\"],[0.2222222222222222,\"#7201a8\"],[0.3333333333333333,\"#9c179e\"],[0.4444444444444444,\"#bd3786\"],[0.5555555555555556,\"#d8576b\"],[0.6666666666666666,\"#ed7953\"],[0.7777777777777778,\"#fb9f3a\"],[0.8888888888888888,\"#fdca26\"],[1.0,\"#f0f921\"]],\"sequentialminus\":[[0.0,\"#0d0887\"],[0.1111111111111111,\"#46039f\"],[0.2222222222222222,\"#7201a8\"],[0.3333333333333333,\"#9c179e\"],[0.4444444444444444,\"#bd3786\"],[0.5555555555555556,\"#d8576b\"],[0.6666666666666666,\"#ed7953\"],[0.7777777777777778,\"#fb9f3a\"],[0.8888888888888888,\"#fdca26\"],[1.0,\"#f0f921\"]],\"diverging\":[[0,\"#8e0152\"],[0.1,\"#c51b7d\"],[0.2,\"#de77ae\"],[0.3,\"#f1b6da\"],[0.4,\"#fde0ef\"],[0.5,\"#f7f7f7\"],[0.6,\"#e6f5d0\"],[0.7,\"#b8e186\"],[0.8,\"#7fbc41\"],[0.9,\"#4d9221\"],[1,\"#276419\"]]},\"xaxis\":{\"gridcolor\":\"white\",\"linecolor\":\"white\",\"ticks\":\"\",\"title\":{\"standoff\":15},\"zerolinecolor\":\"white\",\"automargin\":true,\"zerolinewidth\":2},\"yaxis\":{\"gridcolor\":\"white\",\"linecolor\":\"white\",\"ticks\":\"\",\"title\":{\"standoff\":15},\"zerolinecolor\":\"white\",\"automargin\":true,\"zerolinewidth\":2},\"scene\":{\"xaxis\":{\"backgroundcolor\":\"#E5ECF6\",\"gridcolor\":\"white\",\"linecolor\":\"white\",\"showbackground\":true,\"ticks\":\"\",\"zerolinecolor\":\"white\",\"gridwidth\":2},\"yaxis\":{\"backgroundcolor\":\"#E5ECF6\",\"gridcolor\":\"white\",\"linecolor\":\"white\",\"showbackground\":true,\"ticks\":\"\",\"zerolinecolor\":\"white\",\"gridwidth\":2},\"zaxis\":{\"backgroundcolor\":\"#E5ECF6\",\"gridcolor\":\"white\",\"linecolor\":\"white\",\"showbackground\":true,\"ticks\":\"\",\"zerolinecolor\":\"white\",\"gridwidth\":2}},\"shapedefaults\":{\"line\":{\"color\":\"#2a3f5f\"}},\"annotationdefaults\":{\"arrowcolor\":\"#2a3f5f\",\"arrowhead\":0,\"arrowwidth\":1},\"geo\":{\"bgcolor\":\"white\",\"landcolor\":\"#E5ECF6\",\"subunitcolor\":\"white\",\"showland\":true,\"showlakes\":true,\"lakecolor\":\"white\"},\"title\":{\"x\":0.05},\"mapbox\":{\"style\":\"light\"}}},\"xaxis\":{\"anchor\":\"y\",\"domain\":[0.0,1.0],\"title\":{\"text\":\"$(\\\\mathrm{Predicted} + \\\\mathrm{Ground} \\\\: \\\\mathrm{Truth})/2 \\\\: \\\\mathrm{(months)}$\",\"font\":{\"size\":15}},\"range\":[0,230],\"showline\":true,\"linewidth\":2,\"linecolor\":\"black\",\"tickfont\":{\"size\":12}},\"yaxis\":{\"anchor\":\"x\",\"domain\":[0.0,1.0],\"title\":{\"text\":\"$\\\\Delta=\\\\mathrm{Predicted} - \\\\mathrm{Ground} \\\\: \\\\mathrm{Truth} \\\\: \\\\mathrm{(months)}$\",\"font\":{\"size\":15}},\"range\":[-30,30],\"showline\":true,\"linewidth\":2,\"linecolor\":\"black\",\"tickfont\":{\"size\":12}},\"legend\":{\"title\":{\"text\":\"  \"},\"tracegroupgap\":0,\"font\":{\"size\":15}},\"title\":{\"text\":\"Bland-Altman plot comparing the Bone Age predictions from Rassmann et al. (2023) and the reference gradings (ground truth)\"},\"height\":500,\"width\":1300,\"shapes\":[{\"line\":{\"dash\":\"dash\"},\"type\":\"line\",\"x0\":0,\"x1\":260,\"y0\":16.18705183735597,\"y1\":16.18705183735597},{\"line\":{\"dash\":\"dash\"},\"type\":\"line\",\"x0\":0,\"x1\":260,\"y0\":-13.386807743104143,\"y1\":-13.386807743104143},{\"line\":{\"dash\":\"dot\"},\"type\":\"line\",\"x0\":0,\"x1\":260,\"y0\":1.4001220471259126,\"y1\":1.4001220471259126}],\"plot_bgcolor\":\"rgba(0,0,0,0)\",\"annotations\":[{\"showarrow\":false,\"text\":\"$+1.96\\\\:\\\\sigma$\",\"x\":220,\"y\":18.860879834477114,\"yshift\":1,\"font\":{\"size\":15}},{\"showarrow\":false,\"text\":\"$-1.96\\\\:\\\\sigma$\",\"x\":220,\"y\":-15.465921464271231,\"yshift\":1,\"font\":{\"size\":15}},{\"showarrow\":false,\"text\":\"$\\\\overline{\\\\Delta}=1.4$\",\"x\":220,\"y\":2.4001220471259126,\"yshift\":10,\"font\":{\"size\":15}},{\"showarrow\":false,\"text\":\"Double-click on a disorder's name in the legend to isolate only that disorder in the plot\",\"x\":115,\"y\":30,\"yshift\":10,\"font\":{\"size\":15}},{\"showarrow\":false,\"text\":\"By B. Javanmardi\",\"x\":30,\"y\":-27,\"yshift\":10,\"font\":{\"size\":15}}],\"modebar\":{\"remove\":[\"lasso2d\",\"select2d\"]}},                        {\"responsive\": true}                    ).then(function(){\n",
       "                            \n",
       "var gd = document.getElementById('cd7505f2-9159-470a-be36-599e2d730e5c');\n",
       "var x = new MutationObserver(function (mutations, observer) {{\n",
       "        var display = window.getComputedStyle(gd).display;\n",
       "        if (!display || display === 'none') {{\n",
       "            console.log([gd, 'removed!']);\n",
       "            Plotly.purge(gd);\n",
       "            observer.disconnect();\n",
       "        }}\n",
       "}});\n",
       "\n",
       "// Listen for the removal of the full notebook cells\n",
       "var notebookContainer = gd.closest('#notebook-container');\n",
       "if (notebookContainer) {{\n",
       "    x.observe(notebookContainer, {childList: true});\n",
       "}}\n",
       "\n",
       "// Listen for the clearing of the current output cell\n",
       "var outputEl = gd.closest('.output');\n",
       "if (outputEl) {{\n",
       "    x.observe(outputEl, {childList: true});\n",
       "}}\n",
       "\n",
       "                        })                };                });            </script>        </div>"
      ]
     },
     "metadata": {},
     "output_type": "display_data"
    }
   ],
   "source": [
    "import plotly.graph_objects as go\n",
    "labels={\"sex\": \"Sex\"}\n",
    "\n",
    "# for PDF output\n",
    "category_names=['HyCh', 'PsHPT', 'None Diagnosed', 'SRS', 'ACh', 'IUGR', 'SHOX Mutation', 'Noonan','UTS']\n",
    "\n",
    "#for HTML output:\n",
    "category_names=['Hypochondroplasia (HyCh)', 'Pseudohypoparathyroidism (PsHPT)', 'None Diagnosed', 'Silver-Russell Syndrome', 'Achondroplasia (ACh)', 'Intrauterine Growth Restriction (IUGR)', 'SHOX Mutation', 'Noonan Syndrome', 'Ullrich-Turner Syndrome (UTS)']\n",
    "\n",
    "# for PDF output width=1200, height=350 and comment the title\n",
    "# for HTML output \n",
    "fig = px.scatter(two_BA, x=round((two_BA['ba_two_raters']+two_BA['y_hat'])/2,1),y=round(difference,1), hover_data=['disorder', 'sex'], color=\"disorder\", color_discrete_sequence=px.colors.qualitative.Dark24, \n",
    "                  width=1300, height=500, labels=None, opacity=1,title='Bland-Altman plot comparing the Bone Age predictions from Rassmann et al. (2023) and the reference gradings (ground truth)')#, symbol='sex', symbol_sequence=['diamond', 'circle'])\n",
    "\n",
    "fig.update_traces(marker={'size': 7})\n",
    "\n",
    "\n",
    "for i in range(len(category_names)):\n",
    "    print(fig.data[i].name)\n",
    "    fig.data[i].name=category_names[i]\n",
    "\n",
    "fig.update_layout(legend_title = \"  \")    \n",
    "\n",
    "# conf interval\n",
    "fig.add_shape(type=\"line\",\n",
    "              x0=0, \n",
    "              y0=1.96*np.std(difference)+np.mean(difference), \n",
    "              x1=260, \n",
    "              y1=1.96*np.std(difference)+np.mean(difference), line_dash=\"dash\")\n",
    "\n",
    "fig.add_shape(type=\"line\",\n",
    "              x0=0, \n",
    "              y0=np.mean(difference)-1.96*np.std(difference), \n",
    "              x1=260, \n",
    "              y1=np.mean(difference)-1.96*np.std(difference), line_dash=\"dash\")\n",
    "\n",
    "\n",
    "\n",
    "\n",
    "fig.add_shape(type=\"line\",\n",
    "              x0=0, \n",
    "              y0=np.mean(difference), \n",
    "              x1=260, \n",
    "              y1=np.mean(difference), line_dash=\"dot\")\n",
    "\n",
    "\n",
    "\n",
    "fig.update_layout(yaxis_range=[-30,30],xaxis_range=[0,230])\n",
    "\n",
    "fig.update_xaxes(title_text='$(\\mathrm{Predicted} + \\mathrm{Ground} \\: \\mathrm{Truth})/2 \\: \\mathrm{(months)}$')\n",
    "ytitle='$\\Delta=\\mathrm{Predicted} - \\mathrm{Ground} \\: \\mathrm{Truth} \\: \\mathrm{(months)}$'\n",
    "fig.update_yaxes(title_text=ytitle)\n",
    "\n",
    "fig.update_layout(\n",
    "#     margin=dict(l=0,r=0,b=0,t=0),   # keep for PDF output, comment for HTML output\n",
    "    plot_bgcolor='rgba(0,0,0,0)')\n",
    "fig.update_xaxes(showline=True, linewidth=2, linecolor='black')\n",
    "fig.update_yaxes(showline=True, linewidth=2, linecolor='black')\n",
    "\n",
    "# fig.update_layout(legend=dict(\n",
    "#     orientation=\"h\",\n",
    "#     yanchor=\"bottom\",\n",
    "#     y=1.02,\n",
    "#     xanchor=\"right\",\n",
    "#     x=0.8\n",
    "# ), legend_font_size=13)\n",
    "\n",
    "fig.update_layout(legend_font_size=15)\n",
    "\n",
    "fig.add_annotation(x=220, y=2.5*np.std(difference),\n",
    "            text=\"$+1.96\\:\\sigma$\",\n",
    "            showarrow=False,\n",
    "            yshift=1)\n",
    "\n",
    "fig.add_annotation(x=220, y=-2.05*np.std(difference),\n",
    "            text=\"$-1.96\\:\\sigma$\",\n",
    "            showarrow=False,\n",
    "            yshift=1)\n",
    "\n",
    "fig.add_annotation(x=220, y=np.mean(difference)+1,\n",
    "            text=\"$\\overline{\\Delta}=1.4$\",\n",
    "            showarrow=False,\n",
    "            yshift=10)\n",
    "\n",
    "# only for HTML output:\n",
    "fig.add_annotation(x=115, y=30,\n",
    "            text=\"Double-click on a disorder's name in the legend to isolate only that disorder in the plot\",\n",
    "            showarrow=False,\n",
    "            yshift=10)\n",
    "\n",
    "# only for HTML output:\n",
    "fig.add_annotation(x=30, y=-27,\n",
    "            text=\"By B. Javanmardi\",\n",
    "            showarrow=False,\n",
    "            yshift=10)\n",
    "\n",
    "\n",
    "fig.update_annotations(font_size=15)\n",
    "\n",
    "fig.update_yaxes(title_font=dict(size=15),tickfont_size=12)\n",
    "fig.update_xaxes(title_font=dict(size=15),tickfont_size=12)\n",
    "\n",
    "fig.update_layout(modebar_remove=['lasso2d','select2d'])\n",
    "\n",
    "# fig.write_image(\"Bland_Altman.pdf\", scale=3.0)\n",
    "fig.write_html(\"Bland_Altman.html\",include_mathjax = 'cdn')\n",
    "\n",
    "fig.show()"
   ]
  },
  {
   "cell_type": "markdown",
   "metadata": {},
   "source": [
    "# mono color"
   ]
  },
  {
   "cell_type": "code",
   "execution_count": 30,
   "metadata": {},
   "outputs": [
    {
     "data": {
      "application/vnd.plotly.v1+json": {
       "config": {
        "plotlyServerURL": "https://plot.ly"
       },
       "data": [
        {
         "hovertemplate": "x=%{x}<br>y=%{y}<extra></extra>",
         "legendgroup": "",
         "marker": {
          "color": "black",
          "opacity": 0.5,
          "size": 5,
          "symbol": "circle"
         },
         "mode": "markers",
         "name": "",
         "orientation": "v",
         "showlegend": false,
         "type": "scatter",
         "x": [
          204.4971371720547,
          183.11307525961263,
          168.44018151366635,
          157.44969782496145,
          134.64696876540052,
          128.0152882582554,
          114.34451412202958,
          86.72206378482272,
          153.20804697781395,
          142.1164989304408,
          122.90794473019434,
          134.90169116855515,
          118.05211871982098,
          81.62661971568642,
          161.2964902115425,
          102.61714184102264,
          204.4127260692964,
          180.24357231079966,
          158.67928354743214,
          153.1132861166812,
          139.4204779841695,
          102.80533881903145,
          89.54290893997552,
          83.14307185413114,
          186.91704223797723,
          163.14604423804363,
          158.2678859383114,
          156.7764261373267,
          152.15771528627823,
          149.9914493709411,
          130.7219011050181,
          118.79225165203721,
          86.78221662505203,
          71.88925117808348,
          50.39768157439289,
          87.01833119485303,
          82.79045011956296,
          129.22928228414003,
          117.43661876082928,
          92.14114912328508,
          71.44357228274694,
          43.50734923060836,
          46.371795576963876,
          46.814741466062486,
          55.95719745380555,
          99.78333408691793,
          128.0165324641845,
          153.89762051330854,
          165.9573391344364,
          163.8214618371286,
          174.80308290501466,
          173.41374446947287,
          26.82184100198574,
          34.944057286108404,
          105.4450622398859,
          158.7821046451562,
          149.48934080998302,
          97.4543215265052,
          116.30240147894618,
          138.2643452922628,
          145.02869276826686,
          119.62483563645861,
          74.67201120299637,
          88.0502077173694,
          134.14521498889036,
          166.83551261438643,
          158.6431066245285,
          191.27885494355272,
          171.71210041593906,
          177.44050576047,
          38.65089195332159,
          56.022113869501425,
          150.6999717472052,
          28.891627135046132,
          51.575196491753445,
          108.99768747083434,
          115.30253476798553,
          165.64115290100676,
          142.14062781655304,
          153.26972113754573,
          126.71642057201746,
          95.09195822394727,
          71.55299488385333,
          111.21235574464487,
          111.94487822331203,
          122.48806325664152,
          101.24160482620744,
          105.5415642574666,
          129.47043476406242,
          112.48906734630714,
          116.7622351481312,
          86.36955857068628,
          90.615997410801,
          76.53996317119973,
          80.57374102842434,
          71.12105013869432,
          76.56167940296275,
          88.06042206277729,
          52.276602267132816,
          61.74092678751711,
          89.74582354018591,
          81.66805587459797,
          96.9472846196355,
          125.63524973756435,
          113.68157290247615,
          127.30443080582825,
          75.07640582412714,
          137.7809407764296,
          111.98981686205263,
          50.1169127763375,
          72.99473189962393,
          70.2961503952767,
          102.63563858714821,
          101.27708953830654,
          115.52440577254782,
          148.59490056883044,
          140.2188564027889,
          45.77705720171076,
          142.26708862089356,
          96.61201346018251,
          129.28854981248347,
          124.87600042925027,
          49.08902492757333,
          68.10173946717651,
          84.46899279129659,
          91.11534299975591,
          58.32901541143316,
          78.3970060328502,
          144.24194094110354,
          128.57744406873132,
          57.48433066654981,
          101.84377794242293,
          103.765863815106,
          133.13298201894088,
          78.54054130323365,
          83.02074356424052,
          82.6672408240486,
          133.3024564491887,
          160.3966101239232,
          52.59605631733678,
          92.08558990641257,
          73.56711057523988,
          148.59194168137748,
          82.15460812421252,
          77.48406370320416,
          55.15112291949863,
          95.36829063203507,
          78.58489901056811,
          106.85945417979863,
          84.71241736919728,
          124.37347072617388,
          53.621135129368966,
          128.66039542537231,
          139.28396567406855,
          56.567025001261015,
          110.59850201121267,
          76.749071586756,
          120.14735226736522,
          91.89432781381218,
          134.16574286795537,
          110.76147537358156,
          85.91074479696742,
          44.085057502776394,
          29.47518242072983,
          7.0707361419267025,
          89.08350835900384,
          94.34684694098212,
          122.19480818146121,
          132.64442492847425,
          37.336432892999326,
          61.67513149534105,
          147.96106971978284,
          44.4309190312254,
          10.699668323807654,
          28.44006027926922,
          44.73146978285719,
          170.61445460037686,
          55.05690868922787,
          36.99195582826506,
          25.130192851453977,
          19.80749750562267,
          167.09601728771827,
          154.48591293392076,
          187.88335338634386,
          170.31131214381168,
          161.5731308049443,
          154.19124400484495,
          145.78520712118723,
          123.6876911266773,
          20.247392842657277,
          192.02293594730162,
          86.93858121056442,
          28.09765728102881,
          85.49321484046726,
          123.4759736265802,
          113.41105594046724,
          109.20569223775871,
          109.2102280587286,
          101.51488064413746,
          69.41527693677858,
          60.64408778457603,
          44.03884481711464,
          41.26940768392207,
          39.93705506762301,
          131.42793474029799,
          68.61990027300459,
          181.09648239802112,
          158.75270313974795,
          143.09236190155923,
          129.49100758259618,
          199.55027749947624,
          180.66873947030194,
          163.26734333382794,
          159.7550741384406,
          157.19985168493787,
          197.1340446373262,
          185.4831818425556,
          157.47635946245111,
          136.16088900412524,
          127.68974077669981,
          117.20696385808328,
          109.68388552268271,
          199.6856316547589,
          175.80006123257664,
          167.79431196335685,
          159.65882391853762,
          154.8626267832961,
          141.37978502124173,
          130.10489753827542,
          180.46621051468549,
          172.33707633252345,
          159.61718359427144,
          147.53554796398862,
          130.87727276283556,
          55.023767014941214,
          183.318424919443,
          163.38025787346783,
          144.3495745350508,
          131.47997118872297,
          121.2495837393156,
          112.63062530515896,
          90.16658917644583,
          79.55867597472565,
          72.7611550180903,
          56.02771586589654,
          111.9207295586215,
          92.83143244098326,
          87.085264823016,
          65.67948038022345,
          52.70076769843343,
          162.22902054157987,
          142.7029999511687,
          128.62563879314257,
          199.49464145504925,
          182.89968662360823,
          109.02705040492,
          123.21702872461951,
          87.01675290427033,
          56.030078479478455,
          42.361698811600434,
          26.487038036140255,
          63.32702929143238,
          40.61890492194075,
          41.90585631815675,
          160.18833012919845,
          46.84762645574665,
          152.95108602134405,
          164.33850226209182,
          138.71945860864753,
          47.151020257634286,
          74.61075059465642,
          50.9921429077928,
          24.652337099919002,
          147.871363954286,
          173.38447182735334,
          155.6826808576767,
          57.5418636360981,
          83.8084739905384,
          59.985522176434074,
          55.953444561435006,
          184.83122933510163,
          153.8608557146506,
          163.99627457867985,
          45.34759336096853,
          62.09622342333679,
          92.60892955181734,
          51.270441782590865,
          66.66824045014788,
          164.78330212964846,
          192.72959460241657,
          64.9514969997509,
          98.58177237701557,
          168.29284661080845,
          65.5485771072598,
          100.86250865639201,
          61.31875763584837,
          76.21688792141526,
          134.65848927607703,
          58.38749733252939,
          174.08982715610432,
          175.78986514489026,
          8.643683021208576,
          31.945188042933783,
          75.70226381638074,
          48.65307823611195,
          77.11083033232111,
          71.5286241080895,
          68.74268542123463,
          85.46627529851963,
          101.74062094290454,
          139.72954075534244,
          114.90144595003369,
          28.819170397009913,
          26.48892374767882,
          123.74767646644207,
          84.96784681111839,
          36.45456915230554,
          75.5236632611367,
          80.1512021813694,
          67.549310661718,
          116.8830885466204,
          17.821727921025847,
          133.98931247838573,
          107.37056237652243,
          18.605737339333473,
          150.55813118636183,
          113.36021847055596,
          24.915566170843505,
          97.98873735896561,
          50.70091447422389,
          85.22563654407236,
          73.90635191830026,
          79.13411933961913,
          187.90990338723864,
          85.42395281182743,
          84.66963794304212,
          53.62997137982585,
          131.10629893335954,
          71.69258585902163,
          91.0163314175498,
          121.72402455865907,
          45.6828610482474,
          119.3369352909591,
          78.74503848038438,
          111.89474816185498,
          81.35740949576581,
          159.238210851762,
          93.05475691119469,
          32.747196721825404,
          106.78802651366874,
          77.34428604832496,
          36.74656405676981,
          143.10179784809606,
          57.954731443100926,
          32.14704646150042,
          94.93995250049032,
          80.95525183197677,
          140.7190752715381,
          88.77737486856776,
          21.89407741441638,
          33.142728174623365,
          81.69841621150982,
          21.834771301161382,
          50.36610082981841,
          126.54488595518639,
          92.5561057402235,
          72.32680066492748,
          88.02494711203641,
          78.98476008808441,
          118.71710586510324,
          165.90339793681397,
          138.76842741557914,
          103.50369479730153,
          38.878461989328386,
          43.42539561617947,
          127.42327992216565,
          41.61693598704281,
          151.90256884318057,
          33.48623645463435,
          61.72096814646734,
          124.55228224445287,
          85.05104129656678,
          54.113049056409196,
          102.60629491219734,
          104.11855856189331,
          43.005989215037985,
          82.10070677539889,
          96.03009509414326,
          78.86671041357371,
          110.33700227949839,
          96.486956296024,
          135.80526302868037,
          128.48346622912527,
          46.17097907702497,
          37.2490546669185,
          70.12200460786318,
          81.05181751375582,
          159.53803028624395,
          133.10756369516116,
          92.15850899182402,
          65.42330740152474,
          104.35990057693681,
          31.547238757209776,
          58.89701740868003,
          52.03570758303776,
          28.739853784797162,
          116.36222119382941,
          49.17512476732229,
          63.17951190792192,
          105.6377197773605,
          101.16083624576368,
          84.38673223942541,
          52.3382412715751,
          44.912120918331524,
          132.43200870907413,
          165.81094465869262,
          40.571835170818005,
          76.67839013251742,
          140.68963906628352,
          120.02232665688211,
          90.80842942271309,
          131.05172126210647,
          103.59729776071313,
          39.56554970541096,
          72.95677026377837,
          48.64527344719875,
          20.970883788687196,
          94.14031993706614,
          98.72939406596177,
          128.00958653766196,
          60.011795286775396,
          38.842904227536266,
          141.84713650917973,
          122.01632452035085,
          54.09399620971553,
          58.67984912467625,
          145.0011683142428,
          51.04312401065229,
          148.083617372369,
          197.55972249091974,
          120.60506261080528,
          81.37079698292155,
          102.9678320317467,
          131.7375103313092,
          101.80827143333988,
          146.67267647080263,
          111.21841172622845,
          90.234494333078,
          48.50344834110216,
          42.228404774886386,
          158.14784594268298,
          41.490764140039886,
          126.66169937608385,
          97.20939037408772,
          143.29996862797955,
          50.02385995497983,
          62.246732335179146,
          58.99730837863124,
          120.05647722519458,
          133.30981655635821,
          66.71073418678678,
          73.46450673913823,
          60.28610198603273,
          33.455576906109684,
          156.8936400894612,
          127.7087637331237,
          158.95164784491516,
          73.43305502318745,
          30.240687515294265,
          88.37696134202767,
          28.348995885396825,
          45.4525277968668,
          108.10013161424791,
          145.72888183272153,
          109.36514342129985,
          156.1866036715133,
          100.98057220865176,
          95.03354798298705,
          57.69204937118225,
          112.7306324277172,
          52.207474111935745,
          180.43116131784106,
          149.09874177892576,
          73.65035394088312,
          64.71193560778502,
          138.30654358265903,
          158.12761101627865,
          139.26080296311034,
          51.36715461036282,
          37.20682234896317,
          163.99436418605904,
          132.93075839322822,
          155.42645662626887,
          168.04367541278975,
          137.94995893950164,
          127.22586088407985,
          125.19562556406595,
          75.63733854866899,
          74.00219890971889,
          159.7248612906829,
          65.5008760907676,
          84.522671060326,
          145.95351247128946,
          111.90105874717896,
          149.85037182131032,
          120.07690414406326,
          170.6264872058601,
          122.52708071384647,
          132.1680881405029,
          166.08597054277135,
          164.50752716515927,
          35.70574559013672,
          145.4867478826752,
          108.3602343755994,
          71.08860310386734,
          91.03933517776875,
          88.63262919833838,
          91.71654927947756,
          122.35233266813879,
          172.38037534689153,
          73.93686650148473,
          180.70302981597428,
          153.9468983416324,
          132.60200987808855,
          67.74138508867765,
          154.34451215293473,
          177.19764704295164,
          180.77841242780883,
          64.05502754952329,
          61.66047179875564,
          86.74105737227313,
          127.27171300244422,
          73.0641344325079,
          135.68752987830163,
          169.2649633609194,
          154.8721030434882,
          178.87085508145265,
          44.56892468261954,
          130.41118400312604,
          82.67892340507393,
          182.2995974459828,
          147.18408283407632,
          119.88920849795223,
          141.45924363357278,
          137.14027072245904,
          53.24122986648903,
          162.730713067894,
          156.32558601437432,
          175.3962346540249,
          73.20345811468991,
          136.19406400561326,
          150.63782011447745,
          64.60832729819182,
          54.51913561371969,
          145.0924444120696,
          127.40407828107,
          159.88253244231004,
          78.1648792695648,
          68.31419127301407,
          145.43310637400344,
          76.37513123355623,
          92.67426618718031,
          174.54716400598096,
          147.0071115241564,
          61.59684314548289,
          112.88524948647401,
          185.86238064719416,
          95.12328420562218,
          24.852328721376672,
          66.83672422851225,
          131.17567196216703,
          110.0816365984784,
          103.96859092605376,
          102.70771443025075,
          171.6637255119083,
          168.69263105263178,
          98.42110369643666,
          87.41829708938914,
          62.48603230846144,
          130.0822565702738,
          137.8072509622193,
          81.04342078266258,
          154.5819518616628,
          154.68342509069487,
          193.63644124833814,
          62.870130396412975,
          149.0941582148948,
          114.3744728511045,
          82.50906164249648,
          160.69670591084798,
          90.70451134926421,
          138.10571060003358,
          174.63030755226708,
          104.9054128289304,
          82.01854148508605,
          132.17032619596057,
          200.1830026019067,
          88.87065803223648,
          132.95114893947647,
          77.25759063197481,
          99.87556709454537,
          144.2696872441632,
          43.458088889472194,
          176.813767670391,
          179.7524368247362,
          92.16916649564857,
          108.61248228860333,
          161.30148408721448,
          163.0949082176535,
          108.30471319502678,
          164.21868591242873,
          72.97127629430744,
          69.17650191905963,
          91.40395890629418,
          52.96896505769317,
          149.44516153399857,
          25.729662663615166,
          125.55707704398915,
          123.09532900786157,
          52.439503347254686,
          192.1334918181,
          76.17326290387561,
          140.20060842048696,
          103.27158151246303,
          33.376934343682606,
          102.67557740728189,
          120.49034466063787,
          140.81769674805423,
          47.2422801021099,
          156.0721944837884,
          73.9283002081805,
          92.96522344225136,
          115.46137987573564,
          79.13320469324717,
          125.71983167785825,
          152.38055975813575,
          43.23051831844266,
          108.72034846165536,
          36.23305621466535,
          102.45299798066966,
          101.93411836433978,
          96.50908710711857,
          107.40498202380351,
          90.61983433711191,
          162.88030660184833,
          118.20648476238128,
          132.36884701588116,
          101.59201012601957,
          144.5224631715672,
          142.2486897989487,
          113.81865896597657,
          101.78759635430254,
          160.36239591948288,
          49.592618306626,
          39.055400876757425,
          124.70739605030207,
          163.69078657452354,
          132.46405856939853,
          81.37647812787623,
          109.36109952820348,
          134.31186860789177,
          33.100973839704196,
          90.50901301081873,
          205.18503208448143,
          55.90336498369706,
          159.2010294694021,
          138.99158000566234,
          104.04521325773882,
          145.73015825524476,
          130.6455257152444,
          44.48946806062361,
          119.26826521891323,
          112.45186273941253,
          161.9255400571647,
          142.96487033912064,
          179.95897626512408,
          94.40296151750323,
          122.56093740196664,
          146.84452729259078,
          113.71944324494237,
          109.6739407912662,
          100.7401046230276,
          94.20682271696722,
          147.96707482143302,
          123.27911352920235,
          69.41509681769287,
          120.87704124403106,
          179.60340739170846,
          42.28040757947528,
          65.7767746744243,
          113.87342908012661,
          109.24702675076904,
          165.7833359648314,
          126.27047174042676,
          70.73410603372116,
          56.544889891317496,
          139.89014091286873,
          126.95424040854198,
          121.09274243517926,
          176.4072674930565,
          148.3365586488904,
          124.03454543399178
         ],
         "xaxis": "x",
         "y": [
          12.994274344109385,
          0.2261505192252855,
          6.880363027332692,
          2.8993956499228943,
          23.29393753080103,
          16.03057651651079,
          9.689028244059159,
          20.44412756964546,
          0.4160939556279004,
          8.232997860881625,
          -12.184110539611325,
          -9.196617662889736,
          -3.895762560358051,
          -7.746760568627181,
          -7.4070195769149905,
          1.2342836820452874,
          6.825452138592794,
          0.48714462159929894,
          -0.6414329051357583,
          -23.77342776663758,
          -9.159044031660983,
          4.61067763806291,
          5.085817879951023,
          -4.713856291737741,
          7.834084475954427,
          4.292088476087258,
          -1.4642281233771826,
          4.5528522746533895,
          1.3154305725564939,
          -9.017101258117776,
          -8.556197789963804,
          -23.415496695925597,
          -0.4355667498959406,
          5.7785023561669675,
          4.795363148785782,
          -11.963337610293948,
          3.5809002391259384,
          0.45856456828008163,
          -5.126762478341448,
          -7.71770175342985,
          -1.1128554345061161,
          -8.985301538783276,
          8.743591153927746,
          0.6294829321249651,
          -14.08560509238891,
          25.56666817383585,
          10.033064928369015,
          7.795241026617077,
          -4.0853217311271806,
          9.642923674257162,
          -1.393834189970704,
          7.827488938945777,
          8.643682003971481,
          3.8881145722168,
          -11.1098755202282,
          -6.435790709687609,
          -7.021318380033961,
          8.908643053010408,
          10.60480295789236,
          -5.471309415474423,
          -9.942614463466242,
          5.249671272917226,
          5.34402240599276,
          -3.8995845652612076,
          -4.709570022219282,
          -2.328974771227138,
          -9.713786750942944,
          4.557709887105432,
          1.424200831878153,
          -5.118988479060022,
          -12.698216093356827,
          -1.9557722609971435,
          -10.60005650558955,
          3.7832542700922644,
          1.1503929835068973,
          -10.004625058331314,
          -3.3949304640289313,
          7.282305802013525,
          -9.71874436689393,
          12.539442275091432,
          -10.567158855965076,
          -7.8160835521054395,
          2.1059897677066743,
          18.42471148928972,
          -22.110243553375938,
          -4.023873486716951,
          -13.516790347585129,
          -10.916871485066778,
          0.9408695281248356,
          14.978134692614276,
          -6.475529703737607,
          -4.26088285862744,
          13.231994821602001,
          -8.920073657600526,
          11.14748205684866,
          -1.75789972261137,
          -2.8766411940744945,
          -0.8791558744454022,
          2.553204534265639,
          -2.518146424965785,
          5.491647080371806,
          19.33611174919595,
          -4.105430760729007,
          11.270499475128702,
          -15.636854195047704,
          5.6088616116564936,
          0.1528116482542572,
          5.561881552859148,
          -16.020366275894716,
          -4.766174447325,
          4.989463799247872,
          -0.40769920944659077,
          -10.72872282570357,
          -1.4458209233869184,
          -8.951188454904369,
          0.18980113766087925,
          -1.5622871944222254,
          4.554114403421529,
          2.5341772417870914,
          4.224026920365006,
          -5.42290037503308,
          0.7520008585005229,
          -3.8219501448533464,
          -1.7965210656469708,
          0.9379855825931571,
          -12.76931400048818,
          5.658030822866316,
          3.7940120657004,
          -11.516118117792928,
          -6.845111862537365,
          12.968661333099611,
          8.687555884845864,
          -2.4682723697879965,
          2.265964037881787,
          1.081082606467291,
          4.041487128481052,
          3.334481648097224,
          2.6049128983773926,
          2.7932202478464205,
          12.192112634673563,
          -1.8288201871748555,
          9.13422115047976,
          -2.816116637245017,
          -9.690783751574969,
          -4.031872593591686,
          2.3022458389972655,
          -13.263418735929847,
          1.1697980211362307,
          6.718908359597265,
          1.4248347383945799,
          -6.2530585476522305,
          -0.7577297412620609,
          -0.6792091492553993,
          2.5679313481371366,
          11.134050002522024,
          5.197004022425361,
          12.498143173512005,
          6.294704534730428,
          9.788655627624365,
          10.331485735910746,
          -12.477049252836878,
          9.821489593934842,
          1.1701150055527947,
          4.950364841459656,
          5.141472283853405,
          4.167016718007673,
          2.693693881964222,
          -1.6103836370775753,
          -4.711150143051498,
          14.67286578599866,
          -8.649737009317896,
          4.922139439565683,
          7.8618380624507935,
          0.39933664761530707,
          -3.11987944146156,
          5.462939565714386,
          -0.7710907992463092,
          2.1138173784557424,
          10.983911656530132,
          8.26038570290795,
          3.614995011245341,
          -1.8079654245634913,
          8.971825867841488,
          9.766706772687684,
          -1.3773757123766188,
          -21.853738390111374,
          -9.617511990310106,
          -14.429585757625574,
          -10.624617746645427,
          -1.5052143146854426,
          0.045871894603209284,
          -12.122837578871156,
          -6.804685437942382,
          -3.0135703190654795,
          12.951947253160398,
          13.822111880934486,
          2.4113844755174227,
          -15.579543882542808,
          -0.9702387117250879,
          0.8305538735571503,
          -10.711824430847933,
          4.07768963422928,
          4.538815367844144,
          -4.125889864753994,
          4.855869480595999,
          -6.760199453990822,
          2.1929647960422756,
          -6.4945937205041275,
          -4.81527619688157,
          6.982015165192365,
          9.100554998952475,
          1.3374789406039156,
          8.534686667655876,
          7.510148276881182,
          5.399703369875766,
          -1.7319107253476034,
          -1.0336363148888097,
          2.952718924902257,
          14.321778008250448,
          9.379481553399614,
          6.413927716166569,
          9.36777104536543,
          3.371263309517815,
          -8.399877534846752,
          -0.41137607328630565,
          4.317647837075242,
          0.7252535665921584,
          6.759570042483432,
          2.209795076550847,
          0.9324210293709996,
          -3.325847334953096,
          -4.765632811457124,
          -4.928904072022732,
          3.7545455256711193,
          5.047534029882428,
          12.636849838886008,
          -3.239484253064319,
          12.699149070101612,
          10.959942377445941,
          5.499167478631193,
          -14.738749389682084,
          6.333178352891636,
          3.1173519494512902,
          -10.477689963819373,
          -10.944568268206922,
          7.841459117243005,
          11.662864881966513,
          9.170529646032008,
          8.35896076044692,
          9.401535396866862,
          3.458041083159742,
          -11.594000097662615,
          2.2512775862851413,
          8.989282910098467,
          -0.2006267527835348,
          -9.945899190159992,
          18.43405744923902,
          27.03350580854068,
          22.06015695895691,
          6.723397623200867,
          -1.0259239277194894,
          6.654058582864764,
          0.23780984388149307,
          2.8117126363135085,
          2.3766602583969245,
          -2.3047470885067014,
          5.9021720426881075,
          -1.3229954758163842,
          -7.561082782704915,
          1.3020405152685726,
          2.2215011893128604,
          -0.015714184414406418,
          1.3046741998380007,
          -7.2572720914279785,
          1.7689436547066748,
          8.365361715353373,
          -1.9162727278037934,
          -0.3830520189231805,
          -0.028955647131851947,
          -2.0931108771299947,
          3.66245867020325,
          4.721711429301195,
          0.9925491573596901,
          -2.3048132780629444,
          -4.807553153326424,
          5.21785910363468,
          12.540883565181723,
          10.336480900295754,
          8.566604259296923,
          10.459189204833109,
          -2.0970060004981974,
          5.163544754031136,
          6.585693221616879,
          2.0971542145196196,
          3.7250173127840043,
          -0.36248472830325795,
          5.433775842830528,
          2.3169785521540973,
          -0.22500533494121555,
          12.179654312208669,
          3.5797302897805423,
          7.687366042417151,
          3.8903760858675653,
          -1.5954723672385143,
          -7.693843527776096,
          4.221660664642215,
          -0.9427517838209809,
          -6.5146291575307345,
          8.932550597039267,
          -3.5187581141909163,
          0.45908151068491065,
          7.802891900067365,
          -2.361659205980171,
          -7.0221525046423565,
          1.4953529328841597,
          -1.0643063777632307,
          3.9091383046110764,
          7.0473265222734085,
          4.302404362738798,
          -8.901378676564008,
          2.766177093240799,
          2.6434558420516936,
          21.978624956771483,
          -4.258875246955142,
          -10.788525321333056,
          1.1162623727236962,
          13.720436941111927,
          -4.168867658312987,
          9.97747471793123,
          2.4018289484477933,
          2.4512730881447027,
          3.8127038366005053,
          -3.7317613207617484,
          15.819806774477286,
          8.847905623654881,
          4.339275886084238,
          -3.740057240348314,
          1.2125978667190793,
          -0.6148282819567328,
          -3.9673371649003997,
          3.448049117318149,
          -4.6342779035052,
          13.673870581918194,
          -1.5099230392312393,
          -1.2105036762900596,
          0.7148189915316294,
          3.4764217035240392,
          0.10951382238935992,
          -0.5056065563491927,
          0.576053027337494,
          -1.311427903350065,
          -1.5068718864603667,
          4.203595696192082,
          -10.090537113798142,
          4.294092923000839,
          9.879905000980642,
          -3.08949633604648,
          2.4381505430762047,
          9.554749737135523,
          1.7881548288327593,
          -5.714543650753271,
          -1.60316757698034,
          -4.3304573976772325,
          -1.2677983403631785,
          13.089771910372775,
          -3.8877885195529984,
          0.6536013298549506,
          5.049894224072844,
          1.9695201761688281,
          6.4342117302064565,
          4.806795873627976,
          1.5368548311582515,
          9.007389594603083,
          -0.24307602134322792,
          -6.149208767641063,
          5.846559844331296,
          5.233871974085616,
          9.805137686361178,
          3.9724729092686957,
          3.4419362929346775,
          -2.895435511094263,
          -3.897917406866455,
          -2.7739018871816086,
          -1.7874101756053165,
          1.2371171237866037,
          2.0119784300759633,
          8.201413550797767,
          -2.939809811713488,
          -1.266579172852559,
          -1.3259954410032293,
          0.9739125920480092,
          7.610526057360715,
          -1.0330675417494461,
          -3.658041845950059,
          5.498109333836993,
          5.244009215726351,
          6.1036350275116575,
          7.076060572487904,
          -3.7848726096777057,
          -1.6829820163519429,
          -13.15338519695053,
          4.719801153873632,
          -2.9055224855804482,
          9.794034817360057,
          -3.928584833924475,
          3.4797075695943214,
          7.72444238765884,
          -3.6497504653554245,
          -5.640976184156159,
          -19.72456044527901,
          10.321672491527352,
          0.773464478850812,
          -3.3235174568497925,
          -6.175758163336944,
          0.8640174181482223,
          1.6218893173852678,
          6.143670341636017,
          15.356780265034857,
          8.37927813256701,
          3.044653313764229,
          4.616858845426179,
          22.103442524212966,
          3.1945955214262796,
          1.1310994108219248,
          -4.086459472443266,
          7.290546894397487,
          -0.05823242262560768,
          -0.7193601258677234,
          -0.5412118680764593,
          10.01917307532392,
          0.0235905735507842,
          11.685808455072525,
          -7.305726981640561,
          4.032649040701713,
          0.1879924194310476,
          -5.640301750647488,
          -3.9976633715144203,
          -5.913751978695423,
          -0.832765255262018,
          14.119444981839479,
          4.210125221610539,
          -11.25840603415692,
          1.9356640634934053,
          11.47502066261842,
          2.616542866679765,
          11.345352941605256,
          -23.563176547543094,
          6.468988666156022,
          7.006896682204314,
          -5.543190450227229,
          -1.7043081146340455,
          10.981528280079772,
          1.3233987521676767,
          2.418780748175436,
          -1.4000627440408948,
          -1.9522800900403396,
          4.493464670358293,
          3.9946167572624773,
          0.11295445038915375,
          -9.3803668872836,
          -1.5785316264264395,
          8.92901347827646,
          -11.427796027934534,
          0.9111538122193608,
          -4.212719821077627,
          -2.5824725337525933,
          -6.0967043101696845,
          2.8661100463748994,
          -2.5186249694114693,
          2.7539226840553255,
          2.6979917707936494,
          -5.094944406266407,
          0.20026322849584233,
          6.457763665443025,
          -9.269713157400318,
          12.373207343026593,
          9.96114441730353,
          4.067095965974076,
          -4.6159012576355,
          -2.5387351445656066,
          8.414948223871491,
          12.86232263568212,
          4.197483557851513,
          9.300707881766257,
          0.4238712155700597,
          0.6130871653180634,
          10.255222032557327,
          -0.4783940737793273,
          6.734309220725642,
          2.413644697926344,
          -2.011271627881939,
          -10.138483213543566,
          4.852913252537746,
          -2.9126491744205225,
          5.899917879003283,
          2.4517217681597003,
          -7.608748871868102,
          1.274677097337971,
          4.004397819437784,
          13.449722581365762,
          11.00175218153521,
          7.045342120652009,
          0.9070249425789427,
          10.80211749435793,
          -6.299256357379392,
          -5.846191711873487,
          -0.7470255882798256,
          -27.945838572307053,
          3.3361762810058337,
          2.17194108554267,
          2.015054330318577,
          -6.588508819726556,
          -9.026504234649622,
          -14.279531248801192,
          -10.822793792265315,
          14.078670355537497,
          -2.7347416033232292,
          6.4330985589551375,
          10.704665336277557,
          2.7607506937830237,
          3.873733002969459,
          7.406059631948551,
          -4.106203316735247,
          1.2040197561771038,
          9.482770177355306,
          2.6890243058694523,
          6.395294085903316,
          1.5568248556176627,
          -0.8899449009534237,
          -5.679056402488719,
          -3.5178852554537485,
          -9.456573995111583,
          -3.871731134984202,
          -4.624940243396708,
          8.529926721838848,
          0.7442060869764191,
          6.741710162905321,
          -6.862150634760923,
          -3.1776319937478945,
          3.357846810147862,
          4.599194891965624,
          6.3681656681526135,
          11.77841699590445,
          0.9184872671455651,
          -4.7194585550819,
          4.482459732978057,
          4.4614261357880025,
          -5.3488279712513815,
          5.792469308049817,
          14.406916229379803,
          5.3881280112265415,
          -7.724359771045101,
          6.216654596383663,
          -4.961728772560619,
          -0.8151111758608351,
          11.808156562139999,
          4.765064884620045,
          0.32975853912962805,
          -1.371617453971865,
          -6.1337872519931125,
          5.750262467112478,
          -0.6514676256393841,
          7.094328011961892,
          -2.985776951687228,
          0.19368629096578616,
          -2.2295010270519953,
          2.7247612943883155,
          -1.7534315887556318,
          1.7046574427533443,
          7.67344845702452,
          1.35134392433406,
          16.163273196956794,
          0.9371818521075426,
          -1.5845711394985074,
          -1.6725489761834353,
          -1.6147378947364643,
          -4.157792607126694,
          6.8365941787782845,
          16.97206461692288,
          5.164513140547626,
          8.614501924438656,
          -5.913158434674841,
          3.1639037233256033,
          -2.633149818610235,
          9.27288249667626,
          -0.259739207174043,
          -1.8116835702103913,
          -5.251054297791001,
          9.018123284992967,
          -14.606588178304008,
          19.409022698528418,
          15.21142120006715,
          1.2606151045341392,
          -3.1891743421392107,
          8.037082970172094,
          -5.659347608078889,
          16.366005203813444,
          -5.258683935527046,
          7.902297878952936,
          1.5151812639496,
          7.751134189090763,
          3.5393744883264446,
          -0.08382222105560544,
          5.6275353407820035,
          5.504873649472415,
          1.3383329912971362,
          -4.775035422793351,
          4.60296817442898,
          2.189816435307023,
          -5.390573609946443,
          7.4373718248574505,
          7.942552588614902,
          0.35300383811924974,
          -9.192082187411629,
          3.9379301153863437,
          4.890323067997144,
          -2.540674672769672,
          -6.885845912021708,
          6.19065801572313,
          -3.120993305490636,
          6.2669836361999955,
          -0.6534741922487939,
          4.401216840973916,
          -3.4568369750739265,
          -5.2461313126347875,
          -10.648845185436215,
          -5.0193106787242385,
          -6.364606503891508,
          -7.515439795780189,
          0.14438896757675934,
          -2.1433995836390096,
          8.930446884502715,
          2.9227597514712897,
          14.266409386494317,
          -0.5603366442835096,
          7.7611195162715205,
          -9.538963363114675,
          1.4406969233107247,
          -2.5338875706693003,
          -5.094004038660657,
          23.868236728679577,
          1.018174214237149,
          -13.190035952392961,
          7.239668674223836,
          -7.239386796303336,
          -9.587030475237441,
          6.737694031762317,
          2.1840202520391614,
          4.044926343134392,
          11.497379597897407,
          -12.36268206804688,
          11.575192708605073,
          2.7247918389657286,
          0.1852366132520018,
          3.110801753514849,
          3.4147921006041457,
          6.381573149047085,
          12.928117138797063,
          -2.247043744247563,
          2.72219905640695,
          10.623737215783564,
          -2.7980523205916086,
          4.018026021637482,
          2.3700641689628696,
          -2.193270032605888,
          3.402058938804174,
          13.983160011324685,
          13.09042651547766,
          6.460316510489548,
          9.29105143048875,
          -1.0210638787527841,
          -7.463469562173557,
          20.903725478825066,
          -0.1489198856705798,
          3.929740678241302,
          11.917952530248158,
          8.805923035006444,
          -0.8781251960667049,
          11.689054585181566,
          5.438886489884737,
          -2.652118417467591,
          3.4802092460552245,
          -3.586354566065566,
          1.934149642866032,
          6.558227058404697,
          -5.169806364614246,
          7.754082488062139,
          5.206814783416888,
          -2.439184841049439,
          5.553549348848591,
          14.74685816025324,
          14.49405350153809,
          1.5666719296628173,
          -5.459056519146486,
          -8.531787932557677,
          -12.910220217365008,
          3.7802818257374895,
          1.9084808170839551,
          -6.814515129641478,
          -1.1854650138869829,
          2.6731172977807773,
          -6.930909132016424
         ],
         "yaxis": "y"
        }
       ],
       "layout": {
        "height": 205,
        "legend": {
         "title": {
          "text": "  "
         },
         "tracegroupgap": 0
        },
        "margin": {
         "b": 0,
         "l": 0,
         "r": 0,
         "t": 0
        },
        "plot_bgcolor": "rgba(0, 0, 0, 0)",
        "shapes": [
         {
          "line": {
           "dash": "dash"
          },
          "type": "line",
          "x0": 0,
          "x1": 260,
          "y0": 14.786929790230056,
          "y1": 14.786929790230056
         },
         {
          "line": {
           "dash": "dash"
          },
          "type": "line",
          "x0": 0,
          "x1": 260,
          "y0": -14.786929790230056,
          "y1": -14.786929790230056
         },
         {
          "line": {
           "dash": "dot"
          },
          "type": "line",
          "x0": 0,
          "x1": 260,
          "y0": 1.4001220471259126,
          "y1": 1.4001220471259126
         }
        ],
        "template": {
         "data": {
          "bar": [
           {
            "error_x": {
             "color": "#2a3f5f"
            },
            "error_y": {
             "color": "#2a3f5f"
            },
            "marker": {
             "line": {
              "color": "#E5ECF6",
              "width": 0.5
             },
             "pattern": {
              "fillmode": "overlay",
              "size": 10,
              "solidity": 0.2
             }
            },
            "type": "bar"
           }
          ],
          "barpolar": [
           {
            "marker": {
             "line": {
              "color": "#E5ECF6",
              "width": 0.5
             },
             "pattern": {
              "fillmode": "overlay",
              "size": 10,
              "solidity": 0.2
             }
            },
            "type": "barpolar"
           }
          ],
          "carpet": [
           {
            "aaxis": {
             "endlinecolor": "#2a3f5f",
             "gridcolor": "white",
             "linecolor": "white",
             "minorgridcolor": "white",
             "startlinecolor": "#2a3f5f"
            },
            "baxis": {
             "endlinecolor": "#2a3f5f",
             "gridcolor": "white",
             "linecolor": "white",
             "minorgridcolor": "white",
             "startlinecolor": "#2a3f5f"
            },
            "type": "carpet"
           }
          ],
          "choropleth": [
           {
            "colorbar": {
             "outlinewidth": 0,
             "ticks": ""
            },
            "type": "choropleth"
           }
          ],
          "contour": [
           {
            "colorbar": {
             "outlinewidth": 0,
             "ticks": ""
            },
            "colorscale": [
             [
              0,
              "#0d0887"
             ],
             [
              0.1111111111111111,
              "#46039f"
             ],
             [
              0.2222222222222222,
              "#7201a8"
             ],
             [
              0.3333333333333333,
              "#9c179e"
             ],
             [
              0.4444444444444444,
              "#bd3786"
             ],
             [
              0.5555555555555556,
              "#d8576b"
             ],
             [
              0.6666666666666666,
              "#ed7953"
             ],
             [
              0.7777777777777778,
              "#fb9f3a"
             ],
             [
              0.8888888888888888,
              "#fdca26"
             ],
             [
              1,
              "#f0f921"
             ]
            ],
            "type": "contour"
           }
          ],
          "contourcarpet": [
           {
            "colorbar": {
             "outlinewidth": 0,
             "ticks": ""
            },
            "type": "contourcarpet"
           }
          ],
          "heatmap": [
           {
            "colorbar": {
             "outlinewidth": 0,
             "ticks": ""
            },
            "colorscale": [
             [
              0,
              "#0d0887"
             ],
             [
              0.1111111111111111,
              "#46039f"
             ],
             [
              0.2222222222222222,
              "#7201a8"
             ],
             [
              0.3333333333333333,
              "#9c179e"
             ],
             [
              0.4444444444444444,
              "#bd3786"
             ],
             [
              0.5555555555555556,
              "#d8576b"
             ],
             [
              0.6666666666666666,
              "#ed7953"
             ],
             [
              0.7777777777777778,
              "#fb9f3a"
             ],
             [
              0.8888888888888888,
              "#fdca26"
             ],
             [
              1,
              "#f0f921"
             ]
            ],
            "type": "heatmap"
           }
          ],
          "heatmapgl": [
           {
            "colorbar": {
             "outlinewidth": 0,
             "ticks": ""
            },
            "colorscale": [
             [
              0,
              "#0d0887"
             ],
             [
              0.1111111111111111,
              "#46039f"
             ],
             [
              0.2222222222222222,
              "#7201a8"
             ],
             [
              0.3333333333333333,
              "#9c179e"
             ],
             [
              0.4444444444444444,
              "#bd3786"
             ],
             [
              0.5555555555555556,
              "#d8576b"
             ],
             [
              0.6666666666666666,
              "#ed7953"
             ],
             [
              0.7777777777777778,
              "#fb9f3a"
             ],
             [
              0.8888888888888888,
              "#fdca26"
             ],
             [
              1,
              "#f0f921"
             ]
            ],
            "type": "heatmapgl"
           }
          ],
          "histogram": [
           {
            "marker": {
             "pattern": {
              "fillmode": "overlay",
              "size": 10,
              "solidity": 0.2
             }
            },
            "type": "histogram"
           }
          ],
          "histogram2d": [
           {
            "colorbar": {
             "outlinewidth": 0,
             "ticks": ""
            },
            "colorscale": [
             [
              0,
              "#0d0887"
             ],
             [
              0.1111111111111111,
              "#46039f"
             ],
             [
              0.2222222222222222,
              "#7201a8"
             ],
             [
              0.3333333333333333,
              "#9c179e"
             ],
             [
              0.4444444444444444,
              "#bd3786"
             ],
             [
              0.5555555555555556,
              "#d8576b"
             ],
             [
              0.6666666666666666,
              "#ed7953"
             ],
             [
              0.7777777777777778,
              "#fb9f3a"
             ],
             [
              0.8888888888888888,
              "#fdca26"
             ],
             [
              1,
              "#f0f921"
             ]
            ],
            "type": "histogram2d"
           }
          ],
          "histogram2dcontour": [
           {
            "colorbar": {
             "outlinewidth": 0,
             "ticks": ""
            },
            "colorscale": [
             [
              0,
              "#0d0887"
             ],
             [
              0.1111111111111111,
              "#46039f"
             ],
             [
              0.2222222222222222,
              "#7201a8"
             ],
             [
              0.3333333333333333,
              "#9c179e"
             ],
             [
              0.4444444444444444,
              "#bd3786"
             ],
             [
              0.5555555555555556,
              "#d8576b"
             ],
             [
              0.6666666666666666,
              "#ed7953"
             ],
             [
              0.7777777777777778,
              "#fb9f3a"
             ],
             [
              0.8888888888888888,
              "#fdca26"
             ],
             [
              1,
              "#f0f921"
             ]
            ],
            "type": "histogram2dcontour"
           }
          ],
          "mesh3d": [
           {
            "colorbar": {
             "outlinewidth": 0,
             "ticks": ""
            },
            "type": "mesh3d"
           }
          ],
          "parcoords": [
           {
            "line": {
             "colorbar": {
              "outlinewidth": 0,
              "ticks": ""
             }
            },
            "type": "parcoords"
           }
          ],
          "pie": [
           {
            "automargin": true,
            "type": "pie"
           }
          ],
          "scatter": [
           {
            "fillpattern": {
             "fillmode": "overlay",
             "size": 10,
             "solidity": 0.2
            },
            "type": "scatter"
           }
          ],
          "scatter3d": [
           {
            "line": {
             "colorbar": {
              "outlinewidth": 0,
              "ticks": ""
             }
            },
            "marker": {
             "colorbar": {
              "outlinewidth": 0,
              "ticks": ""
             }
            },
            "type": "scatter3d"
           }
          ],
          "scattercarpet": [
           {
            "marker": {
             "colorbar": {
              "outlinewidth": 0,
              "ticks": ""
             }
            },
            "type": "scattercarpet"
           }
          ],
          "scattergeo": [
           {
            "marker": {
             "colorbar": {
              "outlinewidth": 0,
              "ticks": ""
             }
            },
            "type": "scattergeo"
           }
          ],
          "scattergl": [
           {
            "marker": {
             "colorbar": {
              "outlinewidth": 0,
              "ticks": ""
             }
            },
            "type": "scattergl"
           }
          ],
          "scattermapbox": [
           {
            "marker": {
             "colorbar": {
              "outlinewidth": 0,
              "ticks": ""
             }
            },
            "type": "scattermapbox"
           }
          ],
          "scatterpolar": [
           {
            "marker": {
             "colorbar": {
              "outlinewidth": 0,
              "ticks": ""
             }
            },
            "type": "scatterpolar"
           }
          ],
          "scatterpolargl": [
           {
            "marker": {
             "colorbar": {
              "outlinewidth": 0,
              "ticks": ""
             }
            },
            "type": "scatterpolargl"
           }
          ],
          "scatterternary": [
           {
            "marker": {
             "colorbar": {
              "outlinewidth": 0,
              "ticks": ""
             }
            },
            "type": "scatterternary"
           }
          ],
          "surface": [
           {
            "colorbar": {
             "outlinewidth": 0,
             "ticks": ""
            },
            "colorscale": [
             [
              0,
              "#0d0887"
             ],
             [
              0.1111111111111111,
              "#46039f"
             ],
             [
              0.2222222222222222,
              "#7201a8"
             ],
             [
              0.3333333333333333,
              "#9c179e"
             ],
             [
              0.4444444444444444,
              "#bd3786"
             ],
             [
              0.5555555555555556,
              "#d8576b"
             ],
             [
              0.6666666666666666,
              "#ed7953"
             ],
             [
              0.7777777777777778,
              "#fb9f3a"
             ],
             [
              0.8888888888888888,
              "#fdca26"
             ],
             [
              1,
              "#f0f921"
             ]
            ],
            "type": "surface"
           }
          ],
          "table": [
           {
            "cells": {
             "fill": {
              "color": "#EBF0F8"
             },
             "line": {
              "color": "white"
             }
            },
            "header": {
             "fill": {
              "color": "#C8D4E3"
             },
             "line": {
              "color": "white"
             }
            },
            "type": "table"
           }
          ]
         },
         "layout": {
          "annotationdefaults": {
           "arrowcolor": "#2a3f5f",
           "arrowhead": 0,
           "arrowwidth": 1
          },
          "autotypenumbers": "strict",
          "coloraxis": {
           "colorbar": {
            "outlinewidth": 0,
            "ticks": ""
           }
          },
          "colorscale": {
           "diverging": [
            [
             0,
             "#8e0152"
            ],
            [
             0.1,
             "#c51b7d"
            ],
            [
             0.2,
             "#de77ae"
            ],
            [
             0.3,
             "#f1b6da"
            ],
            [
             0.4,
             "#fde0ef"
            ],
            [
             0.5,
             "#f7f7f7"
            ],
            [
             0.6,
             "#e6f5d0"
            ],
            [
             0.7,
             "#b8e186"
            ],
            [
             0.8,
             "#7fbc41"
            ],
            [
             0.9,
             "#4d9221"
            ],
            [
             1,
             "#276419"
            ]
           ],
           "sequential": [
            [
             0,
             "#0d0887"
            ],
            [
             0.1111111111111111,
             "#46039f"
            ],
            [
             0.2222222222222222,
             "#7201a8"
            ],
            [
             0.3333333333333333,
             "#9c179e"
            ],
            [
             0.4444444444444444,
             "#bd3786"
            ],
            [
             0.5555555555555556,
             "#d8576b"
            ],
            [
             0.6666666666666666,
             "#ed7953"
            ],
            [
             0.7777777777777778,
             "#fb9f3a"
            ],
            [
             0.8888888888888888,
             "#fdca26"
            ],
            [
             1,
             "#f0f921"
            ]
           ],
           "sequentialminus": [
            [
             0,
             "#0d0887"
            ],
            [
             0.1111111111111111,
             "#46039f"
            ],
            [
             0.2222222222222222,
             "#7201a8"
            ],
            [
             0.3333333333333333,
             "#9c179e"
            ],
            [
             0.4444444444444444,
             "#bd3786"
            ],
            [
             0.5555555555555556,
             "#d8576b"
            ],
            [
             0.6666666666666666,
             "#ed7953"
            ],
            [
             0.7777777777777778,
             "#fb9f3a"
            ],
            [
             0.8888888888888888,
             "#fdca26"
            ],
            [
             1,
             "#f0f921"
            ]
           ]
          },
          "colorway": [
           "#636efa",
           "#EF553B",
           "#00cc96",
           "#ab63fa",
           "#FFA15A",
           "#19d3f3",
           "#FF6692",
           "#B6E880",
           "#FF97FF",
           "#FECB52"
          ],
          "font": {
           "color": "#2a3f5f"
          },
          "geo": {
           "bgcolor": "white",
           "lakecolor": "white",
           "landcolor": "#E5ECF6",
           "showlakes": true,
           "showland": true,
           "subunitcolor": "white"
          },
          "hoverlabel": {
           "align": "left"
          },
          "hovermode": "closest",
          "mapbox": {
           "style": "light"
          },
          "paper_bgcolor": "white",
          "plot_bgcolor": "#E5ECF6",
          "polar": {
           "angularaxis": {
            "gridcolor": "white",
            "linecolor": "white",
            "ticks": ""
           },
           "bgcolor": "#E5ECF6",
           "radialaxis": {
            "gridcolor": "white",
            "linecolor": "white",
            "ticks": ""
           }
          },
          "scene": {
           "xaxis": {
            "backgroundcolor": "#E5ECF6",
            "gridcolor": "white",
            "gridwidth": 2,
            "linecolor": "white",
            "showbackground": true,
            "ticks": "",
            "zerolinecolor": "white"
           },
           "yaxis": {
            "backgroundcolor": "#E5ECF6",
            "gridcolor": "white",
            "gridwidth": 2,
            "linecolor": "white",
            "showbackground": true,
            "ticks": "",
            "zerolinecolor": "white"
           },
           "zaxis": {
            "backgroundcolor": "#E5ECF6",
            "gridcolor": "white",
            "gridwidth": 2,
            "linecolor": "white",
            "showbackground": true,
            "ticks": "",
            "zerolinecolor": "white"
           }
          },
          "shapedefaults": {
           "line": {
            "color": "#2a3f5f"
           }
          },
          "ternary": {
           "aaxis": {
            "gridcolor": "white",
            "linecolor": "white",
            "ticks": ""
           },
           "baxis": {
            "gridcolor": "white",
            "linecolor": "white",
            "ticks": ""
           },
           "bgcolor": "#E5ECF6",
           "caxis": {
            "gridcolor": "white",
            "linecolor": "white",
            "ticks": ""
           }
          },
          "title": {
           "x": 0.05
          },
          "xaxis": {
           "automargin": true,
           "gridcolor": "white",
           "linecolor": "white",
           "ticks": "",
           "title": {
            "standoff": 15
           },
           "zerolinecolor": "white",
           "zerolinewidth": 2
          },
          "yaxis": {
           "automargin": true,
           "gridcolor": "white",
           "linecolor": "white",
           "ticks": "",
           "title": {
            "standoff": 15
           },
           "zerolinecolor": "white",
           "zerolinewidth": 2
          }
         }
        },
        "width": 450,
        "xaxis": {
         "anchor": "y",
         "domain": [
          0,
          1
         ],
         "linecolor": "black",
         "linewidth": 2,
         "range": [
          0,
          220
         ],
         "showline": true,
         "tickfont": {
          "size": 8
         },
         "title": {
          "font": {
           "size": 10
          },
          "text": "$(\\mathrm{Predicted} + \\mathrm{Ground} \\: \\mathrm{Truth})/2 \\: \\mathrm{(months)}$"
         },
         "type": "linear"
        },
        "yaxis": {
         "anchor": "x",
         "domain": [
          0,
          1
         ],
         "linecolor": "black",
         "linewidth": 2,
         "range": [
          -30,
          30
         ],
         "showline": true,
         "tickfont": {
          "size": 8
         },
         "title": {
          "font": {
           "size": 10
          },
          "text": "$\\mathrm{Predicted} - \\mathrm{Ground} \\: \\mathrm{Truth} \\: \\mathrm{(months)}$"
         },
         "type": "linear"
        }
       }
      },
      "image/png": "[encoded data removed]",
      "text/html": [
       "<div>                            <div id=\"d6ed2389-1de0-49b6-afc9-1d4188ed1d63\" class=\"plotly-graph-div\" style=\"height:205px; width:450px;\"></div>            <script type=\"text/javascript\">                require([\"plotly\"], function(Plotly) {                    window.PLOTLYENV=window.PLOTLYENV || {};                                    if (document.getElementById(\"d6ed2389-1de0-49b6-afc9-1d4188ed1d63\")) {                    Plotly.newPlot(                        \"d6ed2389-1de0-49b6-afc9-1d4188ed1d63\",                        [{\"hovertemplate\":\"x=%{x}<br>y=%{y}<extra></extra>\",\"legendgroup\":\"\",\"marker\":{\"color\":\"black\",\"opacity\":0.5,\"symbol\":\"circle\",\"size\":5},\"mode\":\"markers\",\"name\":\"\",\"orientation\":\"v\",\"showlegend\":false,\"x\":[204.4971371720547,183.11307525961263,168.44018151366635,157.44969782496145,134.64696876540052,128.0152882582554,114.34451412202958,86.72206378482272,153.20804697781395,142.1164989304408,122.90794473019434,134.90169116855515,118.05211871982098,81.62661971568642,161.2964902115425,102.61714184102264,204.4127260692964,180.24357231079966,158.67928354743214,153.1132861166812,139.4204779841695,102.80533881903145,89.54290893997552,83.14307185413114,186.91704223797723,163.14604423804363,158.2678859383114,156.7764261373267,152.15771528627823,149.9914493709411,130.7219011050181,118.79225165203721,86.78221662505203,71.88925117808348,50.39768157439289,87.01833119485303,82.79045011956296,129.22928228414003,117.43661876082928,92.14114912328508,71.44357228274694,43.50734923060836,46.371795576963876,46.814741466062486,55.95719745380555,99.78333408691793,128.0165324641845,153.89762051330854,165.9573391344364,163.8214618371286,174.80308290501466,173.41374446947287,26.82184100198574,34.944057286108404,105.4450622398859,158.7821046451562,149.48934080998302,97.4543215265052,116.30240147894618,138.2643452922628,145.02869276826686,119.62483563645861,74.67201120299637,88.0502077173694,134.14521498889036,166.83551261438643,158.6431066245285,191.27885494355272,171.71210041593906,177.44050576047,38.65089195332159,56.022113869501425,150.6999717472052,28.891627135046132,51.575196491753445,108.99768747083434,115.30253476798553,165.64115290100676,142.14062781655304,153.26972113754573,126.71642057201746,95.09195822394727,71.55299488385333,111.21235574464487,111.94487822331203,122.48806325664152,101.24160482620744,105.5415642574666,129.47043476406242,112.48906734630714,116.7622351481312,86.36955857068628,90.615997410801,76.53996317119973,80.57374102842434,71.12105013869432,76.56167940296275,88.06042206277729,52.276602267132816,61.74092678751711,89.74582354018591,81.66805587459797,96.9472846196355,125.63524973756435,113.68157290247615,127.30443080582825,75.07640582412714,137.7809407764296,111.98981686205263,50.1169127763375,72.99473189962393,70.2961503952767,102.63563858714821,101.27708953830654,115.52440577254782,148.59490056883044,140.2188564027889,45.77705720171076,142.26708862089356,96.61201346018251,129.28854981248347,124.87600042925027,49.08902492757333,68.10173946717651,84.46899279129659,91.11534299975591,58.32901541143316,78.3970060328502,144.24194094110354,128.57744406873132,57.48433066654981,101.84377794242293,103.765863815106,133.13298201894088,78.54054130323365,83.02074356424052,82.6672408240486,133.3024564491887,160.3966101239232,52.59605631733678,92.08558990641257,73.56711057523988,148.59194168137748,82.15460812421252,77.48406370320416,55.15112291949863,95.36829063203507,78.58489901056811,106.85945417979863,84.71241736919728,124.37347072617388,53.621135129368966,128.66039542537231,139.28396567406855,56.567025001261015,110.59850201121267,76.749071586756,120.14735226736522,91.89432781381218,134.16574286795537,110.76147537358156,85.91074479696742,44.085057502776394,29.47518242072983,7.0707361419267025,89.08350835900384,94.34684694098212,122.19480818146121,132.64442492847425,37.336432892999326,61.67513149534105,147.96106971978284,44.4309190312254,10.699668323807654,28.44006027926922,44.73146978285719,170.61445460037686,55.05690868922787,36.99195582826506,25.130192851453977,19.80749750562267,167.09601728771827,154.48591293392076,187.88335338634386,170.31131214381168,161.5731308049443,154.19124400484495,145.78520712118723,123.6876911266773,20.247392842657277,192.02293594730162,86.93858121056442,28.09765728102881,85.49321484046726,123.4759736265802,113.41105594046724,109.20569223775871,109.2102280587286,101.51488064413746,69.41527693677858,60.64408778457603,44.03884481711464,41.26940768392207,39.93705506762301,131.42793474029799,68.61990027300459,181.09648239802112,158.75270313974795,143.09236190155923,129.49100758259618,199.55027749947624,180.66873947030194,163.26734333382794,159.7550741384406,157.19985168493787,197.1340446373262,185.4831818425556,157.47635946245111,136.16088900412524,127.68974077669981,117.20696385808328,109.68388552268271,199.6856316547589,175.80006123257664,167.79431196335685,159.65882391853762,154.8626267832961,141.37978502124173,130.10489753827542,180.46621051468549,172.33707633252345,159.61718359427144,147.53554796398862,130.87727276283556,55.023767014941214,183.318424919443,163.38025787346783,144.3495745350508,131.47997118872297,121.2495837393156,112.63062530515896,90.16658917644583,79.55867597472565,72.7611550180903,56.02771586589654,111.9207295586215,92.83143244098326,87.085264823016,65.67948038022345,52.70076769843343,162.22902054157987,142.7029999511687,128.62563879314257,199.49464145504925,182.89968662360823,109.02705040492,123.21702872461951,87.01675290427033,56.030078479478455,42.361698811600434,26.487038036140255,63.32702929143238,40.61890492194075,41.90585631815675,160.18833012919845,46.84762645574665,152.95108602134405,164.33850226209182,138.71945860864753,47.151020257634286,74.61075059465642,50.9921429077928,24.652337099919002,147.871363954286,173.38447182735334,155.6826808576767,57.5418636360981,83.8084739905384,59.985522176434074,55.953444561435006,184.83122933510163,153.8608557146506,163.99627457867985,45.34759336096853,62.09622342333679,92.60892955181734,51.270441782590865,66.66824045014788,164.78330212964846,192.72959460241657,64.9514969997509,98.58177237701557,168.29284661080845,65.5485771072598,100.86250865639201,61.31875763584837,76.21688792141526,134.65848927607703,58.38749733252939,174.08982715610432,175.78986514489026,8.643683021208576,31.945188042933783,75.70226381638074,48.65307823611195,77.11083033232111,71.5286241080895,68.74268542123463,85.46627529851963,101.74062094290454,139.72954075534244,114.90144595003369,28.819170397009913,26.48892374767882,123.74767646644207,84.96784681111839,36.45456915230554,75.5236632611367,80.1512021813694,67.549310661718,116.8830885466204,17.821727921025847,133.98931247838573,107.37056237652243,18.605737339333473,150.55813118636183,113.36021847055596,24.915566170843505,97.98873735896561,50.70091447422389,85.22563654407236,73.90635191830026,79.13411933961913,187.90990338723864,85.42395281182743,84.66963794304212,53.62997137982585,131.10629893335954,71.69258585902163,91.0163314175498,121.72402455865907,45.6828610482474,119.3369352909591,78.74503848038438,111.89474816185498,81.35740949576581,159.238210851762,93.05475691119469,32.747196721825404,106.78802651366874,77.34428604832496,36.74656405676981,143.10179784809606,57.954731443100926,32.14704646150042,94.93995250049032,80.95525183197677,140.7190752715381,88.77737486856776,21.89407741441638,33.142728174623365,81.69841621150982,21.834771301161382,50.36610082981841,126.54488595518639,92.5561057402235,72.32680066492748,88.02494711203641,78.98476008808441,118.71710586510324,165.90339793681397,138.76842741557914,103.50369479730153,38.878461989328386,43.42539561617947,127.42327992216565,41.61693598704281,151.90256884318057,33.48623645463435,61.72096814646734,124.55228224445287,85.05104129656678,54.113049056409196,102.60629491219734,104.11855856189331,43.005989215037985,82.10070677539889,96.03009509414326,78.86671041357371,110.33700227949839,96.486956296024,135.80526302868037,128.48346622912527,46.17097907702497,37.2490546669185,70.12200460786318,81.05181751375582,159.53803028624395,133.10756369516116,92.15850899182402,65.42330740152474,104.35990057693681,31.547238757209776,58.89701740868003,52.03570758303776,28.739853784797162,116.36222119382941,49.17512476732229,63.17951190792192,105.6377197773605,101.16083624576368,84.38673223942541,52.3382412715751,44.912120918331524,132.43200870907413,165.81094465869262,40.571835170818005,76.67839013251742,140.68963906628352,120.02232665688211,90.80842942271309,131.05172126210647,103.59729776071313,39.56554970541096,72.95677026377837,48.64527344719875,20.970883788687196,94.14031993706614,98.72939406596177,128.00958653766196,60.011795286775396,38.842904227536266,141.84713650917973,122.01632452035085,54.09399620971553,58.67984912467625,145.0011683142428,51.04312401065229,148.083617372369,197.55972249091974,120.60506261080528,81.37079698292155,102.9678320317467,131.7375103313092,101.80827143333988,146.67267647080263,111.21841172622845,90.234494333078,48.50344834110216,42.228404774886386,158.14784594268298,41.490764140039886,126.66169937608385,97.20939037408772,143.29996862797955,50.02385995497983,62.246732335179146,58.99730837863124,120.05647722519458,133.30981655635821,66.71073418678678,73.46450673913823,60.28610198603273,33.455576906109684,156.8936400894612,127.7087637331237,158.95164784491516,73.43305502318745,30.240687515294265,88.37696134202767,28.348995885396825,45.4525277968668,108.10013161424791,145.72888183272153,109.36514342129985,156.1866036715133,100.98057220865176,95.03354798298705,57.69204937118225,112.7306324277172,52.207474111935745,180.43116131784106,149.09874177892576,73.65035394088312,64.71193560778502,138.30654358265903,158.12761101627865,139.26080296311034,51.36715461036282,37.20682234896317,163.99436418605904,132.93075839322822,155.42645662626887,168.04367541278975,137.94995893950164,127.22586088407985,125.19562556406595,75.63733854866899,74.00219890971889,159.7248612906829,65.5008760907676,84.522671060326,145.95351247128946,111.90105874717896,149.85037182131032,120.07690414406326,170.6264872058601,122.52708071384647,132.1680881405029,166.08597054277135,164.50752716515927,35.70574559013672,145.4867478826752,108.3602343755994,71.08860310386734,91.03933517776875,88.63262919833838,91.71654927947756,122.35233266813879,172.38037534689153,73.93686650148473,180.70302981597428,153.9468983416324,132.60200987808855,67.74138508867765,154.34451215293473,177.19764704295164,180.77841242780883,64.05502754952329,61.66047179875564,86.74105737227313,127.27171300244422,73.0641344325079,135.68752987830163,169.2649633609194,154.8721030434882,178.87085508145265,44.56892468261954,130.41118400312604,82.67892340507393,182.2995974459828,147.18408283407632,119.88920849795223,141.45924363357278,137.14027072245904,53.24122986648903,162.730713067894,156.32558601437432,175.3962346540249,73.20345811468991,136.19406400561326,150.63782011447745,64.60832729819182,54.51913561371969,145.0924444120696,127.40407828107,159.88253244231004,78.1648792695648,68.31419127301407,145.43310637400344,76.37513123355623,92.67426618718031,174.54716400598096,147.0071115241564,61.59684314548289,112.88524948647401,185.86238064719416,95.12328420562218,24.852328721376672,66.83672422851225,131.17567196216703,110.0816365984784,103.96859092605376,102.70771443025075,171.6637255119083,168.69263105263178,98.42110369643666,87.41829708938914,62.48603230846144,130.0822565702738,137.8072509622193,81.04342078266258,154.5819518616628,154.68342509069487,193.63644124833814,62.870130396412975,149.0941582148948,114.3744728511045,82.50906164249648,160.69670591084798,90.70451134926421,138.10571060003358,174.63030755226708,104.9054128289304,82.01854148508605,132.17032619596057,200.1830026019067,88.87065803223648,132.95114893947647,77.25759063197481,99.87556709454537,144.2696872441632,43.458088889472194,176.813767670391,179.7524368247362,92.16916649564857,108.61248228860333,161.30148408721448,163.0949082176535,108.30471319502678,164.21868591242873,72.97127629430744,69.17650191905963,91.40395890629418,52.96896505769317,149.44516153399857,25.729662663615166,125.55707704398915,123.09532900786157,52.439503347254686,192.1334918181,76.17326290387561,140.20060842048696,103.27158151246303,33.376934343682606,102.67557740728189,120.49034466063787,140.81769674805423,47.2422801021099,156.0721944837884,73.9283002081805,92.96522344225136,115.46137987573564,79.13320469324717,125.71983167785825,152.38055975813575,43.23051831844266,108.72034846165536,36.23305621466535,102.45299798066966,101.93411836433978,96.50908710711857,107.40498202380351,90.61983433711191,162.88030660184833,118.20648476238128,132.36884701588116,101.59201012601957,144.5224631715672,142.2486897989487,113.81865896597657,101.78759635430254,160.36239591948288,49.592618306626,39.055400876757425,124.70739605030207,163.69078657452354,132.46405856939853,81.37647812787623,109.36109952820348,134.31186860789177,33.100973839704196,90.50901301081873,205.18503208448143,55.90336498369706,159.2010294694021,138.99158000566234,104.04521325773882,145.73015825524476,130.6455257152444,44.48946806062361,119.26826521891323,112.45186273941253,161.9255400571647,142.96487033912064,179.95897626512408,94.40296151750323,122.56093740196664,146.84452729259078,113.71944324494237,109.6739407912662,100.7401046230276,94.20682271696722,147.96707482143302,123.27911352920235,69.41509681769287,120.87704124403106,179.60340739170846,42.28040757947528,65.7767746744243,113.87342908012661,109.24702675076904,165.7833359648314,126.27047174042676,70.73410603372116,56.544889891317496,139.89014091286873,126.95424040854198,121.09274243517926,176.4072674930565,148.3365586488904,124.03454543399178],\"xaxis\":\"x\",\"y\":[12.994274344109385,0.2261505192252855,6.880363027332692,2.8993956499228943,23.29393753080103,16.03057651651079,9.689028244059159,20.44412756964546,0.4160939556279004,8.232997860881625,-12.184110539611325,-9.196617662889736,-3.895762560358051,-7.746760568627181,-7.4070195769149905,1.2342836820452874,6.825452138592794,0.48714462159929894,-0.6414329051357583,-23.77342776663758,-9.159044031660983,4.61067763806291,5.085817879951023,-4.713856291737741,7.834084475954427,4.292088476087258,-1.4642281233771826,4.5528522746533895,1.3154305725564939,-9.017101258117776,-8.556197789963804,-23.415496695925597,-0.4355667498959406,5.7785023561669675,4.795363148785782,-11.963337610293948,3.5809002391259384,0.45856456828008163,-5.126762478341448,-7.71770175342985,-1.1128554345061161,-8.985301538783276,8.743591153927746,0.6294829321249651,-14.08560509238891,25.56666817383585,10.033064928369015,7.795241026617077,-4.0853217311271806,9.642923674257162,-1.393834189970704,7.827488938945777,8.643682003971481,3.8881145722168,-11.1098755202282,-6.435790709687609,-7.021318380033961,8.908643053010408,10.60480295789236,-5.471309415474423,-9.942614463466242,5.249671272917226,5.34402240599276,-3.8995845652612076,-4.709570022219282,-2.328974771227138,-9.713786750942944,4.557709887105432,1.424200831878153,-5.118988479060022,-12.698216093356827,-1.9557722609971435,-10.60005650558955,3.7832542700922644,1.1503929835068973,-10.004625058331314,-3.3949304640289313,7.282305802013525,-9.71874436689393,12.539442275091432,-10.567158855965076,-7.8160835521054395,2.1059897677066743,18.42471148928972,-22.110243553375938,-4.023873486716951,-13.516790347585129,-10.916871485066778,0.9408695281248356,14.978134692614276,-6.475529703737607,-4.26088285862744,13.231994821602001,-8.920073657600526,11.14748205684866,-1.75789972261137,-2.8766411940744945,-0.8791558744454022,2.553204534265639,-2.518146424965785,5.491647080371806,19.33611174919595,-4.105430760729007,11.270499475128702,-15.636854195047704,5.6088616116564936,0.1528116482542572,5.561881552859148,-16.020366275894716,-4.766174447325,4.989463799247872,-0.40769920944659077,-10.72872282570357,-1.4458209233869184,-8.951188454904369,0.18980113766087925,-1.5622871944222254,4.554114403421529,2.5341772417870914,4.224026920365006,-5.42290037503308,0.7520008585005229,-3.8219501448533464,-1.7965210656469708,0.9379855825931571,-12.76931400048818,5.658030822866316,3.7940120657004,-11.516118117792928,-6.845111862537365,12.968661333099611,8.687555884845864,-2.4682723697879965,2.265964037881787,1.081082606467291,4.041487128481052,3.334481648097224,2.6049128983773926,2.7932202478464205,12.192112634673563,-1.8288201871748555,9.13422115047976,-2.816116637245017,-9.690783751574969,-4.031872593591686,2.3022458389972655,-13.263418735929847,1.1697980211362307,6.718908359597265,1.4248347383945799,-6.2530585476522305,-0.7577297412620609,-0.6792091492553993,2.5679313481371366,11.134050002522024,5.197004022425361,12.498143173512005,6.294704534730428,9.788655627624365,10.331485735910746,-12.477049252836878,9.821489593934842,1.1701150055527947,4.950364841459656,5.141472283853405,4.167016718007673,2.693693881964222,-1.6103836370775753,-4.711150143051498,14.67286578599866,-8.649737009317896,4.922139439565683,7.8618380624507935,0.39933664761530707,-3.11987944146156,5.462939565714386,-0.7710907992463092,2.1138173784557424,10.983911656530132,8.26038570290795,3.614995011245341,-1.8079654245634913,8.971825867841488,9.766706772687684,-1.3773757123766188,-21.853738390111374,-9.617511990310106,-14.429585757625574,-10.624617746645427,-1.5052143146854426,0.045871894603209284,-12.122837578871156,-6.804685437942382,-3.0135703190654795,12.951947253160398,13.822111880934486,2.4113844755174227,-15.579543882542808,-0.9702387117250879,0.8305538735571503,-10.711824430847933,4.07768963422928,4.538815367844144,-4.125889864753994,4.855869480595999,-6.760199453990822,2.1929647960422756,-6.4945937205041275,-4.81527619688157,6.982015165192365,9.100554998952475,1.3374789406039156,8.534686667655876,7.510148276881182,5.399703369875766,-1.7319107253476034,-1.0336363148888097,2.952718924902257,14.321778008250448,9.379481553399614,6.413927716166569,9.36777104536543,3.371263309517815,-8.399877534846752,-0.41137607328630565,4.317647837075242,0.7252535665921584,6.759570042483432,2.209795076550847,0.9324210293709996,-3.325847334953096,-4.765632811457124,-4.928904072022732,3.7545455256711193,5.047534029882428,12.636849838886008,-3.239484253064319,12.699149070101612,10.959942377445941,5.499167478631193,-14.738749389682084,6.333178352891636,3.1173519494512902,-10.477689963819373,-10.944568268206922,7.841459117243005,11.662864881966513,9.170529646032008,8.35896076044692,9.401535396866862,3.458041083159742,-11.594000097662615,2.2512775862851413,8.989282910098467,-0.2006267527835348,-9.945899190159992,18.43405744923902,27.03350580854068,22.06015695895691,6.723397623200867,-1.0259239277194894,6.654058582864764,0.23780984388149307,2.8117126363135085,2.3766602583969245,-2.3047470885067014,5.9021720426881075,-1.3229954758163842,-7.561082782704915,1.3020405152685726,2.2215011893128604,-0.015714184414406418,1.3046741998380007,-7.2572720914279785,1.7689436547066748,8.365361715353373,-1.9162727278037934,-0.3830520189231805,-0.028955647131851947,-2.0931108771299947,3.66245867020325,4.721711429301195,0.9925491573596901,-2.3048132780629444,-4.807553153326424,5.21785910363468,12.540883565181723,10.336480900295754,8.566604259296923,10.459189204833109,-2.0970060004981974,5.163544754031136,6.585693221616879,2.0971542145196196,3.7250173127840043,-0.36248472830325795,5.433775842830528,2.3169785521540973,-0.22500533494121555,12.179654312208669,3.5797302897805423,7.687366042417151,3.8903760858675653,-1.5954723672385143,-7.693843527776096,4.221660664642215,-0.9427517838209809,-6.5146291575307345,8.932550597039267,-3.5187581141909163,0.45908151068491065,7.802891900067365,-2.361659205980171,-7.0221525046423565,1.4953529328841597,-1.0643063777632307,3.9091383046110764,7.0473265222734085,4.302404362738798,-8.901378676564008,2.766177093240799,2.6434558420516936,21.978624956771483,-4.258875246955142,-10.788525321333056,1.1162623727236962,13.720436941111927,-4.168867658312987,9.97747471793123,2.4018289484477933,2.4512730881447027,3.8127038366005053,-3.7317613207617484,15.819806774477286,8.847905623654881,4.339275886084238,-3.740057240348314,1.2125978667190793,-0.6148282819567328,-3.9673371649003997,3.448049117318149,-4.6342779035052,13.673870581918194,-1.5099230392312393,-1.2105036762900596,0.7148189915316294,3.4764217035240392,0.10951382238935992,-0.5056065563491927,0.576053027337494,-1.311427903350065,-1.5068718864603667,4.203595696192082,-10.090537113798142,4.294092923000839,9.879905000980642,-3.08949633604648,2.4381505430762047,9.554749737135523,1.7881548288327593,-5.714543650753271,-1.60316757698034,-4.3304573976772325,-1.2677983403631785,13.089771910372775,-3.8877885195529984,0.6536013298549506,5.049894224072844,1.9695201761688281,6.4342117302064565,4.806795873627976,1.5368548311582515,9.007389594603083,-0.24307602134322792,-6.149208767641063,5.846559844331296,5.233871974085616,9.805137686361178,3.9724729092686957,3.4419362929346775,-2.895435511094263,-3.897917406866455,-2.7739018871816086,-1.7874101756053165,1.2371171237866037,2.0119784300759633,8.201413550797767,-2.939809811713488,-1.266579172852559,-1.3259954410032293,0.9739125920480092,7.610526057360715,-1.0330675417494461,-3.658041845950059,5.498109333836993,5.244009215726351,6.1036350275116575,7.076060572487904,-3.7848726096777057,-1.6829820163519429,-13.15338519695053,4.719801153873632,-2.9055224855804482,9.794034817360057,-3.928584833924475,3.4797075695943214,7.72444238765884,-3.6497504653554245,-5.640976184156159,-19.72456044527901,10.321672491527352,0.773464478850812,-3.3235174568497925,-6.175758163336944,0.8640174181482223,1.6218893173852678,6.143670341636017,15.356780265034857,8.37927813256701,3.044653313764229,4.616858845426179,22.103442524212966,3.1945955214262796,1.1310994108219248,-4.086459472443266,7.290546894397487,-0.05823242262560768,-0.7193601258677234,-0.5412118680764593,10.01917307532392,0.0235905735507842,11.685808455072525,-7.305726981640561,4.032649040701713,0.1879924194310476,-5.640301750647488,-3.9976633715144203,-5.913751978695423,-0.832765255262018,14.119444981839479,4.210125221610539,-11.25840603415692,1.9356640634934053,11.47502066261842,2.616542866679765,11.345352941605256,-23.563176547543094,6.468988666156022,7.006896682204314,-5.543190450227229,-1.7043081146340455,10.981528280079772,1.3233987521676767,2.418780748175436,-1.4000627440408948,-1.9522800900403396,4.493464670358293,3.9946167572624773,0.11295445038915375,-9.3803668872836,-1.5785316264264395,8.92901347827646,-11.427796027934534,0.9111538122193608,-4.212719821077627,-2.5824725337525933,-6.0967043101696845,2.8661100463748994,-2.5186249694114693,2.7539226840553255,2.6979917707936494,-5.094944406266407,0.20026322849584233,6.457763665443025,-9.269713157400318,12.373207343026593,9.96114441730353,4.067095965974076,-4.6159012576355,-2.5387351445656066,8.414948223871491,12.86232263568212,4.197483557851513,9.300707881766257,0.4238712155700597,0.6130871653180634,10.255222032557327,-0.4783940737793273,6.734309220725642,2.413644697926344,-2.011271627881939,-10.138483213543566,4.852913252537746,-2.9126491744205225,5.899917879003283,2.4517217681597003,-7.608748871868102,1.274677097337971,4.004397819437784,13.449722581365762,11.00175218153521,7.045342120652009,0.9070249425789427,10.80211749435793,-6.299256357379392,-5.846191711873487,-0.7470255882798256,-27.945838572307053,3.3361762810058337,2.17194108554267,2.015054330318577,-6.588508819726556,-9.026504234649622,-14.279531248801192,-10.822793792265315,14.078670355537497,-2.7347416033232292,6.4330985589551375,10.704665336277557,2.7607506937830237,3.873733002969459,7.406059631948551,-4.106203316735247,1.2040197561771038,9.482770177355306,2.6890243058694523,6.395294085903316,1.5568248556176627,-0.8899449009534237,-5.679056402488719,-3.5178852554537485,-9.456573995111583,-3.871731134984202,-4.624940243396708,8.529926721838848,0.7442060869764191,6.741710162905321,-6.862150634760923,-3.1776319937478945,3.357846810147862,4.599194891965624,6.3681656681526135,11.77841699590445,0.9184872671455651,-4.7194585550819,4.482459732978057,4.4614261357880025,-5.3488279712513815,5.792469308049817,14.406916229379803,5.3881280112265415,-7.724359771045101,6.216654596383663,-4.961728772560619,-0.8151111758608351,11.808156562139999,4.765064884620045,0.32975853912962805,-1.371617453971865,-6.1337872519931125,5.750262467112478,-0.6514676256393841,7.094328011961892,-2.985776951687228,0.19368629096578616,-2.2295010270519953,2.7247612943883155,-1.7534315887556318,1.7046574427533443,7.67344845702452,1.35134392433406,16.163273196956794,0.9371818521075426,-1.5845711394985074,-1.6725489761834353,-1.6147378947364643,-4.157792607126694,6.8365941787782845,16.97206461692288,5.164513140547626,8.614501924438656,-5.913158434674841,3.1639037233256033,-2.633149818610235,9.27288249667626,-0.259739207174043,-1.8116835702103913,-5.251054297791001,9.018123284992967,-14.606588178304008,19.409022698528418,15.21142120006715,1.2606151045341392,-3.1891743421392107,8.037082970172094,-5.659347608078889,16.366005203813444,-5.258683935527046,7.902297878952936,1.5151812639496,7.751134189090763,3.5393744883264446,-0.08382222105560544,5.6275353407820035,5.504873649472415,1.3383329912971362,-4.775035422793351,4.60296817442898,2.189816435307023,-5.390573609946443,7.4373718248574505,7.942552588614902,0.35300383811924974,-9.192082187411629,3.9379301153863437,4.890323067997144,-2.540674672769672,-6.885845912021708,6.19065801572313,-3.120993305490636,6.2669836361999955,-0.6534741922487939,4.401216840973916,-3.4568369750739265,-5.2461313126347875,-10.648845185436215,-5.0193106787242385,-6.364606503891508,-7.515439795780189,0.14438896757675934,-2.1433995836390096,8.930446884502715,2.9227597514712897,14.266409386494317,-0.5603366442835096,7.7611195162715205,-9.538963363114675,1.4406969233107247,-2.5338875706693003,-5.094004038660657,23.868236728679577,1.018174214237149,-13.190035952392961,7.239668674223836,-7.239386796303336,-9.587030475237441,6.737694031762317,2.1840202520391614,4.044926343134392,11.497379597897407,-12.36268206804688,11.575192708605073,2.7247918389657286,0.1852366132520018,3.110801753514849,3.4147921006041457,6.381573149047085,12.928117138797063,-2.247043744247563,2.72219905640695,10.623737215783564,-2.7980523205916086,4.018026021637482,2.3700641689628696,-2.193270032605888,3.402058938804174,13.983160011324685,13.09042651547766,6.460316510489548,9.29105143048875,-1.0210638787527841,-7.463469562173557,20.903725478825066,-0.1489198856705798,3.929740678241302,11.917952530248158,8.805923035006444,-0.8781251960667049,11.689054585181566,5.438886489884737,-2.652118417467591,3.4802092460552245,-3.586354566065566,1.934149642866032,6.558227058404697,-5.169806364614246,7.754082488062139,5.206814783416888,-2.439184841049439,5.553549348848591,14.74685816025324,14.49405350153809,1.5666719296628173,-5.459056519146486,-8.531787932557677,-12.910220217365008,3.7802818257374895,1.9084808170839551,-6.814515129641478,-1.1854650138869829,2.6731172977807773,-6.930909132016424],\"yaxis\":\"y\",\"type\":\"scatter\"}],                        {\"template\":{\"data\":{\"histogram2dcontour\":[{\"type\":\"histogram2dcontour\",\"colorbar\":{\"outlinewidth\":0,\"ticks\":\"\"},\"colorscale\":[[0.0,\"#0d0887\"],[0.1111111111111111,\"#46039f\"],[0.2222222222222222,\"#7201a8\"],[0.3333333333333333,\"#9c179e\"],[0.4444444444444444,\"#bd3786\"],[0.5555555555555556,\"#d8576b\"],[0.6666666666666666,\"#ed7953\"],[0.7777777777777778,\"#fb9f3a\"],[0.8888888888888888,\"#fdca26\"],[1.0,\"#f0f921\"]]}],\"choropleth\":[{\"type\":\"choropleth\",\"colorbar\":{\"outlinewidth\":0,\"ticks\":\"\"}}],\"histogram2d\":[{\"type\":\"histogram2d\",\"colorbar\":{\"outlinewidth\":0,\"ticks\":\"\"},\"colorscale\":[[0.0,\"#0d0887\"],[0.1111111111111111,\"#46039f\"],[0.2222222222222222,\"#7201a8\"],[0.3333333333333333,\"#9c179e\"],[0.4444444444444444,\"#bd3786\"],[0.5555555555555556,\"#d8576b\"],[0.6666666666666666,\"#ed7953\"],[0.7777777777777778,\"#fb9f3a\"],[0.8888888888888888,\"#fdca26\"],[1.0,\"#f0f921\"]]}],\"heatmap\":[{\"type\":\"heatmap\",\"colorbar\":{\"outlinewidth\":0,\"ticks\":\"\"},\"colorscale\":[[0.0,\"#0d0887\"],[0.1111111111111111,\"#46039f\"],[0.2222222222222222,\"#7201a8\"],[0.3333333333333333,\"#9c179e\"],[0.4444444444444444,\"#bd3786\"],[0.5555555555555556,\"#d8576b\"],[0.6666666666666666,\"#ed7953\"],[0.7777777777777778,\"#fb9f3a\"],[0.8888888888888888,\"#fdca26\"],[1.0,\"#f0f921\"]]}],\"heatmapgl\":[{\"type\":\"heatmapgl\",\"colorbar\":{\"outlinewidth\":0,\"ticks\":\"\"},\"colorscale\":[[0.0,\"#0d0887\"],[0.1111111111111111,\"#46039f\"],[0.2222222222222222,\"#7201a8\"],[0.3333333333333333,\"#9c179e\"],[0.4444444444444444,\"#bd3786\"],[0.5555555555555556,\"#d8576b\"],[0.6666666666666666,\"#ed7953\"],[0.7777777777777778,\"#fb9f3a\"],[0.8888888888888888,\"#fdca26\"],[1.0,\"#f0f921\"]]}],\"contourcarpet\":[{\"type\":\"contourcarpet\",\"colorbar\":{\"outlinewidth\":0,\"ticks\":\"\"}}],\"contour\":[{\"type\":\"contour\",\"colorbar\":{\"outlinewidth\":0,\"ticks\":\"\"},\"colorscale\":[[0.0,\"#0d0887\"],[0.1111111111111111,\"#46039f\"],[0.2222222222222222,\"#7201a8\"],[0.3333333333333333,\"#9c179e\"],[0.4444444444444444,\"#bd3786\"],[0.5555555555555556,\"#d8576b\"],[0.6666666666666666,\"#ed7953\"],[0.7777777777777778,\"#fb9f3a\"],[0.8888888888888888,\"#fdca26\"],[1.0,\"#f0f921\"]]}],\"surface\":[{\"type\":\"surface\",\"colorbar\":{\"outlinewidth\":0,\"ticks\":\"\"},\"colorscale\":[[0.0,\"#0d0887\"],[0.1111111111111111,\"#46039f\"],[0.2222222222222222,\"#7201a8\"],[0.3333333333333333,\"#9c179e\"],[0.4444444444444444,\"#bd3786\"],[0.5555555555555556,\"#d8576b\"],[0.6666666666666666,\"#ed7953\"],[0.7777777777777778,\"#fb9f3a\"],[0.8888888888888888,\"#fdca26\"],[1.0,\"#f0f921\"]]}],\"mesh3d\":[{\"type\":\"mesh3d\",\"colorbar\":{\"outlinewidth\":0,\"ticks\":\"\"}}],\"scatter\":[{\"fillpattern\":{\"fillmode\":\"overlay\",\"size\":10,\"solidity\":0.2},\"type\":\"scatter\"}],\"parcoords\":[{\"type\":\"parcoords\",\"line\":{\"colorbar\":{\"outlinewidth\":0,\"ticks\":\"\"}}}],\"scatterpolargl\":[{\"type\":\"scatterpolargl\",\"marker\":{\"colorbar\":{\"outlinewidth\":0,\"ticks\":\"\"}}}],\"bar\":[{\"error_x\":{\"color\":\"#2a3f5f\"},\"error_y\":{\"color\":\"#2a3f5f\"},\"marker\":{\"line\":{\"color\":\"#E5ECF6\",\"width\":0.5},\"pattern\":{\"fillmode\":\"overlay\",\"size\":10,\"solidity\":0.2}},\"type\":\"bar\"}],\"scattergeo\":[{\"type\":\"scattergeo\",\"marker\":{\"colorbar\":{\"outlinewidth\":0,\"ticks\":\"\"}}}],\"scatterpolar\":[{\"type\":\"scatterpolar\",\"marker\":{\"colorbar\":{\"outlinewidth\":0,\"ticks\":\"\"}}}],\"histogram\":[{\"marker\":{\"pattern\":{\"fillmode\":\"overlay\",\"size\":10,\"solidity\":0.2}},\"type\":\"histogram\"}],\"scattergl\":[{\"type\":\"scattergl\",\"marker\":{\"colorbar\":{\"outlinewidth\":0,\"ticks\":\"\"}}}],\"scatter3d\":[{\"type\":\"scatter3d\",\"line\":{\"colorbar\":{\"outlinewidth\":0,\"ticks\":\"\"}},\"marker\":{\"colorbar\":{\"outlinewidth\":0,\"ticks\":\"\"}}}],\"scattermapbox\":[{\"type\":\"scattermapbox\",\"marker\":{\"colorbar\":{\"outlinewidth\":0,\"ticks\":\"\"}}}],\"scatterternary\":[{\"type\":\"scatterternary\",\"marker\":{\"colorbar\":{\"outlinewidth\":0,\"ticks\":\"\"}}}],\"scattercarpet\":[{\"type\":\"scattercarpet\",\"marker\":{\"colorbar\":{\"outlinewidth\":0,\"ticks\":\"\"}}}],\"carpet\":[{\"aaxis\":{\"endlinecolor\":\"#2a3f5f\",\"gridcolor\":\"white\",\"linecolor\":\"white\",\"minorgridcolor\":\"white\",\"startlinecolor\":\"#2a3f5f\"},\"baxis\":{\"endlinecolor\":\"#2a3f5f\",\"gridcolor\":\"white\",\"linecolor\":\"white\",\"minorgridcolor\":\"white\",\"startlinecolor\":\"#2a3f5f\"},\"type\":\"carpet\"}],\"table\":[{\"cells\":{\"fill\":{\"color\":\"#EBF0F8\"},\"line\":{\"color\":\"white\"}},\"header\":{\"fill\":{\"color\":\"#C8D4E3\"},\"line\":{\"color\":\"white\"}},\"type\":\"table\"}],\"barpolar\":[{\"marker\":{\"line\":{\"color\":\"#E5ECF6\",\"width\":0.5},\"pattern\":{\"fillmode\":\"overlay\",\"size\":10,\"solidity\":0.2}},\"type\":\"barpolar\"}],\"pie\":[{\"automargin\":true,\"type\":\"pie\"}]},\"layout\":{\"autotypenumbers\":\"strict\",\"colorway\":[\"#636efa\",\"#EF553B\",\"#00cc96\",\"#ab63fa\",\"#FFA15A\",\"#19d3f3\",\"#FF6692\",\"#B6E880\",\"#FF97FF\",\"#FECB52\"],\"font\":{\"color\":\"#2a3f5f\"},\"hovermode\":\"closest\",\"hoverlabel\":{\"align\":\"left\"},\"paper_bgcolor\":\"white\",\"plot_bgcolor\":\"#E5ECF6\",\"polar\":{\"bgcolor\":\"#E5ECF6\",\"angularaxis\":{\"gridcolor\":\"white\",\"linecolor\":\"white\",\"ticks\":\"\"},\"radialaxis\":{\"gridcolor\":\"white\",\"linecolor\":\"white\",\"ticks\":\"\"}},\"ternary\":{\"bgcolor\":\"#E5ECF6\",\"aaxis\":{\"gridcolor\":\"white\",\"linecolor\":\"white\",\"ticks\":\"\"},\"baxis\":{\"gridcolor\":\"white\",\"linecolor\":\"white\",\"ticks\":\"\"},\"caxis\":{\"gridcolor\":\"white\",\"linecolor\":\"white\",\"ticks\":\"\"}},\"coloraxis\":{\"colorbar\":{\"outlinewidth\":0,\"ticks\":\"\"}},\"colorscale\":{\"sequential\":[[0.0,\"#0d0887\"],[0.1111111111111111,\"#46039f\"],[0.2222222222222222,\"#7201a8\"],[0.3333333333333333,\"#9c179e\"],[0.4444444444444444,\"#bd3786\"],[0.5555555555555556,\"#d8576b\"],[0.6666666666666666,\"#ed7953\"],[0.7777777777777778,\"#fb9f3a\"],[0.8888888888888888,\"#fdca26\"],[1.0,\"#f0f921\"]],\"sequentialminus\":[[0.0,\"#0d0887\"],[0.1111111111111111,\"#46039f\"],[0.2222222222222222,\"#7201a8\"],[0.3333333333333333,\"#9c179e\"],[0.4444444444444444,\"#bd3786\"],[0.5555555555555556,\"#d8576b\"],[0.6666666666666666,\"#ed7953\"],[0.7777777777777778,\"#fb9f3a\"],[0.8888888888888888,\"#fdca26\"],[1.0,\"#f0f921\"]],\"diverging\":[[0,\"#8e0152\"],[0.1,\"#c51b7d\"],[0.2,\"#de77ae\"],[0.3,\"#f1b6da\"],[0.4,\"#fde0ef\"],[0.5,\"#f7f7f7\"],[0.6,\"#e6f5d0\"],[0.7,\"#b8e186\"],[0.8,\"#7fbc41\"],[0.9,\"#4d9221\"],[1,\"#276419\"]]},\"xaxis\":{\"gridcolor\":\"white\",\"linecolor\":\"white\",\"ticks\":\"\",\"title\":{\"standoff\":15},\"zerolinecolor\":\"white\",\"automargin\":true,\"zerolinewidth\":2},\"yaxis\":{\"gridcolor\":\"white\",\"linecolor\":\"white\",\"ticks\":\"\",\"title\":{\"standoff\":15},\"zerolinecolor\":\"white\",\"automargin\":true,\"zerolinewidth\":2},\"scene\":{\"xaxis\":{\"backgroundcolor\":\"#E5ECF6\",\"gridcolor\":\"white\",\"linecolor\":\"white\",\"showbackground\":true,\"ticks\":\"\",\"zerolinecolor\":\"white\",\"gridwidth\":2},\"yaxis\":{\"backgroundcolor\":\"#E5ECF6\",\"gridcolor\":\"white\",\"linecolor\":\"white\",\"showbackground\":true,\"ticks\":\"\",\"zerolinecolor\":\"white\",\"gridwidth\":2},\"zaxis\":{\"backgroundcolor\":\"#E5ECF6\",\"gridcolor\":\"white\",\"linecolor\":\"white\",\"showbackground\":true,\"ticks\":\"\",\"zerolinecolor\":\"white\",\"gridwidth\":2}},\"shapedefaults\":{\"line\":{\"color\":\"#2a3f5f\"}},\"annotationdefaults\":{\"arrowcolor\":\"#2a3f5f\",\"arrowhead\":0,\"arrowwidth\":1},\"geo\":{\"bgcolor\":\"white\",\"landcolor\":\"#E5ECF6\",\"subunitcolor\":\"white\",\"showland\":true,\"showlakes\":true,\"lakecolor\":\"white\"},\"title\":{\"x\":0.05},\"mapbox\":{\"style\":\"light\"}}},\"xaxis\":{\"anchor\":\"y\",\"domain\":[0.0,1.0],\"title\":{\"text\":\"$(\\\\mathrm{Predicted} + \\\\mathrm{Ground} \\\\: \\\\mathrm{Truth})/2 \\\\: \\\\mathrm{(months)}$\",\"font\":{\"size\":10}},\"range\":[0,220],\"showline\":true,\"linewidth\":2,\"linecolor\":\"black\",\"tickfont\":{\"size\":8}},\"yaxis\":{\"anchor\":\"x\",\"domain\":[0.0,1.0],\"title\":{\"text\":\"$\\\\mathrm{Predicted} - \\\\mathrm{Ground} \\\\: \\\\mathrm{Truth} \\\\: \\\\mathrm{(months)}$\",\"font\":{\"size\":10}},\"range\":[-30,30],\"showline\":true,\"linewidth\":2,\"linecolor\":\"black\",\"tickfont\":{\"size\":8}},\"legend\":{\"tracegroupgap\":0,\"title\":{\"text\":\"  \"}},\"margin\":{\"t\":0,\"l\":0,\"r\":0,\"b\":0},\"height\":205,\"width\":450,\"shapes\":[{\"line\":{\"dash\":\"dash\"},\"type\":\"line\",\"x0\":0,\"x1\":260,\"y0\":14.786929790230056,\"y1\":14.786929790230056},{\"line\":{\"dash\":\"dash\"},\"type\":\"line\",\"x0\":0,\"x1\":260,\"y0\":-14.786929790230056,\"y1\":-14.786929790230056},{\"line\":{\"dash\":\"dot\"},\"type\":\"line\",\"x0\":0,\"x1\":260,\"y0\":1.4001220471259126,\"y1\":1.4001220471259126}],\"plot_bgcolor\":\"rgba(0,0,0,0)\"},                        {\"responsive\": true}                    ).then(function(){\n",
       "                            \n",
       "var gd = document.getElementById('d6ed2389-1de0-49b6-afc9-1d4188ed1d63');\n",
       "var x = new MutationObserver(function (mutations, observer) {{\n",
       "        var display = window.getComputedStyle(gd).display;\n",
       "        if (!display || display === 'none') {{\n",
       "            console.log([gd, 'removed!']);\n",
       "            Plotly.purge(gd);\n",
       "            observer.disconnect();\n",
       "        }}\n",
       "}});\n",
       "\n",
       "// Listen for the removal of the full notebook cells\n",
       "var notebookContainer = gd.closest('#notebook-container');\n",
       "if (notebookContainer) {{\n",
       "    x.observe(notebookContainer, {childList: true});\n",
       "}}\n",
       "\n",
       "// Listen for the clearing of the current output cell\n",
       "var outputEl = gd.closest('.output');\n",
       "if (outputEl) {{\n",
       "    x.observe(outputEl, {childList: true});\n",
       "}}\n",
       "\n",
       "                        })                };                });            </script>        </div>"
      ]
     },
     "metadata": {},
     "output_type": "display_data"
    }
   ],
   "source": [
    "import plotly.graph_objects as go\n",
    "labels={\"sex\": \"Sex\"}\n",
    "\n",
    "\n",
    "fig = px.scatter(two_BA, x=(two_BA['ba_two_raters']+two_BA['y_hat'])/2,y=difference, \n",
    "                  width=450, height=205, labels=None, opacity=0.5, color_discrete_sequence=['black'])\n",
    "\n",
    "fig.update_traces(marker={'size': 5})\n",
    "\n",
    "\n",
    "\n",
    "fig.update_layout(legend_title = \"  \")    \n",
    "\n",
    "# conf interval\n",
    "fig.add_shape(type=\"line\",\n",
    "              x0=0, \n",
    "              y0=1.96*np.std(difference), \n",
    "              x1=260, \n",
    "              y1=1.96*np.std(difference), line_dash=\"dash\")\n",
    "\n",
    "fig.add_shape(type=\"line\",\n",
    "              x0=0, \n",
    "              y0=-1.96*np.std(difference), \n",
    "              x1=260, \n",
    "              y1=-1.96*np.std(difference), line_dash=\"dash\")\n",
    "\n",
    "\n",
    "\n",
    "\n",
    "fig.add_shape(type=\"line\",\n",
    "              x0=0, \n",
    "              y0=np.mean(difference), \n",
    "              x1=260, \n",
    "              y1=np.mean(difference), line_dash=\"dot\")\n",
    "\n",
    "\n",
    "\n",
    "fig.update_layout(yaxis_range=[-30,30],xaxis_range=[0,220])\n",
    "\n",
    "fig.update_xaxes(title_text='$(\\mathrm{Predicted} + \\mathrm{Ground} \\: \\mathrm{Truth})/2 \\: \\mathrm{(months)}$')\n",
    "ytitle='$\\mathrm{Predicted} - \\mathrm{Ground} \\: \\mathrm{Truth} \\: \\mathrm{(months)}$'\n",
    "fig.update_yaxes(title_text=ytitle)\n",
    "\n",
    "fig.update_layout(\n",
    "    margin=dict(l=0,r=0,b=0,t=0),\n",
    "    plot_bgcolor='rgba(0,0,0,0)')\n",
    "fig.update_xaxes(showline=True, linewidth=2, linecolor='black')\n",
    "fig.update_yaxes(showline=True, linewidth=2, linecolor='black')\n",
    "\n",
    "\n",
    "# fig.add_annotation(x=220, y=2.2*np.std(difference),\n",
    "#             text=\"$+1.96\\:\\sigma$\",\n",
    "#             showarrow=False,\n",
    "#             yshift=1)\n",
    "\n",
    "# fig.add_annotation(x=220, y=-2.2*np.std(difference),\n",
    "#             text=\"$-1.96\\:\\sigma$\",\n",
    "#             showarrow=False,\n",
    "#             yshift=1)\n",
    "\n",
    "# fig.add_annotation(x=220, y=np.mean(difference)+1,\n",
    "#             text=\"$\\overline{\\Delta}=1.4$\",\n",
    "#             showarrow=False,\n",
    "#             yshift=10)\n",
    "\n",
    "# fig.update_annotations(font_size=50)\n",
    "\n",
    "fig.update_yaxes(title_font=dict(size=10),tickfont_size=8)\n",
    "fig.update_xaxes(title_font=dict(size=10),tickfont_size=8)\n",
    "\n",
    "fig.write_image(\"Bland_Altman_monocolor.pdf\", scale=1.0)\n",
    "\n",
    "fig.show()"
   ]
  },
  {
   "cell_type": "code",
   "execution_count": null,
   "metadata": {},
   "outputs": [],
   "source": []
  }
 ],
 "metadata": {
  "kernelspec": {
   "display_name": "Python 3",
   "language": "python",
   "name": "python3"
  },
  "language_info": {
   "codemirror_mode": {
    "name": "ipython",
    "version": 3
   },
   "file_extension": ".py",
   "mimetype": "text/x-python",
   "name": "python",
   "nbconvert_exporter": "python",
   "pygments_lexer": "ipython3",
   "version": "3.8.5"
  }
 },
 "nbformat": 4,
 "nbformat_minor": 4
}
