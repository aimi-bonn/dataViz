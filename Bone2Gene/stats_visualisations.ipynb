{
 "cells": [
  {
   "cell_type": "code",
   "execution_count": null,
   "metadata": {},
   "outputs": [],
   "source": [
    "import numpy as np\n",
    "import pandas as pd\n",
    "import plotly.express as px"
   ]
  },
  {
   "cell_type": "code",
   "execution_count": null,
   "metadata": {},
   "outputs": [],
   "source": [
    "data=pd.read_csv(\"annotation_31032023.csv\", sep=',', header=0)\n"
   ]
  },
  {
   "cell_type": "code",
   "execution_count": null,
   "metadata": {},
   "outputs": [],
   "source": [
    "print(data.keys())\n",
    "print(data.shape)\n",
    "data.head()"
   ]
  },
  {
   "cell_type": "code",
   "execution_count": null,
   "metadata": {},
   "outputs": [],
   "source": [
    "fig1 = px.histogram(data, x='image_source', width=600, height=500)\n",
    "fig1.show()"
   ]
  },
  {
   "cell_type": "code",
   "execution_count": null,
   "metadata": {},
   "outputs": [],
   "source": [
    "# removing kaggle data\n",
    "data_without_kaggle=data.loc[data['image_source'] != 'kaggle']\n",
    "\n",
    "# removing dha data\n",
    "data_without_dha_and_kaggle=data_without_kaggle.loc[data_without_kaggle['image_source'] != 'la_dha']\n",
    "\n",
    "# removing \"downloaded\" \n",
    "subdata=data_without_dha_and_kaggle.loc[data_without_dha_and_kaggle['image_source'] != 'downloaded']"
   ]
  },
  {
   "cell_type": "code",
   "execution_count": null,
   "metadata": {},
   "outputs": [],
   "source": [
    "print(subdata['disorder'].unique())"
   ]
  },
  {
   "cell_type": "code",
   "execution_count": null,
   "metadata": {},
   "outputs": [],
   "source": [
    "disorder_counts=subdata['disorder'].value_counts()"
   ]
  },
  {
   "cell_type": "code",
   "execution_count": null,
   "metadata": {},
   "outputs": [],
   "source": [
    "disorders=disorder_counts.index\n",
    "disorders"
   ]
  },
  {
   "cell_type": "code",
   "execution_count": null,
   "metadata": {},
   "outputs": [],
   "source": [
    "fig1 = px.histogram(subdata, x='image_source',width=600, height=500)\n",
    "fig1.show()"
   ]
  },
  {
   "cell_type": "code",
   "execution_count": null,
   "metadata": {},
   "outputs": [],
   "source": [
    "fig = px.histogram(subdata, x=\"disorder\",log_y=True, color='image_source', color_discrete_sequence=['#ff3333','#6666ff','#00cc66','goldenrod','magenta'],\n",
    "                  width=1000, height=400)\n",
    "\n",
    "category_names= ['No Disorder', 'Ullrich-Turner', 'SHOX Mutation', 'Noonan', 'Achondroplasia', 'Silver-Russel',\n",
    "       'PsPHT', 'IUGR', 'HyCh', 'XLH', 'Ollier Disease', 'Maffucci', 'Proteus', 'Bardet-Biedl',\n",
    "       'MAS', 'Marfan', 'Down', 'PsPsPHT', 'Homocystinuria', 'Albinism',\n",
    "       'MPS IIIA', 'Neurfibs', 'Willebrand', 'CAH', 'Duchenne',\n",
    "       'Ehlers-Danlos', 'DiGeorge', 'Luscan-Lumish']\n",
    "\n",
    "\n",
    "fig.update_xaxes(categoryorder='array', categoryarray=disorders, tickangle=45, ticktext=category_names, tickvals=disorders,\n",
    "tickfont = dict(size=15))\n",
    "\n",
    "for i in range(len(fig.data)):\n",
    "    if fig.data[i].name=='scan_magd':\n",
    "        fig.data[i].name='Magdeburg'\n",
    "    if fig.data[i].name=='public':\n",
    "        fig.data[i].name='Publications'\n",
    "    if fig.data[i].name=='scan_bonn':\n",
    "        fig.data[i].name='Bonn'\n",
    "    if fig.data[i].name=='scan_leip':\n",
    "        fig.data[i].name='Leipzig'\n",
    "    if fig.data[i].name=='scan_geo':\n",
    "        fig.data[i].name='Tbilisi'\n",
    "        \n",
    "fig.update_yaxes(title_text='Image Count')\n",
    "fig.update_xaxes(title_text='')\n",
    "fig.update_layout(legend_title_text='Source')\n",
    "fig.update_layout(margin=dict(l=0,r=0,b=0,t=0))\n",
    "\n",
    "        \n",
    "fig.show()\n",
    "fig.write_image(\"Disorders_image_hist.pdf\", scale=2)\n"
   ]
  },
  {
   "cell_type": "code",
   "execution_count": null,
   "metadata": {},
   "outputs": [],
   "source": [
    "for i in range(len(fig.data)):\n",
    "    print(fig.data[i].name)"
   ]
  },
  {
   "cell_type": "code",
   "execution_count": null,
   "metadata": {},
   "outputs": [],
   "source": [
    "# patients\n",
    "group = subdata.groupby('patient_ID')\n",
    "\n",
    "df2 = group.apply(lambda x: x['image_source'].unique())\n",
    "df3 = group.apply(lambda x: x['disorder'].unique())\n",
    "\n",
    "df2 = df2.apply(pd.Series)\n",
    "df3 = df3.apply(pd.Series)\n",
    "\n",
    "patients=pd.merge(df2,df3,left_on='patient_ID',right_on='patient_ID')\n",
    "\n",
    "patients=patients.rename(columns={\"0_x\": \"image_source\", \"0_y\": \"disorder\"})\n",
    "\n",
    "patients"
   ]
  },
  {
   "cell_type": "code",
   "execution_count": null,
   "metadata": {},
   "outputs": [],
   "source": [
    "fig = px.histogram(patients, x=\"disorder\",log_y=True, color='image_source', color_discrete_sequence=['goldenrod','#ff3333','#00cc66','magenta','#6666ff'],\n",
    "                  width=1000, height=400)\n",
    "fig.update_xaxes(categoryorder='array', categoryarray=disorders)\n",
    "\n",
    "for i in range(len(fig.data)):\n",
    "    if fig.data[i].name=='scan_magd':\n",
    "        fig.data[i].name='Magdeburg'\n",
    "    if fig.data[i].name=='public':\n",
    "        fig.data[i].name='Publications'\n",
    "    if fig.data[i].name=='scan_bonn':\n",
    "        fig.data[i].name='Bonn'\n",
    "    if fig.data[i].name=='scan_leip':\n",
    "        fig.data[i].name='Leipzig'\n",
    "    if fig.data[i].name=='scan_geo':\n",
    "        fig.data[i].name='Tbilisi'\n",
    " \n",
    "\n",
    "fig.update_yaxes(title_text='Patient Count')\n",
    "fig.update_xaxes(title_text='')\n",
    "\n",
    "fig.update_layout(legend_title_text='Source')\n",
    "fig.update_layout(margin=dict(l=0,r=0,b=0,t=0))\n",
    "\n",
    "\n",
    "fig.write_image(\"Disorders_patient_hist.pdf\", scale=2)\n",
    "\n",
    "fig.show()"
   ]
  },
  {
   "cell_type": "code",
   "execution_count": null,
   "metadata": {},
   "outputs": [],
   "source": []
  }
 ],
 "metadata": {
  "kernelspec": {
   "display_name": "Python 3",
   "language": "python",
   "name": "python3"
  },
  "language_info": {
   "codemirror_mode": {
    "name": "ipython",
    "version": 3
   },
   "file_extension": ".py",
   "mimetype": "text/x-python",
   "name": "python",
   "nbconvert_exporter": "python",
   "pygments_lexer": "ipython3",
   "version": "3.8.5"
  }
 },
 "nbformat": 4,
 "nbformat_minor": 4
}
